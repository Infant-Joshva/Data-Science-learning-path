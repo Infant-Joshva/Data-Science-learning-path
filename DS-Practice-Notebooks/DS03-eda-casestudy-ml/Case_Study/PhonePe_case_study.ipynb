{
  "nbformat": 4,
  "nbformat_minor": 0,
  "metadata": {
    "colab": {
      "provenance": [],
      "authorship_tag": "ABX9TyMkHX7c+q7Wg9UQ3Wm9YI/u",
      "include_colab_link": true
    },
    "kernelspec": {
      "name": "python3",
      "display_name": "Python 3"
    },
    "language_info": {
      "name": "python"
    }
  },
  "cells": [
    {
      "cell_type": "markdown",
      "metadata": {
        "id": "view-in-github",
        "colab_type": "text"
      },
      "source": [
        "<a href=\"https://colab.research.google.com/github/Infant-Joshva/Data-Science-learning-path/blob/main/PhonePay_case_study.ipynb\" target=\"_parent\"><img src=\"https://colab.research.google.com/assets/colab-badge.svg\" alt=\"Open In Colab\"/></a>"
      ]
    },
    {
      "cell_type": "markdown",
      "source": [
        "#### Phonepe case study"
      ],
      "metadata": {
        "id": "7jmqsoARxyM1"
      }
    },
    {
      "cell_type": "code",
      "execution_count": null,
      "metadata": {
        "id": "8wqs6CZ6N5jz"
      },
      "outputs": [],
      "source": [
        "!git clone https://github.com/PhonePe/pulse.git"
      ]
    },
    {
      "cell_type": "code",
      "source": [
        "ls"
      ],
      "metadata": {
        "id": "553fVnSIOTsQ"
      },
      "execution_count": null,
      "outputs": []
    },
    {
      "cell_type": "code",
      "source": [
        "map_state_path=\"/content/pulse/data/map/transaction/hover/country/india/state\""
      ],
      "metadata": {
        "id": "mW3Iv12VP7p4"
      },
      "execution_count": null,
      "outputs": []
    },
    {
      "cell_type": "code",
      "source": [
        "import os\n",
        "\n",
        "map_state_list = os.listdir(map_state_path)\n",
        "map_state_list"
      ],
      "metadata": {
        "id": "8yUXc_WTYpf0"
      },
      "execution_count": null,
      "outputs": []
    },
    {
      "cell_type": "code",
      "source": [
        "for state in map_state_list:\n",
        "  years = os.listdir(f\"{map_state_path}/{state}\")\n",
        "  #print(f\"{map_state_path}/{state}\")\n",
        "  for year in years:\n",
        "    quarter=os.listdir(f\"{map_state_path}/{state}/{year}\")\n",
        "    #print(f\"{map_state_path}/{state}/{year}\")\n",
        "    for qtr in quarter:\n",
        "      print(f\"{map_state_path}/{state}/{year}/{qtr}\")"
      ],
      "metadata": {
        "collapsed": true,
        "id": "p1fqvfnQY6EV"
      },
      "execution_count": null,
      "outputs": []
    },
    {
      "cell_type": "code",
      "source": [
        "import json"
      ],
      "metadata": {
        "id": "lYabdHCacmds"
      },
      "execution_count": null,
      "outputs": []
    },
    {
      "cell_type": "code",
      "source": [
        "path=\"/content/pulse/data/map/transaction/hover/country/india/state/tamil-nadu/2024/1.json\"\n",
        "\n",
        "with open(path,'r') as f:\n",
        "  data=json.load(f)\n",
        "data"
      ],
      "metadata": {
        "collapsed": true,
        "id": "AURBIw80cpCq"
      },
      "execution_count": null,
      "outputs": []
    },
    {
      "cell_type": "code",
      "source": [
        "data.keys()"
      ],
      "metadata": {
        "id": "pHO6Ws2NdHi3"
      },
      "execution_count": null,
      "outputs": []
    },
    {
      "cell_type": "code",
      "source": [
        "for i in data['data']['hoverDataList']:\n",
        "  district=i['name']\n",
        "  count=i['metric'][0]['count']\n",
        "  amount=i['metric'][0]['amount']\n",
        "  print(district,count,amount)"
      ],
      "metadata": {
        "id": "OmgpKxC9dLfd"
      },
      "execution_count": null,
      "outputs": []
    },
    {
      "cell_type": "code",
      "source": [
        "for state in map_state_list:\n",
        "  years = os.listdir(f\"{map_state_path}/{state}\")\n",
        "  #print(f\"{map_state_path}/{state}\")\n",
        "  for year in years:\n",
        "    quarter=os.listdir(f\"{map_state_path}/{state}/{year}\")\n",
        "    #print(f\"{map_state_path}/{state}/{year}\")\n",
        "    for qtr in quarter:\n",
        "      #print(f\"{map_state_path}/{state}/{year}/{qtr}\")\n",
        "\n",
        "      path=f\"{map_state_path}/{state}/{year}/{qtr}\"\n",
        "      print(path)\n",
        "\n",
        "\n",
        "      with open(path,'r') as f:\n",
        "          data=json.load(f)\n",
        "          for i in data['data']['hoverDataList']:\n",
        "            district=i['name']\n",
        "            count=i['metric'][0]['count']\n",
        "            amount=i['metric'][0]['amount']\n",
        "            print(district,count,amount,state,year,qtr)"
      ],
      "metadata": {
        "collapsed": true,
        "id": "yG7EA8RldTwM"
      },
      "execution_count": null,
      "outputs": []
    },
    {
      "cell_type": "code",
      "source": [
        "map_trans_data={'State':[],'Year':[],'Quarter':[],'District':[],'Transaction_count':[],'Transaction_amount':[]}\n",
        "\n",
        "for state in map_state_list:\n",
        "  years = os.listdir(f\"{map_state_path}/{state}\")\n",
        "  #print(f\"{map_state_path}/{state}\")\n",
        "  for year in years:\n",
        "    quarter=os.listdir(f\"{map_state_path}/{state}/{year}\")\n",
        "    #print(f\"{map_state_path}/{state}/{year}\")\n",
        "    for qtr in quarter:\n",
        "      #print(f\"{map_state_path}/{state}/{year}/{qtr}\")\n",
        "\n",
        "      path=f\"{map_state_path}/{state}/{year}/{qtr}\"\n",
        "      #print(path)\n",
        "\n",
        "\n",
        "      with open(path,'r') as f:\n",
        "          data=json.load(f)\n",
        "          for i in data['data']['hoverDataList']:\n",
        "            district=i['name']\n",
        "            count=i['metric'][0]['count']\n",
        "            amount=i['metric'][0]['amount']\n",
        "            #print(district,count,amount,state,year,qtr)\n",
        "            map_trans_data['District'].append(district)\n",
        "            map_trans_data['Transaction_count'].append(count)\n",
        "            map_trans_data['Transaction_amount'].append(amount)\n",
        "            map_trans_data['State'].append(state)\n",
        "            map_trans_data['Year'].append(year)\n",
        "            map_trans_data['Quarter'].append(int(qtr.strip('.json')))\n",
        "\n",
        "map_trans_data"
      ],
      "metadata": {
        "collapsed": true,
        "id": "XypVQnTQi0LO"
      },
      "execution_count": null,
      "outputs": []
    },
    {
      "cell_type": "code",
      "source": [
        "import pandas as pd"
      ],
      "metadata": {
        "id": "iqGOqLLPjp3Z"
      },
      "execution_count": null,
      "outputs": []
    },
    {
      "cell_type": "code",
      "source": [
        "map_trans_df=pd.DataFrame(map_trans_data)\n",
        "map_trans_df"
      ],
      "metadata": {
        "id": "ICt8HnkikN86"
      },
      "execution_count": null,
      "outputs": []
    },
    {
      "cell_type": "code",
      "source": [
        "map_trans_df[map_trans_df['District']=='chennai district']"
      ],
      "metadata": {
        "id": "wRW17oUhkS65"
      },
      "execution_count": null,
      "outputs": []
    },
    {
      "cell_type": "code",
      "source": [
        "map_trans_df[map_trans_df['District']=='chennai district'].style.background_gradient(cmap='Blues')"
      ],
      "metadata": {
        "collapsed": true,
        "id": "XsOav6AhlBUL"
      },
      "execution_count": null,
      "outputs": []
    },
    {
      "cell_type": "code",
      "source": [
        "map_trans_df[map_trans_df['District']=='chennai district'].style.background_gradient(cmap='Reds')"
      ],
      "metadata": {
        "id": "T4LheCkboAQf"
      },
      "execution_count": null,
      "outputs": []
    },
    {
      "cell_type": "code",
      "source": [
        "map_trans_df[map_trans_df['District']=='chennai district'].style.highlight_between(subset=['Transaction_count','Transaction_amount'],color='red',left=1000000,right=74022904169.000000)"
      ],
      "metadata": {
        "id": "e8tu0nMAoZrp"
      },
      "execution_count": null,
      "outputs": []
    },
    {
      "cell_type": "code",
      "source": [
        "map_trans_df[map_trans_df['District']=='chennai district'].style.bar(subset=['Transaction_amount'],color='lightblue')"
      ],
      "metadata": {
        "id": "iLMob_QJp7qJ"
      },
      "execution_count": null,
      "outputs": []
    },
    {
      "cell_type": "code",
      "source": [
        "map_trans_df[map_trans_df['District']=='chennai district'].sort_values(by='Transaction_amount').style.bar(subset=['Transaction_amount'],color='lightblue')"
      ],
      "metadata": {
        "id": "3U_lV4rNpQwR"
      },
      "execution_count": null,
      "outputs": []
    },
    {
      "cell_type": "code",
      "source": [
        "dir(map_trans_df[map_trans_df['District']=='chennai district'].style)"
      ],
      "metadata": {
        "collapsed": true,
        "id": "RcHRmenzoB-g"
      },
      "execution_count": null,
      "outputs": []
    },
    {
      "cell_type": "markdown",
      "source": [
        "#### Heat Map and Pair Plot - (Multi variable analysis)"
      ],
      "metadata": {
        "id": "OmHhnjmTsHNM"
      }
    },
    {
      "cell_type": "code",
      "source": [
        "import matplotlib.pyplot as plt\n",
        "import seaborn as sns"
      ],
      "metadata": {
        "id": "TLnTxrO4oV0e"
      },
      "execution_count": null,
      "outputs": []
    },
    {
      "cell_type": "code",
      "source": [
        "map_trans_df"
      ],
      "metadata": {
        "id": "Vhmz78iosnYE"
      },
      "execution_count": null,
      "outputs": []
    },
    {
      "cell_type": "code",
      "source": [
        "map_trans_df[['Year','Quarter','Transaction_count','Transaction_amount']].corr()"
      ],
      "metadata": {
        "id": "i-buqVxjtsEO"
      },
      "execution_count": null,
      "outputs": []
    },
    {
      "cell_type": "code",
      "source": [
        "plt.figure(figsize=(10,5))\n",
        "sns.heatmap(map_trans_df[['Year','Quarter','Transaction_count','Transaction_amount']].corr(),cmap='Blues',annot=True) #Multi varient"
      ],
      "metadata": {
        "id": "_VfK10YKspw2"
      },
      "execution_count": null,
      "outputs": []
    },
    {
      "cell_type": "code",
      "source": [
        "plt.figure(figsize=(10,5))\n",
        "sns.heatmap(map_trans_df[['Transaction_count','Transaction_amount']].corr(),cmap='Blues',annot=True) #Bi varient"
      ],
      "metadata": {
        "id": "h_snKO_qtlAY"
      },
      "execution_count": null,
      "outputs": []
    },
    {
      "cell_type": "code",
      "source": [
        "plt.figure(figsize=(10,5))\n",
        "sns.pairplot(map_trans_df[['Year','Quarter','Transaction_count','Transaction_amount']])"
      ],
      "metadata": {
        "id": "_5fbGchCx5PF"
      },
      "execution_count": null,
      "outputs": []
    },
    {
      "cell_type": "code",
      "source": [
        "plt.figure(figsize=(10,5))\n",
        "sns.pairplot(map_trans_df,hue='State')\n",
        "plt.show()"
      ],
      "metadata": {
        "id": "4YuJ6gqTzcyH"
      },
      "execution_count": null,
      "outputs": []
    },
    {
      "cell_type": "code",
      "source": [
        "pip install ydata-profiling"
      ],
      "metadata": {
        "id": "qh5TlJ5iz1wP"
      },
      "execution_count": null,
      "outputs": []
    },
    {
      "cell_type": "code",
      "source": [
        "from ydata_profiling import ProfileReport"
      ],
      "metadata": {
        "id": "T4IkU89P0P9f"
      },
      "execution_count": null,
      "outputs": []
    },
    {
      "cell_type": "code",
      "source": [
        "map_trans_df"
      ],
      "metadata": {
        "id": "sJ6NjMuT0-wv"
      },
      "execution_count": null,
      "outputs": []
    },
    {
      "cell_type": "code",
      "source": [
        "profile = ProfileReport(map_trans_df, title=\"Pandas Profiling Report\")"
      ],
      "metadata": {
        "id": "K_5rpMIN-J9H"
      },
      "execution_count": null,
      "outputs": []
    },
    {
      "cell_type": "code",
      "source": [
        "profile"
      ],
      "metadata": {
        "id": "dgbeP0fH-QCm"
      },
      "execution_count": null,
      "outputs": []
    },
    {
      "cell_type": "code",
      "source": [
        "Ev_df = pd.read_csv('/content/Electric_Vehicle_Population_Data.csv')"
      ],
      "metadata": {
        "id": "x575QALH-RQF"
      },
      "execution_count": null,
      "outputs": []
    },
    {
      "cell_type": "code",
      "source": [
        "ev_profile = ProfileReport(Ev_df, title=\"Pandas Profiling Report\")"
      ],
      "metadata": {
        "id": "x1dJU_3w_VeX"
      },
      "execution_count": null,
      "outputs": []
    },
    {
      "cell_type": "code",
      "source": [
        "ev_profile"
      ],
      "metadata": {
        "id": "FTarUntR_erH"
      },
      "execution_count": null,
      "outputs": []
    },
    {
      "cell_type": "markdown",
      "source": [
        "#### Task - Case study of Phonepe"
      ],
      "metadata": {
        "id": "lh4nK6GNAwx3"
      }
    },
    {
      "cell_type": "code",
      "source": [
        "map_insurance_path = \"/content/pulse/data/map/insurance/hover/country/india/state\""
      ],
      "metadata": {
        "id": "RygyL9UX_f7n"
      },
      "execution_count": null,
      "outputs": []
    },
    {
      "cell_type": "code",
      "source": [
        "import os\n",
        "\n",
        "map_insurance_list = os.listdir(map_insurance_path)\n",
        "map_insurance_list"
      ],
      "metadata": {
        "collapsed": true,
        "id": "OZQRZWFbBc4w"
      },
      "execution_count": null,
      "outputs": []
    },
    {
      "cell_type": "code",
      "source": [
        "for state in map_insurance_list:\n",
        "  years = os.listdir(f\"{map_insurance_path}/{state}\")\n",
        "  for year in years:\n",
        "    quarter=os.listdir(f\"{map_insurance_path}/{state}/{year}\")\n",
        "    for qtr in quarter:\n",
        "      print(f\"{map_insurance_path}/{state}/{year}/{qtr}\")"
      ],
      "metadata": {
        "collapsed": true,
        "id": "_uGTv8UZBddI"
      },
      "execution_count": null,
      "outputs": []
    },
    {
      "cell_type": "code",
      "source": [
        "import json"
      ],
      "metadata": {
        "id": "FHRUZwA5CSBQ"
      },
      "execution_count": null,
      "outputs": []
    },
    {
      "cell_type": "code",
      "source": [
        "path = \"/content/pulse/data/map/insurance/hover/country/india/state/tamil-nadu/2024/1.json\"\n",
        "\n",
        "with open(path,'r') as f:\n",
        "  data = json.load(f)\n",
        "data"
      ],
      "metadata": {
        "collapsed": true,
        "id": "TAiAy52vDRVI"
      },
      "execution_count": null,
      "outputs": []
    },
    {
      "cell_type": "code",
      "source": [
        "data.keys()"
      ],
      "metadata": {
        "id": "dCjZVx9oDwU5"
      },
      "execution_count": null,
      "outputs": []
    },
    {
      "cell_type": "code",
      "source": [
        "for i in data['data']['hoverDataList']:\n",
        "  district = i['name']\n",
        "  count = i['metric'][0]['count']\n",
        "  amount = i['metric'][0]['amount']\n",
        "  print(district,count,amount)"
      ],
      "metadata": {
        "id": "54cyUn4rDyWZ"
      },
      "execution_count": null,
      "outputs": []
    },
    {
      "cell_type": "code",
      "source": [
        "for state in map_insurance_list:\n",
        "  years = os.listdir(f\"{map_insurance_path}/{state}\")\n",
        "  for year in years:\n",
        "    quarter=os.listdir(f\"{map_insurance_path}/{state}/{year}\")\n",
        "    for qtr in quarter:\n",
        "      #print(f\"{map_insurance_path}/{state}/{year}/{qtr}\")\n",
        "\n",
        "      path = f\"{map_insurance_path}/{state}/{year}/{qtr}\"\n",
        "      #print(path)\n",
        "\n",
        "      with open(path,'r') as f:\n",
        "        data = json.load(f)\n",
        "\n",
        "        for i in data['data']['hoverDataList']:\n",
        "          district = i['name']\n",
        "          count = i['metric'][0]['count']\n",
        "          amount = i['metric'][0]['amount']\n",
        "          print(district,count,amount,state,year,qtr)"
      ],
      "metadata": {
        "collapsed": true,
        "id": "2GvUhn7aFA6R"
      },
      "execution_count": null,
      "outputs": []
    },
    {
      "cell_type": "code",
      "source": [
        "map_insurance_data={'State':[],'Year':[],'Quarter':[],'District':[],'Transaction_count':[],'Transaction_amount':[]}\n",
        "\n",
        "for state in map_insurance_list:\n",
        "  years = os.listdir(f\"{map_insurance_path}/{state}\")\n",
        "  for year in years:\n",
        "    quarter=os.listdir(f\"{map_insurance_path}/{state}/{year}\")\n",
        "    for qtr in quarter:\n",
        "      #print(f\"{map_insurance_path}/{state}/{year}/{qtr}\")\n",
        "\n",
        "      path = f\"{map_insurance_path}/{state}/{year}/{qtr}\"\n",
        "      #print(path)\n",
        "\n",
        "      with open(path,'r') as f:\n",
        "        data = json.load(f)\n",
        "\n",
        "        for i in data['data']['hoverDataList']:\n",
        "          district = i['name']\n",
        "          count = i['metric'][0]['count']\n",
        "          amount = i['metric'][0]['amount']\n",
        "          #print(district,count,amount,state,year,qtr)\n",
        "\n",
        "          map_insurance_data['District'].append(district)\n",
        "          map_insurance_data['Transaction_count'].append(count)\n",
        "          map_insurance_data['Transaction_amount'].append(amount)\n",
        "          map_insurance_data['State'].append(state)\n",
        "          map_insurance_data['Year'].append(year)\n",
        "          map_insurance_data['Quarter'].append(int(qtr.strip('.json')))\n",
        "\n",
        "map_insurance_data"
      ],
      "metadata": {
        "collapsed": true,
        "id": "cmbUQNMpFZ9q"
      },
      "execution_count": null,
      "outputs": []
    },
    {
      "cell_type": "code",
      "source": [
        "map_insurance_df = pd.DataFrame(map_insurance_data)\n",
        "map_insurance_df"
      ],
      "metadata": {
        "id": "BW2IABRaFmp5"
      },
      "execution_count": null,
      "outputs": []
    },
    {
      "cell_type": "markdown",
      "source": [
        "#### EDA (Key areas of analysis:)\n",
        "\n",
        "Use Pandas for aggregations and Matplotlib, Seaborn, or Plotly for\n",
        "visualizations"
      ],
      "metadata": {
        "id": "i9Gfj8unXp0n"
      }
    },
    {
      "cell_type": "code",
      "source": [
        "import matplotlib.pyplot as plt\n",
        "import seaborn as sns"
      ],
      "metadata": {
        "id": "4rHuRoMzcT4u"
      },
      "execution_count": null,
      "outputs": []
    },
    {
      "cell_type": "code",
      "source": [
        "#Time Series Trends:\n",
        "#1: Quarterly trends for total transactions and total transaction value.\n",
        "\n",
        "qtr_trend_df = map_insurance_df.groupby(['Year','Quarter'])[['Transaction_count','Transaction_amount']].sum()\n",
        "qtr_trend_df"
      ],
      "metadata": {
        "id": "93uWIIcXGhU7"
      },
      "execution_count": null,
      "outputs": []
    },
    {
      "cell_type": "code",
      "source": [
        "qtr_trend_df = qtr_trend_df.reset_index()\n",
        "qtr_trend_df"
      ],
      "metadata": {
        "id": "jKvV1DdeY9GQ"
      },
      "execution_count": null,
      "outputs": []
    },
    {
      "cell_type": "code",
      "source": [],
      "metadata": {
        "id": "_MgeeH2asYX7"
      },
      "execution_count": null,
      "outputs": []
    },
    {
      "cell_type": "code",
      "source": [],
      "metadata": {
        "id": "g0EmwWnusZAN"
      },
      "execution_count": null,
      "outputs": []
    }
  ]
}