{
  "nbformat": 4,
  "nbformat_minor": 0,
  "metadata": {
    "colab": {
      "provenance": [],
      "authorship_tag": "ABX9TyOLkjq7Q946ZpyJrSNDPbTJ",
      "include_colab_link": true
    },
    "kernelspec": {
      "name": "python3",
      "display_name": "Python 3"
    },
    "language_info": {
      "name": "python"
    }
  },
  "cells": [
    {
      "cell_type": "markdown",
      "metadata": {
        "id": "view-in-github",
        "colab_type": "text"
      },
      "source": [
        "<a href=\"https://colab.research.google.com/github/Infant-Joshva/Data-Science-learning-path/blob/main/DataVisualization.ipynb\" target=\"_parent\"><img src=\"https://colab.research.google.com/assets/colab-badge.svg\" alt=\"Open In Colab\"/></a>"
      ]
    },
    {
      "cell_type": "markdown",
      "source": [
        "# Data Visualization"
      ],
      "metadata": {
        "id": "rDDzsh5yuyBi"
      }
    },
    {
      "cell_type": "code",
      "execution_count": null,
      "metadata": {
        "id": "13EU8xIwVJ4G"
      },
      "outputs": [],
      "source": [
        "import pandas as pd"
      ]
    },
    {
      "cell_type": "code",
      "source": [
        "!unzip /content/Cleaned_dataset.csv.zip"
      ],
      "metadata": {
        "id": "0Qx4vwNNVnpr"
      },
      "execution_count": null,
      "outputs": []
    },
    {
      "cell_type": "code",
      "source": [
        "df=pd.read_csv('/content/Cleaned_dataset.csv')\n",
        "df.head()"
      ],
      "metadata": {
        "id": "rzOxIn4KVavk"
      },
      "execution_count": null,
      "outputs": []
    },
    {
      "cell_type": "code",
      "source": [
        "df.shape"
      ],
      "metadata": {
        "id": "AijKeVDiV6Xr"
      },
      "execution_count": null,
      "outputs": []
    },
    {
      "cell_type": "code",
      "source": [
        "df.isnull().sum()"
      ],
      "metadata": {
        "id": "WWFPW6JmXvNb"
      },
      "execution_count": null,
      "outputs": []
    },
    {
      "cell_type": "code",
      "source": [
        "df.duplicated().sum()"
      ],
      "metadata": {
        "id": "825BwbQ7Xwka"
      },
      "execution_count": null,
      "outputs": []
    },
    {
      "cell_type": "code",
      "source": [
        "df.drop_duplicates(inplace=True)"
      ],
      "metadata": {
        "id": "_6uVS2n0XyCq"
      },
      "execution_count": null,
      "outputs": []
    },
    {
      "cell_type": "code",
      "source": [
        "df.duplicated().sum()"
      ],
      "metadata": {
        "id": "GPqS-PUoXzfS"
      },
      "execution_count": null,
      "outputs": []
    },
    {
      "cell_type": "code",
      "source": [
        "df.shape"
      ],
      "metadata": {
        "id": "MDHDYjk3X1Yd"
      },
      "execution_count": null,
      "outputs": []
    },
    {
      "cell_type": "code",
      "source": [
        "df"
      ],
      "metadata": {
        "id": "iSCK6fqlX3rS"
      },
      "execution_count": null,
      "outputs": []
    },
    {
      "cell_type": "code",
      "source": [
        "df.info()"
      ],
      "metadata": {
        "id": "0CsAQSuHX6Ja"
      },
      "execution_count": null,
      "outputs": []
    },
    {
      "cell_type": "code",
      "source": [
        "df.dtypes"
      ],
      "metadata": {
        "id": "56d9byIUX8JK"
      },
      "execution_count": null,
      "outputs": []
    },
    {
      "cell_type": "code",
      "source": [
        "df['Date_of_journey'] = pd.to_datetime(df['Date_of_journey'])"
      ],
      "metadata": {
        "id": "isqfaXTzX9vi"
      },
      "execution_count": null,
      "outputs": []
    },
    {
      "cell_type": "code",
      "source": [
        "df['Journey_day'].value_counts()"
      ],
      "metadata": {
        "id": "2Sea35RIX_vi"
      },
      "execution_count": null,
      "outputs": []
    },
    {
      "cell_type": "code",
      "source": [
        "df['Airline'].value_counts()"
      ],
      "metadata": {
        "id": "FUnS80j6YBg6"
      },
      "execution_count": null,
      "outputs": []
    },
    {
      "cell_type": "code",
      "source": [
        "df['Flight_code'].value_counts()"
      ],
      "metadata": {
        "id": "JA2DV3qwYDuK"
      },
      "execution_count": null,
      "outputs": []
    },
    {
      "cell_type": "code",
      "source": [
        "df['Class'].value_counts()"
      ],
      "metadata": {
        "id": "XiGEdCB5YFDb"
      },
      "execution_count": null,
      "outputs": []
    },
    {
      "cell_type": "code",
      "source": [
        "df['Source'].value_counts()"
      ],
      "metadata": {
        "id": "DEaDu3y2YHwK"
      },
      "execution_count": null,
      "outputs": []
    },
    {
      "cell_type": "code",
      "source": [
        "df['Departure'].value_counts()"
      ],
      "metadata": {
        "id": "9GtrKIjmYJdy"
      },
      "execution_count": null,
      "outputs": []
    },
    {
      "cell_type": "code",
      "source": [
        "df['Total_stops'].value_counts()"
      ],
      "metadata": {
        "id": "7o0Pzg1kYL0S"
      },
      "execution_count": null,
      "outputs": []
    },
    {
      "cell_type": "code",
      "source": [
        "df['Total_stops'].value_counts()"
      ],
      "metadata": {
        "id": "R1x0DOqnYNCq"
      },
      "execution_count": null,
      "outputs": []
    },
    {
      "cell_type": "code",
      "source": [
        "df['Arrival'].value_counts()"
      ],
      "metadata": {
        "id": "lSv-kheQYOIr"
      },
      "execution_count": null,
      "outputs": []
    },
    {
      "cell_type": "code",
      "source": [
        "df['Destination'].value_counts()"
      ],
      "metadata": {
        "id": "cFHdDSgeYeOb"
      },
      "execution_count": null,
      "outputs": []
    },
    {
      "cell_type": "code",
      "source": [
        "df['Destination'].value_counts()"
      ],
      "metadata": {
        "id": "BmzBEw0mYga6"
      },
      "execution_count": null,
      "outputs": []
    },
    {
      "cell_type": "markdown",
      "source": [
        "# Univarient Analysis"
      ],
      "metadata": {
        "id": "8vx1H1r5YkC0"
      }
    },
    {
      "cell_type": "code",
      "source": [
        "df.info()"
      ],
      "metadata": {
        "id": "U3NF05qyYiTi"
      },
      "execution_count": null,
      "outputs": []
    },
    {
      "cell_type": "markdown",
      "source": [
        "## Numerical"
      ],
      "metadata": {
        "id": "ImVkkQAVYrAb"
      }
    },
    {
      "cell_type": "code",
      "source": [
        "df['Duration_in_hours'].plot(kind='hist')"
      ],
      "metadata": {
        "id": "qpid89bMYl3q"
      },
      "execution_count": null,
      "outputs": []
    },
    {
      "cell_type": "code",
      "source": [
        "!pip install matplotlib"
      ],
      "metadata": {
        "id": "kiKX2a9MYuhc"
      },
      "execution_count": null,
      "outputs": []
    },
    {
      "cell_type": "code",
      "source": [
        "import matplotlib.pyplot as plt"
      ],
      "metadata": {
        "id": "QYdQtS5jYuZr"
      },
      "execution_count": null,
      "outputs": []
    },
    {
      "cell_type": "code",
      "source": [
        "plt.plot(df['Duration_in_hours'])"
      ],
      "metadata": {
        "id": "FplfAx7KYuW6"
      },
      "execution_count": null,
      "outputs": []
    },
    {
      "cell_type": "code",
      "source": [
        "plt.hist(df['Duration_in_hours'],bins=20)"
      ],
      "metadata": {
        "id": "L420S1diZShK"
      },
      "execution_count": null,
      "outputs": []
    },
    {
      "cell_type": "code",
      "source": [
        "plt.figure(figsize=(10,5))\n",
        "plt.hist(df['Duration_in_hours'],bins=20)"
      ],
      "metadata": {
        "id": "tAtL5vkeZSfE"
      },
      "execution_count": null,
      "outputs": []
    },
    {
      "cell_type": "code",
      "source": [
        "plt.figure(figsize=(10,5))\n",
        "plt.hist(df['Duration_in_hours'],bins=25,edgecolor='black')"
      ],
      "metadata": {
        "id": "TuhZtQf_ZSdV"
      },
      "execution_count": null,
      "outputs": []
    },
    {
      "cell_type": "code",
      "source": [
        "plt.figure(figsize=(10,5))\n",
        "plt.hist(df['Duration_in_hours'],bins=25,edgecolor='black')\n",
        "plt.xlabel('Duration_in_hours')\n",
        "plt.ylabel('Frequency')\n",
        "plt.title('Distribution of Duration_in_hours')"
      ],
      "metadata": {
        "id": "tjfPh1AYZSbi"
      },
      "execution_count": null,
      "outputs": []
    },
    {
      "cell_type": "code",
      "source": [
        "!pip install seaborn"
      ],
      "metadata": {
        "id": "ccjTyRRMZSZu"
      },
      "execution_count": null,
      "outputs": []
    },
    {
      "cell_type": "code",
      "source": [
        "import seaborn as sns"
      ],
      "metadata": {
        "id": "e88cX2H8ZSYC"
      },
      "execution_count": null,
      "outputs": []
    },
    {
      "cell_type": "code",
      "source": [
        "sns.kdeplot(df['Duration_in_hours']) #Density plot"
      ],
      "metadata": {
        "id": "67Erx3xnZSV6"
      },
      "execution_count": null,
      "outputs": []
    },
    {
      "cell_type": "code",
      "source": [
        "sns.distplot(df['Duration_in_hours']) #Distribution plot(Combine both Histogram + Density plot)"
      ],
      "metadata": {
        "id": "sJhXkWK0c--D"
      },
      "execution_count": null,
      "outputs": []
    },
    {
      "cell_type": "code",
      "source": [
        "sns.distplot(df, x=df['Duration_in_hours']) #Another way to call the distribution plot"
      ],
      "metadata": {
        "id": "o0r5dUnVwubU"
      },
      "execution_count": null,
      "outputs": []
    },
    {
      "cell_type": "code",
      "source": [
        "sns.distplot(df,x=df['Duration_in_hours'],color='Red')\n",
        "plt.xlabel('Duration_in_hours') #Using Matplotlib to Edit the X axsis\n",
        "plt.ylabel('Frequency') #Using Matplotlib to Edit the Y axsis\n",
        "plt.title('Distribution of Duration_in_hours')\n",
        "plt.show()"
      ],
      "metadata": {
        "id": "VqAEnvzRc-73"
      },
      "execution_count": null,
      "outputs": []
    },
    {
      "cell_type": "code",
      "source": [
        "plt.figure(figsize=(15,10))\n",
        "sns.distplot(df,x=df['Duration_in_hours'],color='Red')\n",
        "plt.xlabel('Duration_in_hours')\n",
        "plt.ylabel('Frequency')\n",
        "plt.title('Distribution of Duration_in_hours')\n",
        "plt.annotate('Most Frequent Hour', xy=(8, 0.07), xytext=(20, 0.06),\n",
        "             arrowprops=dict(facecolor='black', shrink=0.025),\n",
        "             )\n",
        "\n",
        "plt.show()"
      ],
      "metadata": {
        "id": "iEd-oWsAc-4D"
      },
      "execution_count": null,
      "outputs": []
    },
    {
      "cell_type": "code",
      "source": [
        "plt.figure(figsize=(15,10))\n",
        "plt.boxplot(df['Duration_in_hours'],vert=False)\n",
        "plt.xlabel('Duration_in_hours')\n",
        "plt.ylabel('Frequency')\n",
        "plt.title('Distribution of Duration_in_hours')"
      ],
      "metadata": {
        "id": "17rclB8Uc97k"
      },
      "execution_count": null,
      "outputs": []
    },
    {
      "cell_type": "code",
      "source": [
        "df.info()"
      ],
      "metadata": {
        "id": "ImVb1V5Bc95O",
        "collapsed": true
      },
      "execution_count": null,
      "outputs": []
    },
    {
      "cell_type": "markdown",
      "source": [
        "#### Task for numerical data(Histogram in Matplotlib)"
      ],
      "metadata": {
        "id": "GOLm0KltCE_x"
      }
    },
    {
      "cell_type": "code",
      "source": [
        "plt.figure(figsize=(15,10))\n",
        "sns.distplot(df,x=df['Duration_in_hours'],color='Red')\n",
        "plt.xlabel('Duration_in_hours')\n",
        "plt.ylabel('Frequency')\n",
        "plt.title('Distribution of Duration_in_hours')\n",
        "plt.annotate('Most Frequent Hour', xy=(8, 0.07), xytext=(20, 0.06),\n",
        "             arrowprops=dict(facecolor='black', shrink=0.025),\n",
        "             )\n",
        "\n",
        "plt.show()"
      ],
      "metadata": {
        "id": "OhYyikptCJMz"
      },
      "execution_count": null,
      "outputs": []
    },
    {
      "cell_type": "code",
      "source": [
        "df.info()"
      ],
      "metadata": {
        "id": "OLElZ00BCSlJ"
      },
      "execution_count": null,
      "outputs": []
    },
    {
      "cell_type": "code",
      "source": [
        "plt.figure(figsize=(10,5))\n",
        "plt.hist(df['Date_of_journey'],edgecolor='black')\n",
        "plt.xlabel('Date_of_journey')\n",
        "plt.ylabel('Frequency')\n",
        "plt.title('Distribution of Date_of_journey')"
      ],
      "metadata": {
        "id": "5eM3jc3RCJKo"
      },
      "execution_count": null,
      "outputs": []
    },
    {
      "cell_type": "code",
      "source": [
        "plt.figure(figsize=(10,5))\n",
        "plt.hist(df['Days_left'],bins=50,edgecolor='black')\n",
        "plt.xlabel('Days_left')\n",
        "plt.ylabel('Frequency')\n",
        "plt.title('Distribution of Days_left')"
      ],
      "metadata": {
        "id": "wmGYQHMXCJIg"
      },
      "execution_count": null,
      "outputs": []
    },
    {
      "cell_type": "code",
      "source": [
        "plt.figure(figsize=(10,5))\n",
        "plt.hist(df['Fare'],bins=35,edgecolor='black')\n",
        "plt.xlabel('Fare')\n",
        "plt.ylabel('Frequency')\n",
        "plt.title('Distribution of Fare')"
      ],
      "metadata": {
        "id": "2rVImlOSCJEo"
      },
      "execution_count": null,
      "outputs": []
    },
    {
      "cell_type": "code",
      "source": [],
      "metadata": {
        "id": "fLLy_C9oCI8I"
      },
      "execution_count": null,
      "outputs": []
    },
    {
      "cell_type": "code",
      "source": [],
      "metadata": {
        "id": "hlZTZo2-c908"
      },
      "execution_count": null,
      "outputs": []
    },
    {
      "cell_type": "markdown",
      "source": [
        "#### Task for numerical data(Density in Matplotlib)"
      ],
      "metadata": {
        "id": "ENXWP7t6EhW3"
      }
    },
    {
      "cell_type": "code",
      "source": [
        "df.info()"
      ],
      "metadata": {
        "id": "NJWihEYOEmV3"
      },
      "execution_count": null,
      "outputs": []
    },
    {
      "cell_type": "code",
      "source": [
        "#Using Seaborn\n",
        "plt.figure(figsize=(15,5))\n",
        "sns.kdeplot(df['Date_of_journey'])"
      ],
      "metadata": {
        "id": "_TdUtyd3EmOH"
      },
      "execution_count": null,
      "outputs": []
    },
    {
      "cell_type": "code",
      "source": [
        "sns.kdeplot(df['Days_left'])"
      ],
      "metadata": {
        "id": "zp4sz6oxElhP"
      },
      "execution_count": null,
      "outputs": []
    },
    {
      "cell_type": "code",
      "source": [
        "sns.kdeplot(df['Fare'])"
      ],
      "metadata": {
        "id": "QpF7H_w-ElfP"
      },
      "execution_count": null,
      "outputs": []
    },
    {
      "cell_type": "code",
      "source": [],
      "metadata": {
        "id": "ir37srX7Elc_"
      },
      "execution_count": null,
      "outputs": []
    },
    {
      "cell_type": "markdown",
      "source": [],
      "metadata": {
        "id": "OzdhDdL6FWVn"
      }
    },
    {
      "cell_type": "markdown",
      "source": [
        "#### Task for numerical data - Distribution plot(Combine both Histogram + Density plot)"
      ],
      "metadata": {
        "id": "qvynnF9RFZ65"
      }
    },
    {
      "cell_type": "code",
      "source": [
        "df.info()"
      ],
      "metadata": {
        "id": "9ItyystEFn0J"
      },
      "execution_count": null,
      "outputs": []
    },
    {
      "cell_type": "code",
      "source": [
        "sns.distplot(df['Duration_in_hours']) #Distribution plot(Combine both Histogram + Density plot)"
      ],
      "metadata": {
        "collapsed": true,
        "id": "zcZ1kazrFVGv"
      },
      "execution_count": null,
      "outputs": []
    },
    {
      "cell_type": "code",
      "source": [
        "sns.distplot(df['Days_left']) #Distribution plot(Combine both Histogram + Density plot)"
      ],
      "metadata": {
        "id": "w_ftzIvsHiwd"
      },
      "execution_count": null,
      "outputs": []
    },
    {
      "cell_type": "code",
      "source": [
        "sns.distplot(df['Fare']) #Distribution plot(Combine both Histogram + Density plot)"
      ],
      "metadata": {
        "id": "Rn_JsxBHHinU"
      },
      "execution_count": null,
      "outputs": []
    },
    {
      "cell_type": "markdown",
      "source": [
        "#### Task for numerical data - Box plot"
      ],
      "metadata": {
        "id": "YZUBLR_vFTkh"
      }
    },
    {
      "cell_type": "code",
      "source": [
        "df.info()"
      ],
      "metadata": {
        "id": "Yl6ddR1ATmkP"
      },
      "execution_count": null,
      "outputs": []
    },
    {
      "cell_type": "code",
      "source": [
        "plt.figure(figsize=(15,5))\n",
        "plt.boxplot(df['Days_left'],vert=False)"
      ],
      "metadata": {
        "id": "MJggJUx-IDqG"
      },
      "execution_count": null,
      "outputs": []
    },
    {
      "cell_type": "code",
      "source": [
        "plt.figure(figsize=(15,5))\n",
        "plt.boxplot(df['Fare'],vert=False)"
      ],
      "metadata": {
        "id": "daBPYsdGT9Xe"
      },
      "execution_count": null,
      "outputs": []
    },
    {
      "cell_type": "code",
      "source": [],
      "metadata": {
        "id": "oq5wLUYZIDn1"
      },
      "execution_count": null,
      "outputs": []
    },
    {
      "cell_type": "code",
      "source": [],
      "metadata": {
        "id": "EUsmnpuoIDl9"
      },
      "execution_count": null,
      "outputs": []
    },
    {
      "cell_type": "code",
      "source": [],
      "metadata": {
        "id": "nOhVdm2EIDke"
      },
      "execution_count": null,
      "outputs": []
    },
    {
      "cell_type": "markdown",
      "source": [
        "## Categorical"
      ],
      "metadata": {
        "id": "1xSrVbaNYvHa"
      }
    },
    {
      "cell_type": "code",
      "source": [
        "df['Airline'].value_counts().plot(kind='bar')"
      ],
      "metadata": {
        "id": "WlWbVL8XYvcq"
      },
      "execution_count": null,
      "outputs": []
    },
    {
      "cell_type": "code",
      "source": [
        "plt.figure(figsize=(15,10))\n",
        "df['Airline'].value_counts().plot(kind='bar')\n",
        "plt.xlabel('Airline')\n",
        "plt.ylabel('Frequency')\n",
        "plt.title('Distribution of Airline')\n",
        "plt.show()"
      ],
      "metadata": {
        "id": "to4jYeurYwEy"
      },
      "execution_count": null,
      "outputs": []
    },
    {
      "cell_type": "code",
      "source": [
        "df['Airline'].value_counts().index"
      ],
      "metadata": {
        "id": "p94udVOsYwC6"
      },
      "execution_count": null,
      "outputs": []
    },
    {
      "cell_type": "code",
      "source": [
        "df['Airline'].value_counts()"
      ],
      "metadata": {
        "id": "9That5z-72DM"
      },
      "execution_count": null,
      "outputs": []
    },
    {
      "cell_type": "code",
      "source": [
        "plt.figure(figsize=(15,10))\n",
        "plt.bar(df['Airline'].value_counts().index,df['Airline'].value_counts())\n",
        "plt.xlabel('Airline')\n",
        "plt.ylabel('Frequency')\n",
        "plt.title('Distribution of Airline')\n",
        "plt.show()"
      ],
      "metadata": {
        "id": "PM5-CRDZYwA6"
      },
      "execution_count": null,
      "outputs": []
    },
    {
      "cell_type": "code",
      "source": [
        "plt.figure(figsize=(15,10))\n",
        "sns.countplot(df,x='Airline')\n",
        "plt.xlabel('Airline')\n",
        "plt.ylabel('Frequency')\n",
        "plt.title('Distribution of Airline')\n",
        "plt.show()"
      ],
      "metadata": {
        "id": "yX7fTXZsYv_D"
      },
      "execution_count": null,
      "outputs": []
    },
    {
      "cell_type": "code",
      "source": [
        "df['Airline'].value_counts()"
      ],
      "metadata": {
        "id": "_MsXjk-vYv9S"
      },
      "execution_count": null,
      "outputs": []
    },
    {
      "cell_type": "code",
      "source": [
        "df['Airline'].value_counts().index"
      ],
      "metadata": {
        "id": "ab1ojPRtq2Pl"
      },
      "execution_count": null,
      "outputs": []
    },
    {
      "cell_type": "code",
      "source": [
        "plt.figure(figsize=(15,10))\n",
        "sns.countplot(df,x='Airline',order=df['Airline'].value_counts().index)\n",
        "plt.xlabel('Airline')\n",
        "plt.ylabel('Frequency')\n",
        "plt.title('Distribution of Airline')\n",
        "plt.show()"
      ],
      "metadata": {
        "id": "h__UGFHmq8G1"
      },
      "execution_count": null,
      "outputs": []
    },
    {
      "cell_type": "code",
      "source": [
        "plt.figure(figsize=(15,10))\n",
        "sns.countplot(df,x='Airline',order=df['Airline'].value_counts().index,color='Red')\n",
        "plt.xlabel('Airline')\n",
        "plt.ylabel('Frequency')\n",
        "plt.title('Distribution of Airline')\n",
        "plt.show()"
      ],
      "metadata": {
        "id": "o2d7rlphrENt"
      },
      "execution_count": null,
      "outputs": []
    },
    {
      "cell_type": "code",
      "source": [
        "plt.figure(figsize=(15,10))\n",
        "sns.countplot(df,x='Airline',order=df['Airline'].value_counts().index,palette='light:#5A9')\n",
        "plt.xlabel('Airline')\n",
        "plt.ylabel('Frequency')\n",
        "plt.title('Distribution of Airline')\n",
        "plt.show()"
      ],
      "metadata": {
        "id": "AB-T2VEUrHrN"
      },
      "execution_count": null,
      "outputs": []
    },
    {
      "cell_type": "markdown",
      "source": [
        "#### Task: Histogram, Density plot, Box plot for Univariant - Numerical and Categorical.\n",
        "\n"
      ],
      "metadata": {
        "id": "BmcL4CX7BmDw"
      }
    },
    {
      "cell_type": "code",
      "source": [
        "df.info()"
      ],
      "metadata": {
        "id": "35OjTslDZ39E"
      },
      "execution_count": null,
      "outputs": []
    },
    {
      "cell_type": "code",
      "source": [
        "plt.figure(figsize=(10,5))\n",
        "sns.countplot(df,x='Journey_day',order = df['Journey_day'].value_counts().index,palette = \"blend:#7AB,#EDA\")\n",
        "plt.xlabel('Journey_day')\n",
        "plt.ylabel('Frequency')\n",
        "plt.title('Distribution of Journey_day')\n",
        "plt.show()"
      ],
      "metadata": {
        "id": "PEBjCwEMrUJN"
      },
      "execution_count": null,
      "outputs": []
    },
    {
      "cell_type": "code",
      "source": [
        "df['Flight_code'].value_counts()"
      ],
      "metadata": {
        "id": "VKUOtdggcK9t"
      },
      "execution_count": null,
      "outputs": []
    },
    {
      "cell_type": "code",
      "source": [
        "plt.figure(figsize=(50,30))\n",
        "sns.countplot(df,x='Flight_code',palette = \"light:#5A9\")\n",
        "plt.xlabel('Flight_code')\n",
        "plt.ylabel('Frequency')\n",
        "plt.title('Distribution of Flight_code')\n",
        "plt.show()"
      ],
      "metadata": {
        "collapsed": true,
        "id": "LBdyxdx_aR48"
      },
      "execution_count": null,
      "outputs": []
    },
    {
      "cell_type": "code",
      "source": [
        "plt.figure(figsize=(10,5))\n",
        "sns.countplot(df,x='Class',palette = 'flare')\n",
        "plt.xlabel('Class')\n",
        "plt.ylabel('Frequency')\n",
        "plt.title('Distribution of Class')\n",
        "plt.show()"
      ],
      "metadata": {
        "id": "Dfc41F1kbzq-"
      },
      "execution_count": null,
      "outputs": []
    },
    {
      "cell_type": "code",
      "source": [
        "plt.figure(figsize=(10,5))\n",
        "sns.countplot(df,x='Source',palette = 'Spectral')\n",
        "plt.xlabel('Source')\n",
        "plt.ylabel('Frequency')\n",
        "plt.title('Distribution of Source')\n",
        "plt.show()"
      ],
      "metadata": {
        "id": "fzhAin4jeSnP"
      },
      "execution_count": null,
      "outputs": []
    },
    {
      "cell_type": "code",
      "source": [
        "plt.figure(figsize=(10,5))\n",
        "sns.countplot(df,x='Departure',palette = \"ch:s=.25,rot=-.25\")\n",
        "plt.xlabel('Departure')\n",
        "plt.ylabel('Frequency')\n",
        "plt.title('Distribution of Departure')\n",
        "plt.show()"
      ],
      "metadata": {
        "id": "s5gSb_g8eawt"
      },
      "execution_count": null,
      "outputs": []
    },
    {
      "cell_type": "code",
      "source": [
        "plt.figure(figsize=(10,5))\n",
        "sns.countplot(df,x='Total_stops',palette = \"ch:s=.25,rot=-.25\")\n",
        "plt.xlabel('Total_stops')\n",
        "plt.ylabel('Frequency')\n",
        "plt.title('Distribution of Total_stops')\n",
        "plt.show()"
      ],
      "metadata": {
        "id": "AsKe-mD-efHu"
      },
      "execution_count": null,
      "outputs": []
    },
    {
      "cell_type": "code",
      "source": [
        "plt.figure(figsize=(10,5))\n",
        "sns.countplot(df,x='Arrival',palette = \"dark:#5A9_r\")\n",
        "plt.xlabel('Arrival')\n",
        "plt.ylabel('Frequency')\n",
        "plt.title('Distribution of Arrival')"
      ],
      "metadata": {
        "id": "CkbrvhZhe-ig"
      },
      "execution_count": null,
      "outputs": []
    },
    {
      "cell_type": "code",
      "source": [
        "plt.figure(figsize=(10,5))\n",
        "sns.countplot(df,x='Destination',palette = \"ch:s=.25,rot=-.25\")\n",
        "plt.xlabel('Destination')\n",
        "plt.ylabel('Frequency')\n",
        "plt.title('Distribution of Destination')"
      ],
      "metadata": {
        "id": "cPXiZqdnfDdR"
      },
      "execution_count": null,
      "outputs": []
    },
    {
      "cell_type": "markdown",
      "source": [
        "# 12/07/2025 Bi and Multi (Starts from Pie chart)"
      ],
      "metadata": {
        "id": "p-fizLkwFrrO"
      }
    },
    {
      "cell_type": "code",
      "source": [
        "plt.figure(figsize=(10,10))\n",
        "df['Class'].value_counts().plot(kind='pie', autopct='%1.1f%%')\n",
        "plt.title('Distribution of Class')\n",
        "plt.legend(loc='lower right',)\n",
        "plt.show()"
      ],
      "metadata": {
        "id": "60erhXStfMgw"
      },
      "execution_count": null,
      "outputs": []
    },
    {
      "cell_type": "code",
      "source": [
        "plt.figure(figsize=(10,10))\n",
        "df['Airline'].value_counts().plot(kind='pie', autopct='%1.1f%%')\n",
        "plt.title('Distribution of Airline')\n",
        "plt.legend(loc='lower right',)\n",
        "plt.show()\n"
      ],
      "metadata": {
        "id": "0gVTa67vHhz2"
      },
      "execution_count": null,
      "outputs": []
    },
    {
      "cell_type": "code",
      "source": [
        "plt.figure(figsize=(10,10))\n",
        "df['Class'].value_counts().plot(kind='pie', autopct='%1.1f%%',wedgeprops=dict(width=0.7))\n",
        "plt.title('Distribution of Class')\n",
        "plt.legend(loc='lower right',)\n",
        "plt.show()\n"
      ],
      "metadata": {
        "id": "QWKEiGRAtd_R"
      },
      "execution_count": null,
      "outputs": []
    },
    {
      "cell_type": "code",
      "source": [
        "!pip install plotly"
      ],
      "metadata": {
        "id": "GG5p6VfjHi1P"
      },
      "execution_count": null,
      "outputs": []
    },
    {
      "cell_type": "code",
      "source": [
        "import plotly.express as px"
      ],
      "metadata": {
        "id": "MvH6wWgVIeWg"
      },
      "execution_count": null,
      "outputs": []
    },
    {
      "cell_type": "code",
      "source": [
        "fig=px.pie(df,names='Class',title='Distribution of Class')\n",
        "fig.show()"
      ],
      "metadata": {
        "id": "Jl_4A16VIfw_"
      },
      "execution_count": null,
      "outputs": []
    },
    {
      "cell_type": "code",
      "source": [
        "fig=px.pie(df,names='Class',title='Distribution of Class')\n",
        "fig.show()"
      ],
      "metadata": {
        "id": "LlPgkQsDIhBg"
      },
      "execution_count": null,
      "outputs": []
    },
    {
      "cell_type": "code",
      "source": [
        "df.head()"
      ],
      "metadata": {
        "id": "Dd-x61fYJP-w"
      },
      "execution_count": null,
      "outputs": []
    },
    {
      "cell_type": "code",
      "source": [
        "fig = px.pie(df,names='Airline',title='Distribution of Airline',hole =0.3)\n",
        "fig.show()"
      ],
      "metadata": {
        "id": "Ske5n4wzrNRw"
      },
      "execution_count": null,
      "outputs": []
    },
    {
      "cell_type": "code",
      "source": [
        "fig=px.pie(df,names='Source',title='Distribution of Source',hole=0.3)\n",
        "fig.show()"
      ],
      "metadata": {
        "id": "jnfybG1qrNLq"
      },
      "execution_count": null,
      "outputs": []
    },
    {
      "cell_type": "code",
      "source": [
        "fig=px.pie(df,names='Destination',title='Distribution of Destination',hole=0.3)\n",
        "fig.show()"
      ],
      "metadata": {
        "id": "ZQdaNB-4rNHF"
      },
      "execution_count": null,
      "outputs": []
    },
    {
      "cell_type": "markdown",
      "source": [
        "## Bivariate Analysis\n",
        "\n",
        "1. Continoues vs Continoues\n",
        "2. Continoues vs Categorical\n",
        "3. Categorical vs Categorical\n",
        "4. Continoues vs Time"
      ],
      "metadata": {
        "id": "CGT8S73Arbny"
      }
    },
    {
      "cell_type": "code",
      "source": [
        "df.head()"
      ],
      "metadata": {
        "id": "Ntisev6RrNB-"
      },
      "execution_count": null,
      "outputs": []
    },
    {
      "cell_type": "code",
      "source": [
        "fig=px.scatter(df,x=df['Duration_in_hours'],y=df['Fare'])\n",
        "fig.show()"
      ],
      "metadata": {
        "id": "LFdXdlQprM8_"
      },
      "execution_count": null,
      "outputs": []
    },
    {
      "cell_type": "code",
      "source": [
        "fig=px.scatter(df,x='Duration_in_hours',y='Fare',title='Duration_in_hours vs Fare')\n",
        "fig.show()"
      ],
      "metadata": {
        "id": "g43hbq43rM4t"
      },
      "execution_count": null,
      "outputs": []
    },
    {
      "cell_type": "code",
      "source": [
        "fig=px.scatter(df,x=df['Days_left'],y=df['Fare'])\n",
        "fig.show()"
      ],
      "metadata": {
        "id": "FghlsSKzrM00"
      },
      "execution_count": null,
      "outputs": []
    },
    {
      "cell_type": "code",
      "source": [
        "fig=px.scatter(df,x='Days_left',y='Fare',title='Days_left vs Fare')\n",
        "fig.show()"
      ],
      "metadata": {
        "id": "ugoZhnoGrMvw"
      },
      "execution_count": null,
      "outputs": []
    },
    {
      "cell_type": "code",
      "source": [
        "fig=px.scatter(df,x=df['Duration_in_hours'],y=df['Fare'],color='Class')\n",
        "fig.show()"
      ],
      "metadata": {
        "id": "WmTGptWSrlVK"
      },
      "execution_count": null,
      "outputs": []
    },
    {
      "cell_type": "code",
      "source": [
        "fig=px.scatter(df,x=df['Duration_in_hours'],y=df['Fare'],color='Total_stops')\n",
        "fig.show()"
      ],
      "metadata": {
        "id": "OpUiCVnurlRD"
      },
      "execution_count": null,
      "outputs": []
    },
    {
      "cell_type": "code",
      "source": [
        "Time_df=df.groupby(['Days_left'])['Fare'].mean().reset_index()\n",
        "Time_df"
      ],
      "metadata": {
        "id": "6pYc2onLrlNC"
      },
      "execution_count": null,
      "outputs": []
    },
    {
      "cell_type": "code",
      "source": [
        "fig=px.line(Time_df,x='Days_left',y='Fare',title='Days_left vs Fare')\n",
        "fig.show()"
      ],
      "metadata": {
        "id": "AHeghss3rlIZ"
      },
      "execution_count": null,
      "outputs": []
    },
    {
      "cell_type": "code",
      "source": [
        "fig=px.line(Time_df,x=Time_df['Days_left'],y=Time_df['Fare'],title='Fare vs Days_left',markers=True)\n",
        "fig.show()"
      ],
      "metadata": {
        "id": "MpMphFsrrlES"
      },
      "execution_count": null,
      "outputs": []
    },
    {
      "cell_type": "code",
      "source": [
        "help(px.line)"
      ],
      "metadata": {
        "id": "9kCZsr3xrk_g"
      },
      "execution_count": null,
      "outputs": []
    },
    {
      "cell_type": "code",
      "source": [
        "Date_df=df.groupby(['Date_of_journey','Class','Airline'])['Fare'].mean().reset_index().sort_values('Date_of_journey')\n",
        "Date_df"
      ],
      "metadata": {
        "id": "82bK6tN7rk59"
      },
      "execution_count": null,
      "outputs": []
    },
    {
      "cell_type": "code",
      "source": [
        "fig=px.line(Date_df,x='Date_of_journey',y='Fare',title='Fare vs Date_of_journey')\n",
        "fig.show()"
      ],
      "metadata": {
        "id": "QDG1Jz-PsAWB"
      },
      "execution_count": null,
      "outputs": []
    },
    {
      "cell_type": "code",
      "source": [
        "fig=px.line(Date_df,x='Date_of_journey',y='Fare',title='Fare vs Date_of_journey',color='Class',symbol='Airline')\n",
        "fig.show() #Doubt"
      ],
      "metadata": {
        "id": "MUd7KTXBsAQY"
      },
      "execution_count": null,
      "outputs": []
    },
    {
      "cell_type": "code",
      "source": [
        "fig=px.line(Date_df,x='Date_of_journey',y='Fare',title='Fare vs Date_of_journey',color='Class',facet_col='Airline')\n",
        "fig.show()"
      ],
      "metadata": {
        "id": "lMiyR_AFsAK4"
      },
      "execution_count": null,
      "outputs": []
    },
    {
      "cell_type": "code",
      "source": [
        "fig=px.line(Date_df,x=Date_df['Date_of_journey'],y=Date_df['Fare'],title='Fare vs Date_of_journey',color='Airline',facet_col='Class')\n",
        "fig.show()"
      ],
      "metadata": {
        "id": "vsqnMgbrsAFm"
      },
      "execution_count": null,
      "outputs": []
    },
    {
      "cell_type": "code",
      "source": [
        "df.head()"
      ],
      "metadata": {
        "id": "FOeVT3x4sAAh"
      },
      "execution_count": null,
      "outputs": []
    },
    {
      "cell_type": "markdown",
      "source": [
        "### Cat Vs Continues"
      ],
      "metadata": {
        "id": "T578K83FsOkV"
      }
    },
    {
      "cell_type": "code",
      "source": [
        "!pip install plotly"
      ],
      "metadata": {
        "id": "0ixuvLmKr_7G"
      },
      "execution_count": null,
      "outputs": []
    },
    {
      "cell_type": "code",
      "source": [
        "import plotly.express as px"
      ],
      "metadata": {
        "id": "bsMRBqtdr_1a"
      },
      "execution_count": null,
      "outputs": []
    },
    {
      "cell_type": "code",
      "source": [
        "fig=px.bar(df,x='Class',y='Fare',title='Class vs Fare')\n",
        "fig.show()"
      ],
      "metadata": {
        "id": "Qlg02zqMr_v2"
      },
      "execution_count": null,
      "outputs": []
    },
    {
      "cell_type": "code",
      "source": [
        "import matplotlib.pyplot as plt\n",
        "import seaborn as sns\n",
        "\n",
        "plt.figure(figsize=(15,10))\n",
        "sns.barplot(df,x='Class',y='Fare')\n",
        "plt.xlabel('Class')\n",
        "plt.ylabel('Fare')\n",
        "plt.title('Class vs Fare')\n",
        "plt.show()"
      ],
      "metadata": {
        "id": "wu-P5bqDr_qb"
      },
      "execution_count": null,
      "outputs": []
    },
    {
      "cell_type": "code",
      "source": [
        "df.groupby(['Class'])['Fare'].min().plot(kind='bar')"
      ],
      "metadata": {
        "id": "TqntEc39r_k6"
      },
      "execution_count": null,
      "outputs": []
    },
    {
      "cell_type": "code",
      "source": [
        "df.groupby(['Class'])['Fare'].agg(['min','max','mean']).plot(kind='bar')"
      ],
      "metadata": {
        "id": "2MVujswTr_fW"
      },
      "execution_count": null,
      "outputs": []
    },
    {
      "cell_type": "code",
      "source": [
        "df.head()"
      ],
      "metadata": {
        "id": "7H07vnY2r_aL"
      },
      "execution_count": null,
      "outputs": []
    },
    {
      "cell_type": "code",
      "source": [
        "plt.figure(figsize=(15,10))\n",
        "sns.barplot(df[df['Class']=='Economy'],x='Flight_code',y='Fare')\n",
        "plt.xlabel('Flight_code')\n",
        "plt.ylabel('Fare')\n",
        "plt.title('Flight_code vs Fare')\n",
        "plt.show()"
      ],
      "metadata": {
        "id": "E7W_ARqJr_UD"
      },
      "execution_count": null,
      "outputs": []
    },
    {
      "cell_type": "code",
      "source": [
        "df['Flight_code'].value_counts()"
      ],
      "metadata": {
        "id": "v-omhbj6r_OU"
      },
      "execution_count": null,
      "outputs": []
    },
    {
      "cell_type": "code",
      "source": [
        "spice_df=df[(df['Class']=='Economy')&(df['Source']=='Delhi') & (df['Destination']=='Mumbai')& (df['Airline']=='SpiceJet') & (df['Journey_day']=='Monday')&(df['Total_stops']=='non-stop')& (df['Fare']!=10573) ]\n",
        "spice_df"
      ],
      "metadata": {
        "id": "b0NCclKAr_Iv"
      },
      "execution_count": null,
      "outputs": []
    },
    {
      "cell_type": "code",
      "source": [
        "plt.figure(figsize=(10,5))\n",
        "sns.barplot(spice_df[spice_df['Class']=='Economy'],x='Flight_code',y='Fare')\n",
        "plt.xlabel('Flight_code')\n",
        "plt.ylabel('Fare')\n",
        "plt.title('Flight_code vs Fare')\n",
        "plt.show()"
      ],
      "metadata": {
        "id": "VAy-z9-Yr_DE"
      },
      "execution_count": null,
      "outputs": []
    },
    {
      "cell_type": "code",
      "source": [
        "spice_df=df[(df['Class']=='Economy')&(df['Source']=='Chennai') & (df['Destination']=='Mumbai')& (df['Airline']=='SpiceJet') & (df['Journey_day']=='Monday')&(df['Total_stops']=='non-stop') ]\n",
        "spice_df"
      ],
      "metadata": {
        "id": "Wn_BRX7Gr-9c"
      },
      "execution_count": null,
      "outputs": []
    },
    {
      "cell_type": "code",
      "source": [
        "plt.figure(figsize=(10,5))\n",
        "sns.barplot(spice_df[spice_df['Class']=='Economy'],x='Flight_code',y='Fare')\n",
        "plt.xlabel('Flight_code')\n",
        "plt.ylabel('Fare')\n",
        "plt.title('Flight_code vs Fare')\n",
        "plt.show()"
      ],
      "metadata": {
        "id": "DHA4oSXWr-3W"
      },
      "execution_count": null,
      "outputs": []
    },
    {
      "cell_type": "code",
      "source": [
        "\n",
        "plt.figure(figsize=(10,5))\n",
        "sns.barplot(df,x='Source',y='Fare',order=df.groupby('Source')['Fare'].mean().sort_values(ascending=False).index)\n",
        "plt.xlabel('Source')\n",
        "plt.ylabel('Fare')\n",
        "plt.title('Source vs Fare')\n",
        "plt.show()"
      ],
      "metadata": {
        "id": "QvHKelGYr-xi"
      },
      "execution_count": null,
      "outputs": []
    },
    {
      "cell_type": "code",
      "source": [
        "plt.figure(figsize=(15,10))\n",
        "sns.barplot(df,x='Destination',y='Fare',order=df.groupby('Destination')['Fare'].mean().sort_values(ascending=False).index)\n",
        "plt.xlabel('Destination')\n",
        "plt.ylabel('Fare')\n",
        "plt.title('Destination vs Fare')\n",
        "plt.show()"
      ],
      "metadata": {
        "id": "Gezw583ar-sP"
      },
      "execution_count": null,
      "outputs": []
    },
    {
      "cell_type": "code",
      "source": [
        "df.groupby('Source')['Fare'].mean().index"
      ],
      "metadata": {
        "id": "TTYDx1Qir-i-"
      },
      "execution_count": null,
      "outputs": []
    },
    {
      "cell_type": "code",
      "source": [
        "df.groupby('Source')['Fare'].mean().sort_values(ascending=False).index"
      ],
      "metadata": {
        "id": "MiOEQ3PDr-d8"
      },
      "execution_count": null,
      "outputs": []
    },
    {
      "cell_type": "code",
      "source": [
        "df.head()"
      ],
      "metadata": {
        "id": "pTOUhMnmr-ZB"
      },
      "execution_count": null,
      "outputs": []
    },
    {
      "cell_type": "code",
      "source": [
        "plt.figure(figsize=(12,7))\n",
        "\n",
        "sns.countplot(x='Airline',hue='Class',data=df, order=df['Airline'].value_counts().index)\n",
        "plt.xlabel('Airline')\n",
        "plt.ylabel('Count')"
      ],
      "metadata": {
        "id": "9iqUU-1rr-T5"
      },
      "execution_count": null,
      "outputs": []
    },
    {
      "cell_type": "code",
      "source": [
        "df.groupby(['Airline'])['Class'].value_counts().plot(kind='bar')"
      ],
      "metadata": {
        "id": "vDDBgHA-r-OP"
      },
      "execution_count": null,
      "outputs": []
    },
    {
      "cell_type": "code",
      "source": [
        "stack_df=df.pivot_table(index='Airline',columns='Class',values='Fare',aggfunc='sum', fill_value=0)\n",
        "stack_df"
      ],
      "metadata": {
        "id": "1fRDye9kr-IL"
      },
      "execution_count": null,
      "outputs": []
    },
    {
      "cell_type": "code",
      "source": [
        "fig=px.bar(df,x='Airline',y='Class')\n",
        "fig.show()"
      ],
      "metadata": {
        "id": "yX85AFPbr-Cx"
      },
      "execution_count": null,
      "outputs": []
    },
    {
      "cell_type": "code",
      "source": [
        "plt.figure(figsize=(30,30))\n",
        "stack_df.plot(kind='bar',stacked=True)\n",
        "plt.xlabel('Airline')\n",
        "plt.ylabel('Fare')\n",
        "plt.title('Airline vs Fare')\n",
        "plt.show()\n"
      ],
      "metadata": {
        "id": "k2Dkmybsr99d"
      },
      "execution_count": null,
      "outputs": []
    },
    {
      "cell_type": "code",
      "source": [
        "stack_df"
      ],
      "metadata": {
        "id": "az7ERh5Lr94O"
      },
      "execution_count": null,
      "outputs": []
    },
    {
      "cell_type": "code",
      "source": [
        "help(sns.countplot)"
      ],
      "metadata": {
        "id": "7KPvMlTtr9zB"
      },
      "execution_count": null,
      "outputs": []
    },
    {
      "cell_type": "code",
      "source": [],
      "metadata": {
        "id": "7F3V_r7er9UH"
      },
      "execution_count": null,
      "outputs": []
    }
  ]
}