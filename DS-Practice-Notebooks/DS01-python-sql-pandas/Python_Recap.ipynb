{
  "nbformat": 4,
  "nbformat_minor": 0,
  "metadata": {
    "colab": {
      "provenance": [],
      "toc_visible": true,
      "authorship_tag": "ABX9TyOx3dFUDeaZdjvakJXpzJDL",
      "include_colab_link": true
    },
    "kernelspec": {
      "name": "python3",
      "display_name": "Python 3"
    },
    "language_info": {
      "name": "python"
    }
  },
  "cells": [
    {
      "cell_type": "markdown",
      "metadata": {
        "id": "view-in-github",
        "colab_type": "text"
      },
      "source": [
        "<a href=\"https://colab.research.google.com/github/Infant-Joshva/Data-Science-learning-path/blob/main/DS-Practice-Notebooks/DS01-python-sql-pandas/Python_Recap.ipynb\" target=\"_parent\"><img src=\"https://colab.research.google.com/assets/colab-badge.svg\" alt=\"Open In Colab\"/></a>"
      ]
    },
    {
      "cell_type": "markdown",
      "source": [
        "# Variables and Data types"
      ],
      "metadata": {
        "id": "MrMX6tp82nz3"
      }
    },
    {
      "cell_type": "code",
      "execution_count": null,
      "metadata": {
        "colab": {
          "base_uri": "https://localhost:8080/"
        },
        "id": "CoPUyfKLxYyc",
        "outputId": "d9612fe8-1fd6-4ef8-84a0-eda276e13092"
      },
      "outputs": [
        {
          "output_type": "stream",
          "name": "stdout",
          "text": [
            "10 <class 'int'>\n"
          ]
        }
      ],
      "source": [
        "age = 10\n",
        "print(age, type(age))"
      ]
    },
    {
      "cell_type": "code",
      "source": [
        "price=99.9\n",
        "print(price, type(price))"
      ],
      "metadata": {
        "colab": {
          "base_uri": "https://localhost:8080/"
        },
        "id": "xT98q8lY39P1",
        "outputId": "1e1cfb9a-ee54-4b54-d77f-b27d23866a89"
      },
      "execution_count": null,
      "outputs": [
        {
          "output_type": "stream",
          "name": "stdout",
          "text": [
            "99.9 <class 'float'>\n"
          ]
        }
      ]
    },
    {
      "cell_type": "code",
      "source": [
        "name='Infant joshva'\n",
        "print(name, type(name))"
      ],
      "metadata": {
        "colab": {
          "base_uri": "https://localhost:8080/"
        },
        "id": "jmWt5V_M31Nu",
        "outputId": "697a3243-390e-47e6-a16b-aa5c284429a8"
      },
      "execution_count": null,
      "outputs": [
        {
          "output_type": "stream",
          "name": "stdout",
          "text": [
            "Infant joshva <class 'str'>\n"
          ]
        }
      ]
    },
    {
      "cell_type": "code",
      "source": [
        "is_active = True\n",
        "print(is_active, type(is_active))"
      ],
      "metadata": {
        "colab": {
          "base_uri": "https://localhost:8080/"
        },
        "id": "e5Muk04P37Nk",
        "outputId": "83ce1a17-7450-4b00-d004-2e37ce36c472"
      },
      "execution_count": null,
      "outputs": [
        {
          "output_type": "stream",
          "name": "stdout",
          "text": [
            "True <class 'bool'>\n"
          ]
        }
      ]
    },
    {
      "cell_type": "code",
      "source": [
        "addres = None\n",
        "print(addres, type(addres))"
      ],
      "metadata": {
        "colab": {
          "base_uri": "https://localhost:8080/"
        },
        "id": "Epr_XypP4FaV",
        "outputId": "cc94f2ca-e845-4e08-b773-ce6f38078ea4"
      },
      "execution_count": null,
      "outputs": [
        {
          "output_type": "stream",
          "name": "stdout",
          "text": [
            "None <class 'NoneType'>\n"
          ]
        }
      ]
    },
    {
      "cell_type": "markdown",
      "source": [
        "# Variable scope"
      ],
      "metadata": {
        "id": "AS9BYKoD4oLV"
      }
    },
    {
      "cell_type": "markdown",
      "source": [
        "Local -> Enclosing -> Global -> Build-in"
      ],
      "metadata": {
        "id": "5f9erfHE4qOE"
      }
    },
    {
      "cell_type": "markdown",
      "source": [
        "## Local"
      ],
      "metadata": {
        "id": "DDDYDUwZ46Es"
      }
    },
    {
      "cell_type": "code",
      "source": [
        "# Local variabel is variable inside the function\n",
        "\n",
        "def order(food):\n",
        "  print(food)\n",
        "\n",
        "order('Pizza')"
      ],
      "metadata": {
        "colab": {
          "base_uri": "https://localhost:8080/"
        },
        "id": "9m4XxP7A4JT8",
        "outputId": "49b5d517-66f1-4429-9c15-59674e189547"
      },
      "execution_count": null,
      "outputs": [
        {
          "output_type": "stream",
          "name": "stdout",
          "text": [
            "Pizza\n"
          ]
        }
      ]
    },
    {
      "cell_type": "code",
      "source": [
        "# We cant call the variable givin inside the function is called the local variables\n",
        "print(food)"
      ],
      "metadata": {
        "colab": {
          "base_uri": "https://localhost:8080/",
          "height": 159
        },
        "id": "zs1n9Prt5LSu",
        "outputId": "09daff9d-44a2-4828-94ba-491c3e39ace2"
      },
      "execution_count": null,
      "outputs": [
        {
          "output_type": "error",
          "ename": "NameError",
          "evalue": "name 'food' is not defined",
          "traceback": [
            "\u001b[0;31m---------------------------------------------------------------------------\u001b[0m",
            "\u001b[0;31mNameError\u001b[0m                                 Traceback (most recent call last)",
            "\u001b[0;32m/tmp/ipython-input-1004780339.py\u001b[0m in \u001b[0;36m<cell line: 0>\u001b[0;34m()\u001b[0m\n\u001b[1;32m      1\u001b[0m \u001b[0;31m# We cant call the variable givin inside the function is called the local variables\u001b[0m\u001b[0;34m\u001b[0m\u001b[0;34m\u001b[0m\u001b[0m\n\u001b[0;32m----> 2\u001b[0;31m \u001b[0mprint\u001b[0m\u001b[0;34m(\u001b[0m\u001b[0mfood\u001b[0m\u001b[0;34m)\u001b[0m\u001b[0;34m\u001b[0m\u001b[0;34m\u001b[0m\u001b[0m\n\u001b[0m",
            "\u001b[0;31mNameError\u001b[0m: name 'food' is not defined"
          ]
        }
      ]
    },
    {
      "cell_type": "markdown",
      "source": [
        "## Enclosing"
      ],
      "metadata": {
        "id": "lXdUJx5w5cUN"
      }
    },
    {
      "cell_type": "code",
      "source": [
        "# We can use the variable that was used inside the function like nested function, function inside the function\n",
        "\n",
        "def kart():\n",
        "  discount=10\n",
        "\n",
        "  def applying_discount():\n",
        "    print('Applying the discount',discount,'%')\n",
        "\n",
        "  applying_discount()\n",
        "\n",
        "kart()"
      ],
      "metadata": {
        "colab": {
          "base_uri": "https://localhost:8080/"
        },
        "id": "JcC6uxef5QK8",
        "outputId": "98a57c87-ddd6-4b63-da64-48c8b65dabdf"
      },
      "execution_count": null,
      "outputs": [
        {
          "output_type": "stream",
          "name": "stdout",
          "text": [
            "Applying the discount 10 %\n"
          ]
        }
      ]
    },
    {
      "cell_type": "markdown",
      "source": [
        "## Global"
      ],
      "metadata": {
        "id": "Ir31v6G76xcd"
      }
    },
    {
      "cell_type": "code",
      "source": [
        "# We can use the variable globally in all function\n",
        "\n",
        "user_name = 'Infant Joshva'\n",
        "\n",
        "def home_page():\n",
        "  print('Welcome the home page',user_name)\n",
        "\n",
        "def profile_page():\n",
        "  print('Welcome the profile page',user_name)\n",
        "\n",
        "home_page()\n",
        "profile_page()\n",
        "\n",
        "#here we using the user_name page globally"
      ],
      "metadata": {
        "colab": {
          "base_uri": "https://localhost:8080/"
        },
        "id": "c6UU2tua6MXF",
        "outputId": "07d8b9a5-4376-45fe-c9b9-09a156319193"
      },
      "execution_count": null,
      "outputs": [
        {
          "output_type": "stream",
          "name": "stdout",
          "text": [
            "Welcome the home page Infant Joshva\n",
            "Welcome the profile page Infant Joshva\n"
          ]
        }
      ]
    },
    {
      "cell_type": "markdown",
      "source": [
        "## Build-in"
      ],
      "metadata": {
        "id": "nTs7gohQ7ppW"
      }
    },
    {
      "cell_type": "code",
      "source": [
        "# Some build-in variables created by python is called as \"Buil-in\" variables\n",
        "\n",
        "print(__import__)"
      ],
      "metadata": {
        "colab": {
          "base_uri": "https://localhost:8080/"
        },
        "id": "NrstgvSD7bu8",
        "outputId": "52c86a88-1506-4e02-e844-41d72f17705f"
      },
      "execution_count": null,
      "outputs": [
        {
          "output_type": "stream",
          "name": "stdout",
          "text": [
            "<built-in function __import__>\n"
          ]
        }
      ]
    },
    {
      "cell_type": "markdown",
      "source": [
        "* Coimbining all together"
      ],
      "metadata": {
        "id": "NxXEFEE58roN"
      }
    },
    {
      "cell_type": "code",
      "source": [
        "delivery_parter = 'Swiggy' # Global variable\n",
        "\n",
        "def item():\n",
        "  item = 'Biriyani' #Enclosing variable\n",
        "\n",
        "  def order_quantity():\n",
        "    quantity = 6 #Local variable\n",
        "    print(f\"Ordering {item} amount {quantity}kg via {delivery_parter}\")\n",
        "\n",
        "  order_quantity()\n",
        "\n",
        "item()"
      ],
      "metadata": {
        "colab": {
          "base_uri": "https://localhost:8080/"
        },
        "id": "UsllAR8A8Bec",
        "outputId": "f478f6a5-5c17-42fd-9b04-d33e934edec9"
      },
      "execution_count": null,
      "outputs": [
        {
          "output_type": "stream",
          "name": "stdout",
          "text": [
            "Ordering Biriyani amount 6kg via Swiggy\n"
          ]
        }
      ]
    },
    {
      "cell_type": "markdown",
      "source": [
        "# Type casting"
      ],
      "metadata": {
        "id": "WjD3EIt8D2D6"
      }
    },
    {
      "cell_type": "markdown",
      "source": [
        "## Type casting 1"
      ],
      "metadata": {
        "id": "QKd4x_lsEmjL"
      }
    },
    {
      "cell_type": "code",
      "source": [
        "x = \"10\"\n",
        "print(type(x))"
      ],
      "metadata": {
        "id": "MibcXL9f92Yt",
        "colab": {
          "base_uri": "https://localhost:8080/"
        },
        "outputId": "72406e77-d60b-4c03-9a95-573735bc220e"
      },
      "execution_count": 1,
      "outputs": [
        {
          "output_type": "stream",
          "name": "stdout",
          "text": [
            "<class 'str'>\n"
          ]
        }
      ]
    },
    {
      "cell_type": "code",
      "source": [
        "x = \"10\"\n",
        "print(int(x))\n",
        "print(type(int(x)))"
      ],
      "metadata": {
        "colab": {
          "base_uri": "https://localhost:8080/"
        },
        "id": "WxPJxQ6MD-zM",
        "outputId": "40dcf2e3-ea08-4b7d-ff02-98f218addcdb"
      },
      "execution_count": 3,
      "outputs": [
        {
          "output_type": "stream",
          "name": "stdout",
          "text": [
            "10\n",
            "<class 'int'>\n"
          ]
        }
      ]
    },
    {
      "cell_type": "markdown",
      "source": [
        "## Type casting 2"
      ],
      "metadata": {
        "id": "kW3RpkDxEpIq"
      }
    },
    {
      "cell_type": "code",
      "source": [
        "y = \"10\"\n",
        "a=int(y)\n",
        "\n",
        "print(type(y))\n",
        "print(type(a))"
      ],
      "metadata": {
        "colab": {
          "base_uri": "https://localhost:8080/"
        },
        "id": "j_06XaXWETtb",
        "outputId": "5dd7d364-eb57-4ea2-c8da-36f69d00a2f4"
      },
      "execution_count": 4,
      "outputs": [
        {
          "output_type": "stream",
          "name": "stdout",
          "text": [
            "<class 'str'>\n",
            "<class 'int'>\n"
          ]
        }
      ]
    },
    {
      "cell_type": "code",
      "source": [
        "x=\"10\"\n",
        "y=\"1\"\n",
        "\n",
        "print(x+y)\n",
        "print(int(x)+int(y))"
      ],
      "metadata": {
        "colab": {
          "base_uri": "https://localhost:8080/"
        },
        "id": "LhVYFtjsE5Wc",
        "outputId": "2b632b4e-db19-460e-d35a-65ab1361ebf1"
      },
      "execution_count": 7,
      "outputs": [
        {
          "output_type": "stream",
          "name": "stdout",
          "text": [
            "101\n",
            "11\n",
            "101\n"
          ]
        }
      ]
    },
    {
      "cell_type": "markdown",
      "source": [
        "* **When it wont work**"
      ],
      "metadata": {
        "id": "0vCq2aBBFjXF"
      }
    },
    {
      "cell_type": "code",
      "source": [
        "x='a'\n",
        "\n",
        "print(int(x)) # It wont work because we can't casting original string to int"
      ],
      "metadata": {
        "colab": {
          "base_uri": "https://localhost:8080/",
          "height": 176
        },
        "id": "VKHFCI-hFVlb",
        "outputId": "abd55358-a6a2-4528-f510-52c8cfec5fb8"
      },
      "execution_count": 9,
      "outputs": [
        {
          "output_type": "error",
          "ename": "ValueError",
          "evalue": "invalid literal for int() with base 10: 'a'",
          "traceback": [
            "\u001b[0;31m---------------------------------------------------------------------------\u001b[0m",
            "\u001b[0;31mValueError\u001b[0m                                Traceback (most recent call last)",
            "\u001b[0;32m/tmp/ipython-input-467443661.py\u001b[0m in \u001b[0;36m<cell line: 0>\u001b[0;34m()\u001b[0m\n\u001b[1;32m      2\u001b[0m \u001b[0my\u001b[0m\u001b[0;34m=\u001b[0m\u001b[0;34m'b'\u001b[0m\u001b[0;34m\u001b[0m\u001b[0;34m\u001b[0m\u001b[0m\n\u001b[1;32m      3\u001b[0m \u001b[0;34m\u001b[0m\u001b[0m\n\u001b[0;32m----> 4\u001b[0;31m \u001b[0mprint\u001b[0m\u001b[0;34m(\u001b[0m\u001b[0mint\u001b[0m\u001b[0;34m(\u001b[0m\u001b[0mx\u001b[0m\u001b[0;34m)\u001b[0m\u001b[0;34m)\u001b[0m \u001b[0;31m# It wont work because we can't casting original string to int\u001b[0m\u001b[0;34m\u001b[0m\u001b[0;34m\u001b[0m\u001b[0m\n\u001b[0m",
            "\u001b[0;31mValueError\u001b[0m: invalid literal for int() with base 10: 'a'"
          ]
        }
      ]
    },
    {
      "cell_type": "code",
      "source": [
        "y=10\n",
        "\n",
        "print(type(str(y))) # It will work because we can casting original int"
      ],
      "metadata": {
        "colab": {
          "base_uri": "https://localhost:8080/"
        },
        "id": "LEI2XC9EFrzx",
        "outputId": "a21964dc-12d3-4e3d-8f07-7c6a48dd3a6b"
      },
      "execution_count": 11,
      "outputs": [
        {
          "output_type": "stream",
          "name": "stdout",
          "text": [
            "<class 'str'>\n"
          ]
        }
      ]
    },
    {
      "cell_type": "markdown",
      "source": [
        "# Operators"
      ],
      "metadata": {
        "id": "HM2gHFWnGUyD"
      }
    },
    {
      "cell_type": "markdown",
      "source": [
        "## Arithmatic"
      ],
      "metadata": {
        "id": "o8en_el9Haj6"
      }
    },
    {
      "cell_type": "code",
      "source": [
        "a=20\n",
        "b=10\n",
        "\n",
        "print(a+b)\n",
        "print(a-b)\n",
        "print(a*b)\n",
        "print(a/b)\n",
        "print(a%b)\n",
        "print(a**b)\n",
        "print(a // b) #floor"
      ],
      "metadata": {
        "colab": {
          "base_uri": "https://localhost:8080/"
        },
        "id": "KbSe-F8OGLcC",
        "outputId": "524ecfa2-78c7-4ed6-f789-0377870c60de"
      },
      "execution_count": 12,
      "outputs": [
        {
          "output_type": "stream",
          "name": "stdout",
          "text": [
            "30\n",
            "10\n",
            "200\n",
            "2.0\n",
            "0\n",
            "10240000000000\n",
            "2\n"
          ]
        }
      ]
    },
    {
      "cell_type": "markdown",
      "source": [
        "## Comparision"
      ],
      "metadata": {
        "id": "LZsaJSyIHfj0"
      }
    },
    {
      "cell_type": "code",
      "source": [
        "a=10\n",
        "b=20\n",
        "\n",
        "print(a==b)\n",
        "print(a!=b)\n",
        "print(a>b)\n",
        "print(a<b)\n",
        "print(a>=b)\n",
        "print(a<=b)\n"
      ],
      "metadata": {
        "colab": {
          "base_uri": "https://localhost:8080/"
        },
        "id": "WZpZHe6EHRc7",
        "outputId": "aab5b427-abf6-4cd9-e7ac-b395e27a7372"
      },
      "execution_count": 13,
      "outputs": [
        {
          "output_type": "stream",
          "name": "stdout",
          "text": [
            "False\n",
            "True\n",
            "False\n",
            "True\n",
            "False\n",
            "True\n"
          ]
        }
      ]
    },
    {
      "cell_type": "markdown",
      "source": [
        "## Logical"
      ],
      "metadata": {
        "id": "uZpMyGUxHtVS"
      }
    },
    {
      "cell_type": "code",
      "source": [
        "a=True\n",
        "b=False\n",
        "\n",
        "print(a and b)\n",
        "print(a or b)\n",
        "print(not a)"
      ],
      "metadata": {
        "colab": {
          "base_uri": "https://localhost:8080/"
        },
        "id": "aNo80Lh6HsLD",
        "outputId": "96d4a8f5-98c1-457b-8e15-890d6afd6db6"
      },
      "execution_count": 14,
      "outputs": [
        {
          "output_type": "stream",
          "name": "stdout",
          "text": [
            "False\n",
            "True\n",
            "False\n"
          ]
        }
      ]
    },
    {
      "cell_type": "markdown",
      "source": [
        "### Practical"
      ],
      "metadata": {
        "id": "PlIhr62FJO9y"
      }
    },
    {
      "cell_type": "markdown",
      "source": [
        "* **Billing  calculation**"
      ],
      "metadata": {
        "id": "OEsK5x6KIBxa"
      }
    },
    {
      "cell_type": "code",
      "source": [
        "amount=1200\n",
        "tax=amount*0.18\n",
        "total=amount+tax\n",
        "\n",
        "print(f\"actual total {total}\")\n",
        "\n",
        "if total>=1000:\n",
        "  discount = total *0.10\n",
        "  total -= discount\n",
        "\n",
        "print(total)"
      ],
      "metadata": {
        "colab": {
          "base_uri": "https://localhost:8080/"
        },
        "id": "GxNHS5mHH9Fz",
        "outputId": "412b3da5-f4b3-4a45-df66-c614fa896bf1"
      },
      "execution_count": 15,
      "outputs": [
        {
          "output_type": "stream",
          "name": "stdout",
          "text": [
            "actual total 1416.0\n",
            "1274.4\n"
          ]
        }
      ]
    },
    {
      "cell_type": "markdown",
      "source": [
        "* **Student calculation**"
      ],
      "metadata": {
        "id": "JExllxe7Ja2y"
      }
    },
    {
      "cell_type": "code",
      "source": [
        "age=60\n",
        "student='Yes'\n",
        "\n",
        "if age>=60 or student=='Yes':\n",
        "  print('Eligible for discount')\n",
        "else:\n",
        "  print('Not eligible for discount')\n",
        "#"
      ],
      "metadata": {
        "colab": {
          "base_uri": "https://localhost:8080/"
        },
        "id": "wxiS2u19JFAj",
        "outputId": "299398a9-e3e0-4c0a-f600-9b18e44f6d2b"
      },
      "execution_count": 21,
      "outputs": [
        {
          "output_type": "stream",
          "name": "stdout",
          "text": [
            "Eligible for discount\n"
          ]
        }
      ]
    },
    {
      "cell_type": "markdown",
      "source": [
        "# Input"
      ],
      "metadata": {
        "id": "HXzAh2mCKDZi"
      }
    },
    {
      "cell_type": "code",
      "source": [
        "a=10\n",
        "b=20\n",
        "# Thi code is called hard coding, it's not a best practice\n",
        "print(a+b)"
      ],
      "metadata": {
        "colab": {
          "base_uri": "https://localhost:8080/"
        },
        "id": "v9vickdsKyci",
        "outputId": "c1275620-ee86-4efc-91d3-687b02d98c01"
      },
      "execution_count": 22,
      "outputs": [
        {
          "output_type": "stream",
          "name": "stdout",
          "text": [
            "30\n"
          ]
        }
      ]
    },
    {
      "cell_type": "markdown",
      "source": [
        "## Input method 1"
      ],
      "metadata": {
        "id": "jhPZy8yZMGYC"
      }
    },
    {
      "cell_type": "code",
      "source": [
        "a = input(\"Enter the first number: \") #By default python will collect all as str, that's why it's give output as concatenate\n",
        "b = input(\"Enter the second number: \")\n",
        "print(a+b)"
      ],
      "metadata": {
        "colab": {
          "base_uri": "https://localhost:8080/"
        },
        "id": "uQ4fqLbnLrJj",
        "outputId": "b17d320c-efb2-4f07-e44d-9194f61341d3"
      },
      "execution_count": 25,
      "outputs": [
        {
          "output_type": "stream",
          "name": "stdout",
          "text": [
            "Enter the first number: 10\n",
            "Enter the second number: 20\n",
            "1020\n"
          ]
        }
      ]
    },
    {
      "cell_type": "code",
      "source": [
        "a = int(input(\"Enter the first number: \"))\n",
        "b = int(input(\"Enter the second number: \"))\n",
        "print(a+b)"
      ],
      "metadata": {
        "colab": {
          "base_uri": "https://localhost:8080/"
        },
        "id": "UVdiIfJMK_VT",
        "outputId": "94a434d2-ae4c-4dc9-95ec-a2b8cf28d87d"
      },
      "execution_count": 24,
      "outputs": [
        {
          "output_type": "stream",
          "name": "stdout",
          "text": [
            "Enter the first number: 10\n",
            "Enter the second number: 20\n",
            "30\n"
          ]
        }
      ]
    },
    {
      "cell_type": "markdown",
      "source": [
        "## Input method 2 - Scheduling"
      ],
      "metadata": {
        "id": "0UgNI7EaMJ87"
      }
    },
    {
      "cell_type": "markdown",
      "source": [
        "### **sys.argv**"
      ],
      "metadata": {
        "id": "G2dUJLkVMirL"
      }
    },
    {
      "cell_type": "markdown",
      "source": [
        "* in this code block used in company for scheduling code we dont need to enter input it will take it from any database or whichever database was given for it"
      ],
      "metadata": {
        "id": "eYuH5dobPhyK"
      }
    },
    {
      "cell_type": "markdown",
      "source": [
        "\n",
        "\n",
        "> Note this code only works in local desktop terminal\n",
        "\n"
      ],
      "metadata": {
        "id": "Lm5tewgvQJBM"
      }
    },
    {
      "cell_type": "code",
      "source": [
        "import sys\n",
        "\n",
        "fullname=sys.argv[1]\n",
        "\n",
        "#format the name\n",
        "email=fullname.lower().replace(\" \",\".\") + \"@gmail.com\"\n",
        "\n",
        "print(fullname)\n",
        "print(email)"
      ],
      "metadata": {
        "colab": {
          "base_uri": "https://localhost:8080/"
        },
        "id": "2yenCZuqLfgi",
        "outputId": "68c50cab-408c-4fea-f133-17f686476788"
      },
      "execution_count": 29,
      "outputs": [
        {
          "output_type": "stream",
          "name": "stdout",
          "text": [
            "-f\n",
            "-f@gmail.com\n"
          ]
        }
      ]
    },
    {
      "cell_type": "markdown",
      "source": [
        "* What if user want lastname"
      ],
      "metadata": {
        "id": "Rp0UOsuOQOyK"
      }
    },
    {
      "cell_type": "code",
      "source": [
        "import sys\n",
        "\n",
        "fullname=sys.argv[1]\n",
        "lastname=sys.argv[2]\n",
        "\n",
        "#format the name\n",
        "email=fullname.lower().replace(\" \",\".\") + lastname + \"@gmail.com\"\n",
        "\n",
        "print(fullname+lastname)\n",
        "print(email)"
      ],
      "metadata": {
        "colab": {
          "base_uri": "https://localhost:8080/"
        },
        "id": "JAPbbaeOOwRj",
        "outputId": "557d5f7e-86f5-4cf9-c2dc-19fb1dbb630b"
      },
      "execution_count": 30,
      "outputs": [
        {
          "output_type": "stream",
          "name": "stdout",
          "text": [
            "-f/root/.local/share/jupyter/runtime/kernel-080015a9-bcbc-4a82-a1ce-f37ae4b3ed65.json\n",
            "-f/root/.local/share/jupyter/runtime/kernel-080015a9-bcbc-4a82-a1ce-f37ae4b3ed65.json@gmail.com\n"
          ]
        }
      ]
    },
    {
      "cell_type": "markdown",
      "source": [
        "* if user did not enter the last name it will through the error, so we use this check to solve this"
      ],
      "metadata": {
        "id": "o9cVx28BQYoi"
      }
    },
    {
      "cell_type": "code",
      "source": [
        "import sys\n",
        "\n",
        "if len(sys.argv) == 2: # it will if user did not enter the lastname otherwise it will exit\n",
        "  print(\"Please enter the last name\")\n",
        "  sys.exit()\n",
        "\n",
        "fullname=sys.argv[1]\n",
        "lastname=sys.argv[2]\n",
        "\n",
        "#format the name\n",
        "email=fullname.lower().replace(\" \",\".\") + lastname + \"@gmail.com\"\n",
        "\n",
        "print(fullname+lastname)\n",
        "print(email)"
      ],
      "metadata": {
        "colab": {
          "base_uri": "https://localhost:8080/"
        },
        "id": "WAFmcWXNQGbr",
        "outputId": "7d8c34c9-bd84-48ca-a065-af624f0b5f62"
      },
      "execution_count": 31,
      "outputs": [
        {
          "output_type": "stream",
          "name": "stdout",
          "text": [
            "-f/root/.local/share/jupyter/runtime/kernel-080015a9-bcbc-4a82-a1ce-f37ae4b3ed65.json\n",
            "-f/root/.local/share/jupyter/runtime/kernel-080015a9-bcbc-4a82-a1ce-f37ae4b3ed65.json@gmail.com\n"
          ]
        }
      ]
    },
    {
      "cell_type": "markdown",
      "source": [
        "* if user has 2 more names we can use this"
      ],
      "metadata": {
        "id": "NP6CqFo4REDh"
      }
    },
    {
      "cell_type": "code",
      "source": [
        "import sys\n",
        "\n",
        "if len(sys.argv) == 2: # it will if user did not enter the lastname otherwise it will exit\n",
        "  print(\"Please enter the last name\")\n",
        "  sys.exit()\n",
        "\n",
        "fullname=\"\".join(sys.argv[1:]) # user can enter their fullnames without barriers\n",
        "\n",
        "#format the name\n",
        "email=fullname.lower().replace(\" \",\".\") + \"@gmail.com\"\n",
        "\n",
        "print(fullname)\n",
        "print(email)"
      ],
      "metadata": {
        "id": "tYjbzHU_Q-KT"
      },
      "execution_count": null,
      "outputs": []
    },
    {
      "cell_type": "markdown",
      "source": [
        "# String handling and manipulation"
      ],
      "metadata": {
        "id": "coNsW4OcR7q0"
      }
    },
    {
      "cell_type": "markdown",
      "source": [
        "* **Lower,Upper,Capitalize**"
      ],
      "metadata": {
        "id": "vYDj1-EbSTgD"
      }
    },
    {
      "cell_type": "code",
      "source": [
        "name = \"infant Joshva\"\n",
        "\n",
        "print(name.lower())\n",
        "print(name.upper())\n",
        "print(name.capitalize()) # it will captalize the first word alone"
      ],
      "metadata": {
        "colab": {
          "base_uri": "https://localhost:8080/"
        },
        "id": "7bIZjOp6SBX1",
        "outputId": "dfa2ca95-7510-4962-f696-01c8f12c8a7e"
      },
      "execution_count": 36,
      "outputs": [
        {
          "output_type": "stream",
          "name": "stdout",
          "text": [
            "infant joshva\n",
            "INFANT JOSHVA\n",
            "Infant joshva\n"
          ]
        }
      ]
    },
    {
      "cell_type": "markdown",
      "source": [
        "* Masked - **string slicing**"
      ],
      "metadata": {
        "id": "LuwPzn-1TKEb"
      }
    },
    {
      "cell_type": "code",
      "source": [
        "mobile_no=\"8899999900\"\n",
        "\n",
        "masked = mobile_no[:2] + \"*\" *6 + mobile_no[-2:]\n",
        "\n",
        "print(masked)"
      ],
      "metadata": {
        "colab": {
          "base_uri": "https://localhost:8080/"
        },
        "id": "5F51lb29SbvT",
        "outputId": "4a31e657-e809-4db6-cc47-3c0ada2e39c0"
      },
      "execution_count": 42,
      "outputs": [
        {
          "output_type": "stream",
          "name": "stdout",
          "text": [
            "88******00\n"
          ]
        }
      ]
    },
    {
      "cell_type": "markdown",
      "source": [
        "* **Title**"
      ],
      "metadata": {
        "id": "dQCHX3bdT0wb"
      }
    },
    {
      "cell_type": "code",
      "source": [
        "# Here all the datas are look like ugly, so we can use the title fuction to solve this issue\n",
        "song = \"SHApe oF yOu\"\n",
        "artist = \"eD sHeeRAn\"\n",
        "\n",
        "Foramtted = song.title() + \" - \" + artist.title()\n",
        "print(Foramtted)"
      ],
      "metadata": {
        "colab": {
          "base_uri": "https://localhost:8080/"
        },
        "id": "3sz7RyRyTUtW",
        "outputId": "382d2d03-43fa-44d1-d406-08b281668a2e"
      },
      "execution_count": 44,
      "outputs": [
        {
          "output_type": "stream",
          "name": "stdout",
          "text": [
            "Shape Of You - Ed Sheeran\n"
          ]
        }
      ]
    },
    {
      "cell_type": "markdown",
      "source": [
        "* **Replace**"
      ],
      "metadata": {
        "id": "sG-nCJGGUzAT"
      }
    },
    {
      "cell_type": "code",
      "source": [
        "from os import replace\n",
        "pickup_location = \"Gandhipuram Bus Stop\"\n",
        "\n",
        "fixed_location = pickup_location.replace(\"Gandhipuram Bus Stop\",\"Singanallur Bus Stand\")\n",
        "\n",
        "print(fixed_location)"
      ],
      "metadata": {
        "colab": {
          "base_uri": "https://localhost:8080/"
        },
        "id": "T0TUvB6AUfbL",
        "outputId": "6af0a137-2435-413c-d74a-1e55b1d5c75f"
      },
      "execution_count": 45,
      "outputs": [
        {
          "output_type": "stream",
          "name": "stdout",
          "text": [
            "Singanallur Bus Stand\n"
          ]
        }
      ]
    },
    {
      "cell_type": "markdown",
      "source": [
        "* **Split,Strip** - In split default delimter is **space**"
      ],
      "metadata": {
        "id": "z63QfSBrV58T"
      }
    },
    {
      "cell_type": "code",
      "source": [
        "uber_message = \"Your booking id is: UB123456. Please keep it safe\"\n",
        "\n",
        "booking_id = uber_message.split(\":\")[1].split(\".\")[0].strip()\n",
        "#We can split the word by using the delimter which is in front of the target values\n",
        "# And strip is used to remove the space before and after the target values\n",
        "print(booking_id)"
      ],
      "metadata": {
        "colab": {
          "base_uri": "https://localhost:8080/"
        },
        "id": "2LBcxgl0V9qj",
        "outputId": "35d6a631-68d2-4ca3-d7ff-55c8fa85f722"
      },
      "execution_count": 47,
      "outputs": [
        {
          "output_type": "stream",
          "name": "stdout",
          "text": [
            "UB123456\n"
          ]
        }
      ]
    },
    {
      "cell_type": "code",
      "source": [
        "dirty_input = \"   hi \"\n",
        "clean_input=dirty_input.strip()\n",
        "print(clean_input)"
      ],
      "metadata": {
        "colab": {
          "base_uri": "https://localhost:8080/"
        },
        "id": "THzcMfXMbehj",
        "outputId": "66858063-82b3-463e-e2fb-a2c6a093b290"
      },
      "execution_count": 53,
      "outputs": [
        {
          "output_type": "stream",
          "name": "stdout",
          "text": [
            "hi\n"
          ]
        }
      ]
    },
    {
      "cell_type": "markdown",
      "source": [
        "* Search the string"
      ],
      "metadata": {
        "id": "4dTENUaKZB_T"
      }
    },
    {
      "cell_type": "code",
      "source": [
        "promo_msg = \"Use the Zomato100 to get 100 off on your first order\"\n",
        "if \"Zomato100\" in promo_msg:\n",
        "  print(\"Offer is valid\")\n",
        "else:\n",
        "  print(\"Offer is invalid\")"
      ],
      "metadata": {
        "colab": {
          "base_uri": "https://localhost:8080/"
        },
        "id": "rX3c9MU7WZyT",
        "outputId": "e5348883-ead1-4fa5-e8eb-7d08f3a90ed1"
      },
      "execution_count": 48,
      "outputs": [
        {
          "output_type": "stream",
          "name": "stdout",
          "text": [
            "Offer is valid\n"
          ]
        }
      ]
    },
    {
      "cell_type": "markdown",
      "source": [
        "* **Find** - Find the position of target value"
      ],
      "metadata": {
        "id": "2PbDBRtPZbu7"
      }
    },
    {
      "cell_type": "code",
      "source": [
        "Feedback = \"The driver was polite and the ride was safe\"\n",
        "\n",
        "print(\"Position is:\",Feedback.find(\"polite\"))"
      ],
      "metadata": {
        "colab": {
          "base_uri": "https://localhost:8080/"
        },
        "id": "W44FPec6ZWZq",
        "outputId": "a1ce7bf5-29dd-441f-b54d-4549efb52635"
      },
      "execution_count": 49,
      "outputs": [
        {
          "output_type": "stream",
          "name": "stdout",
          "text": [
            "Position is: 15\n"
          ]
        }
      ]
    },
    {
      "cell_type": "markdown",
      "source": [
        "* **Join**"
      ],
      "metadata": {
        "id": "Yf4EeC75a2a7"
      }
    },
    {
      "cell_type": "code",
      "source": [
        "name=\"Infant Joshva\"\n",
        "\n",
        "initials=\" \".join([word[0].upper() for word in name.split()])\n",
        "print(initials)"
      ],
      "metadata": {
        "colab": {
          "base_uri": "https://localhost:8080/"
        },
        "id": "KBh7nGMNZzcS",
        "outputId": "58883b7a-b722-48f7-bc60-624bd1c9e9a5"
      },
      "execution_count": 52,
      "outputs": [
        {
          "output_type": "stream",
          "name": "stdout",
          "text": [
            "I J\n"
          ]
        }
      ]
    },
    {
      "cell_type": "markdown",
      "source": [
        "* **Len**"
      ],
      "metadata": {
        "id": "t760wXtDb247"
      }
    },
    {
      "cell_type": "code",
      "source": [
        "message=\"The trip was good and everyone enjoyed it!!\"\n",
        "length_of_message=len(message) #it will count the each letter\n",
        "print(length_of_message)"
      ],
      "metadata": {
        "colab": {
          "base_uri": "https://localhost:8080/"
        },
        "id": "XwU6civjbMkj",
        "outputId": "62cfe0a1-e8a2-42d5-82b2-f94357c363b7"
      },
      "execution_count": 55,
      "outputs": [
        {
          "output_type": "stream",
          "name": "stdout",
          "text": [
            "43\n"
          ]
        }
      ]
    },
    {
      "cell_type": "code",
      "source": [
        "message=\"The trip was good and everyone enjoyed it!!\"\n",
        "length_of_message=len(message.split())\n",
        "#it will count the each word,So we can count the word in sentence with the help of len with split()\n",
        "print(length_of_message)"
      ],
      "metadata": {
        "colab": {
          "base_uri": "https://localhost:8080/"
        },
        "id": "t9HuaZeBcCB6",
        "outputId": "9f198dda-6d1b-43d7-ecd1-3ed7e280debb"
      },
      "execution_count": 58,
      "outputs": [
        {
          "output_type": "stream",
          "name": "stdout",
          "text": [
            "8\n"
          ]
        }
      ]
    },
    {
      "cell_type": "code",
      "source": [],
      "metadata": {
        "id": "rvFPTNfNcM6q"
      },
      "execution_count": null,
      "outputs": []
    },
    {
      "cell_type": "markdown",
      "source": [
        "# Conditional statement - **if,else,elif**"
      ],
      "metadata": {
        "id": "2dLK-Z-6dFv6"
      }
    },
    {
      "cell_type": "markdown",
      "source": [
        "* **If**"
      ],
      "metadata": {
        "id": "2nGwJsg8dzCr"
      }
    },
    {
      "cell_type": "code",
      "source": [
        "age=18\n",
        "\n",
        "if age>=18:\n",
        "  print(\"You can vote\")"
      ],
      "metadata": {
        "colab": {
          "base_uri": "https://localhost:8080/"
        },
        "id": "K05HBuH2dMJC",
        "outputId": "806be1a4-be70-4fdd-d721-a66335cf4225"
      },
      "execution_count": 59,
      "outputs": [
        {
          "output_type": "stream",
          "name": "stdout",
          "text": [
            "You can vote\n"
          ]
        }
      ]
    },
    {
      "cell_type": "markdown",
      "source": [
        "* **If,else**"
      ],
      "metadata": {
        "id": "hxY_iBakd84z"
      }
    },
    {
      "cell_type": "code",
      "source": [
        "age=17\n",
        "\n",
        "if age>=18:\n",
        "  print(\"You can vote\")\n",
        "else:\n",
        "  print(\"You won't vote\")"
      ],
      "metadata": {
        "colab": {
          "base_uri": "https://localhost:8080/"
        },
        "id": "ePyQlHild7JL",
        "outputId": "7cd6de75-918c-4b39-9f72-b3932fb5ff01"
      },
      "execution_count": 61,
      "outputs": [
        {
          "output_type": "stream",
          "name": "stdout",
          "text": [
            "You won't vote\n"
          ]
        }
      ]
    },
    {
      "cell_type": "markdown",
      "source": [
        "* **Elif**"
      ],
      "metadata": {
        "id": "DWKCK6a9ePW3"
      }
    },
    {
      "cell_type": "code",
      "source": [
        "marks = 46\n",
        "\n",
        "if marks>=90:\n",
        "  print(\"Grade A\")\n",
        "elif marks>=60:\n",
        "  print(\"Grade B\")\n",
        "elif marks>=40:\n",
        "  print(\"Grade C\")\n",
        "else:\n",
        "  print(\"Grade D\")"
      ],
      "metadata": {
        "colab": {
          "base_uri": "https://localhost:8080/"
        },
        "id": "y7FPh-WIeK_6",
        "outputId": "978c89b5-6694-4ee3-ac02-cf83428951d4"
      },
      "execution_count": 62,
      "outputs": [
        {
          "output_type": "stream",
          "name": "stdout",
          "text": [
            "Grade C\n"
          ]
        }
      ]
    },
    {
      "cell_type": "markdown",
      "source": [
        "* **Nested if**"
      ],
      "metadata": {
        "id": "2jrlXwL1evqb"
      }
    },
    {
      "cell_type": "code",
      "source": [
        "age = 15\n",
        "has_license = 'Yes'\n",
        "\n",
        "print(\"your age is:\",age)\n",
        "print(\"Do you have a license:\",has_license)\n",
        "\n",
        "if age>=18:\n",
        "  if has_license=='Yes':\n",
        "    print(\"You can drive\")\n",
        "  else:\n",
        "    print(\"You can't drive\")\n",
        "else:\n",
        "  print(\"You are too young\")"
      ],
      "metadata": {
        "colab": {
          "base_uri": "https://localhost:8080/"
        },
        "id": "L20S0PWpes7j",
        "outputId": "4ad06714-2dc3-40af-8522-7b49dd3aa76a"
      },
      "execution_count": 66,
      "outputs": [
        {
          "output_type": "stream",
          "name": "stdout",
          "text": [
            "your age is: 15\n",
            "Do you have a license: Yes\n",
            "You are too young\n"
          ]
        }
      ]
    },
    {
      "cell_type": "markdown",
      "source": [
        "* Condition with **And**"
      ],
      "metadata": {
        "id": "hxfCNclSfjaM"
      }
    },
    {
      "cell_type": "code",
      "source": [
        "age = 18\n",
        "has_license = 'No'\n",
        "\n",
        "if age>=18 and has_license == 'Yes':\n",
        "  print(\"Your eligible to ride\")\n",
        "else:\n",
        "  print(\"You are not eligible to ride\")"
      ],
      "metadata": {
        "colab": {
          "base_uri": "https://localhost:8080/"
        },
        "id": "nTK92tLPe_bD",
        "outputId": "5a532d2f-46c4-4296-f1a2-85f1b01aa9e8"
      },
      "execution_count": 70,
      "outputs": [
        {
          "output_type": "stream",
          "name": "stdout",
          "text": [
            "You are not eligible to ride\n"
          ]
        }
      ]
    },
    {
      "cell_type": "markdown",
      "source": [
        "* Condition with **Or**"
      ],
      "metadata": {
        "id": "sdetc0cUg9R1"
      }
    },
    {
      "cell_type": "code",
      "source": [
        "mark = 29\n",
        "attendance = 80\n",
        "\n",
        "if mark>=35 or attendance >=80:\n",
        "  print(\"You are eligible to write to a sem exam\")\n",
        "else:\n",
        "  print(\"You are not eligible to write a sem exam\")"
      ],
      "metadata": {
        "colab": {
          "base_uri": "https://localhost:8080/"
        },
        "id": "t7cH45nJgDsL",
        "outputId": "eeb8e9d7-f10d-41d9-ed01-33bf7bd133af"
      },
      "execution_count": 74,
      "outputs": [
        {
          "output_type": "stream",
          "name": "stdout",
          "text": [
            "You are eligible to write to a sem exam\n"
          ]
        }
      ]
    },
    {
      "cell_type": "code",
      "source": [
        "# Condition: If the user has recharge for the amount of 399 or\n",
        "# if the user current data is more than 1gb is eligible to get offer\n",
        "\n",
        "recharge_amount = 299\n",
        "data_balance = 1.2\n",
        "\n",
        "if recharge_amount == 399 or data_balance >= 1:\n",
        "  print(\"You are eligible for the offer\")\n",
        "else:\n",
        "  print(\"You are not eligible for the offer\")"
      ],
      "metadata": {
        "colab": {
          "base_uri": "https://localhost:8080/"
        },
        "id": "sn1BndHvglzL",
        "outputId": "83a80c88-af1e-4f97-c182-b092a78b0870"
      },
      "execution_count": 77,
      "outputs": [
        {
          "output_type": "stream",
          "name": "stdout",
          "text": [
            "You are eligible for the offer\n"
          ]
        }
      ]
    },
    {
      "cell_type": "markdown",
      "source": [
        "\n",
        "\n",
        "> Condition with **And, Or**\n",
        "\n"
      ],
      "metadata": {
        "id": "lm_UODmthwkk"
      }
    },
    {
      "cell_type": "code",
      "source": [
        "#Swiggy offer\n",
        "\n",
        "order_amount = 500\n",
        "day = \"Saturday\"\n",
        "membership = \"Yes\"\n",
        "\n",
        "if (order_amount >= 1000 and day == \"Saturday\") or membership == \"Yes\":\n",
        "  print(\"You are eligible for the offer\")\n",
        "else:\n",
        "  print(\"You are not eligible for the offer\")"
      ],
      "metadata": {
        "colab": {
          "base_uri": "https://localhost:8080/"
        },
        "id": "73LDQEC0hqBj",
        "outputId": "572d7812-432c-4343-94cc-d021ebd6da1a"
      },
      "execution_count": 80,
      "outputs": [
        {
          "output_type": "stream",
          "name": "stdout",
          "text": [
            "You are eligible for the offer\n"
          ]
        }
      ]
    },
    {
      "cell_type": "markdown",
      "source": [
        "# Loops"
      ],
      "metadata": {
        "id": "CT7YSzbhjTkc"
      }
    },
    {
      "cell_type": "markdown",
      "source": [
        "## **For**"
      ],
      "metadata": {
        "id": "IL3QP9gBjVAc"
      }
    },
    {
      "cell_type": "markdown",
      "source": [
        "\n",
        "\n",
        "> In for loop you will know the iterate count\n",
        "\n"
      ],
      "metadata": {
        "id": "f3TGs8Rfk6Mc"
      }
    },
    {
      "cell_type": "code",
      "source": [
        "name_list = ['Vijay','Ajay','Karthik','Dhanush','Surya']\n",
        "\n",
        "for name in name_list:\n",
        "  print(name.upper())"
      ],
      "metadata": {
        "colab": {
          "base_uri": "https://localhost:8080/"
        },
        "id": "MSnxHGIQib0b",
        "outputId": "b0e56e1c-8338-4b20-dfea-5ac1ed64b4cd"
      },
      "execution_count": 81,
      "outputs": [
        {
          "output_type": "stream",
          "name": "stdout",
          "text": [
            "VIJAY\n",
            "AJAY\n",
            "KARTHIK\n",
            "DHANUSH\n",
            "SURYA\n"
          ]
        }
      ]
    },
    {
      "cell_type": "markdown",
      "source": [
        "## **While**"
      ],
      "metadata": {
        "id": "-0GSMWG6joTb"
      }
    },
    {
      "cell_type": "markdown",
      "source": [
        "\n",
        "\n",
        "> It will works util our condition statisfied\n",
        "\n",
        "> In while loop you wont know the iterate count\n",
        "\n",
        "\n",
        "\n"
      ],
      "metadata": {
        "id": "cgM_SW7CkCbD"
      }
    },
    {
      "cell_type": "code",
      "source": [
        "Correct_pin = 456\n",
        "user_pin = int(input())\n",
        "\n",
        "while user_pin != Correct_pin:\n",
        "  print(\"Incorrect pin\")\n",
        "  user_pin = int(input())\n",
        "\n",
        "print(\"\\nPermission Graunted\")"
      ],
      "metadata": {
        "colab": {
          "base_uri": "https://localhost:8080/"
        },
        "id": "RGk22_WXjmTr",
        "outputId": "74d0fcc9-a9f6-48f9-e759-6eb5bc163cd4"
      },
      "execution_count": 85,
      "outputs": [
        {
          "output_type": "stream",
          "name": "stdout",
          "text": [
            "45\n",
            "Incorrect pin\n",
            "456\n",
            "\n",
            "Permission Graunted\n"
          ]
        }
      ]
    },
    {
      "cell_type": "markdown",
      "source": [
        "### Break"
      ],
      "metadata": {
        "id": "Up6scGi0lb5E"
      }
    },
    {
      "cell_type": "markdown",
      "source": [
        "\n",
        "\n",
        "> How to write if condition and break in for loop\n",
        "\n"
      ],
      "metadata": {
        "id": "qiqFjad1lwVr"
      }
    },
    {
      "cell_type": "code",
      "source": [
        "roll_no = [1,3,4,9,7,6,8,2,10,9,5,12,11,13]\n",
        "\n",
        "for roll in roll_no:\n",
        "  if roll == 5:\n",
        "    break # The loop will break if the condition is passed\n",
        "  print(roll)"
      ],
      "metadata": {
        "colab": {
          "base_uri": "https://localhost:8080/"
        },
        "id": "i5bmfT0xkdDq",
        "outputId": "6cfef6be-2729-4fbf-a79f-18ccbd87cabf"
      },
      "execution_count": 87,
      "outputs": [
        {
          "output_type": "stream",
          "name": "stdout",
          "text": [
            "1\n",
            "3\n",
            "4\n",
            "9\n",
            "7\n",
            "6\n",
            "8\n",
            "2\n",
            "10\n",
            "9\n"
          ]
        }
      ]
    },
    {
      "cell_type": "markdown",
      "source": [
        "### Continue -> Skip"
      ],
      "metadata": {
        "id": "gF3IQ3oGmtek"
      }
    },
    {
      "cell_type": "code",
      "source": [
        "Numbers = [2,-5,7,8,-3,-1,1,3]\n",
        "\n",
        "for num in Numbers:\n",
        "  if num < 0:\n",
        "    continue # The loop will skip failed numbers in condition and goes to next values if the condition is passed\n",
        "  print(num)"
      ],
      "metadata": {
        "id": "6bvOZQWkmij8",
        "outputId": "d148bc4b-2203-4054-fd85-3585ad008539",
        "colab": {
          "base_uri": "https://localhost:8080/"
        }
      },
      "execution_count": 88,
      "outputs": [
        {
          "output_type": "stream",
          "name": "stdout",
          "text": [
            "2\n",
            "7\n",
            "8\n",
            "1\n",
            "3\n"
          ]
        }
      ]
    },
    {
      "cell_type": "markdown",
      "source": [
        "### Passs"
      ],
      "metadata": {
        "id": "dZrQIolbn6dz"
      }
    },
    {
      "cell_type": "markdown",
      "source": [
        "\n",
        "\n",
        "> **Pass** is placeholder - If we want a loop in future but it wont need for now, so we can use the pass to skip the loop\n",
        "\n"
      ],
      "metadata": {
        "id": "87tLxEsun_ir"
      }
    },
    {
      "cell_type": "code",
      "source": [
        "Numbers = [2,-5,7,8,-3,-1,1,3]\n",
        "\n",
        "for i in Numbers:\n",
        "    pass #Future logic implementation\n",
        "\n",
        "print(Numbers)"
      ],
      "metadata": {
        "id": "kVJwtKgAn7Y6",
        "outputId": "31a0c233-13fa-4192-c513-af90c3123e88",
        "colab": {
          "base_uri": "https://localhost:8080/"
        }
      },
      "execution_count": 91,
      "outputs": [
        {
          "output_type": "stream",
          "name": "stdout",
          "text": [
            "[2, -5, 7, 8, -3, -1, 1, 3]\n"
          ]
        }
      ]
    },
    {
      "cell_type": "markdown",
      "source": [
        "\n",
        "\n",
        "> Some usecases\n",
        "\n"
      ],
      "metadata": {
        "id": "S3eOWmdeo4mD"
      }
    },
    {
      "cell_type": "code",
      "source": [
        "# Use case 1: Timer\n",
        "\n",
        "count = 5\n",
        "\n",
        "while count>0:\n",
        "  print(f\"countdown {count}\")\n",
        "  count -= 1\n",
        "print(\"Times up!!!\")"
      ],
      "metadata": {
        "id": "O1CKP6YeoZvj",
        "outputId": "af63ccc1-78dc-4b33-f15f-b09a8f06e424",
        "colab": {
          "base_uri": "https://localhost:8080/"
        }
      },
      "execution_count": 93,
      "outputs": [
        {
          "output_type": "stream",
          "name": "stdout",
          "text": [
            "countdown 5\n",
            "countdown 4\n",
            "countdown 3\n",
            "countdown 2\n",
            "countdown 1\n",
            "Times up!!!\n"
          ]
        }
      ]
    },
    {
      "cell_type": "code",
      "source": [
        "# Usecase 2: Amazon Kart\n",
        "\n",
        "Kart = []\n",
        "\n",
        "# True means the loop will start's without condition and it goes infinity,\n",
        "# so we need to give some logic to stop\n",
        "\n",
        "while True:\n",
        "  item = input(\"Add item(type'Done' to finish shopping): \")\n",
        "  if item.lower() == \"done\":\n",
        "    break\n",
        "  Kart.append(item)\n",
        "\n",
        "print(Kart)"
      ],
      "metadata": {
        "id": "zrClZfxvpUyq",
        "outputId": "91ef0e69-2418-48e6-a1b7-7885f5ce413c",
        "colab": {
          "base_uri": "https://localhost:8080/"
        }
      },
      "execution_count": 94,
      "outputs": [
        {
          "output_type": "stream",
          "name": "stdout",
          "text": [
            "Add item(type'Done' to finish shopping): soap\n",
            "Add item(type'Done' to finish shopping): shampoo\n",
            "Add item(type'Done' to finish shopping): milk\n",
            "Add item(type'Done' to finish shopping): brush\n",
            "Add item(type'Done' to finish shopping): paste\n",
            "Add item(type'Done' to finish shopping): done\n",
            "['soap', 'shampoo', 'milk', 'brush', 'paste']\n"
          ]
        }
      ]
    },
    {
      "cell_type": "code",
      "source": [],
      "metadata": {
        "id": "cC1pbbyyrINT"
      },
      "execution_count": null,
      "outputs": []
    }
  ]
}