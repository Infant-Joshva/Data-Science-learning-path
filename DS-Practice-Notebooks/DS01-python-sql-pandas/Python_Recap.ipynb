{
  "nbformat": 4,
  "nbformat_minor": 0,
  "metadata": {
    "colab": {
      "provenance": [],
      "toc_visible": true,
      "authorship_tag": "ABX9TyMGKqndrpuGgMu6DeWlURuG",
      "include_colab_link": true
    },
    "kernelspec": {
      "name": "python3",
      "display_name": "Python 3"
    },
    "language_info": {
      "name": "python"
    }
  },
  "cells": [
    {
      "cell_type": "markdown",
      "metadata": {
        "id": "view-in-github",
        "colab_type": "text"
      },
      "source": [
        "<a href=\"https://colab.research.google.com/github/Infant-Joshva/Data-Science-learning-path/blob/main/DS-Practice-Notebooks/DS01-python-sql-pandas/Python_Recap.ipynb\" target=\"_parent\"><img src=\"https://colab.research.google.com/assets/colab-badge.svg\" alt=\"Open In Colab\"/></a>"
      ]
    },
    {
      "cell_type": "markdown",
      "source": [
        "# Variables and Data types"
      ],
      "metadata": {
        "id": "MrMX6tp82nz3"
      }
    },
    {
      "cell_type": "code",
      "execution_count": null,
      "metadata": {
        "colab": {
          "base_uri": "https://localhost:8080/"
        },
        "id": "CoPUyfKLxYyc",
        "outputId": "d9612fe8-1fd6-4ef8-84a0-eda276e13092"
      },
      "outputs": [
        {
          "output_type": "stream",
          "name": "stdout",
          "text": [
            "10 <class 'int'>\n"
          ]
        }
      ],
      "source": [
        "age = 10\n",
        "print(age, type(age))"
      ]
    },
    {
      "cell_type": "code",
      "source": [
        "price=99.9\n",
        "print(price, type(price))"
      ],
      "metadata": {
        "colab": {
          "base_uri": "https://localhost:8080/"
        },
        "id": "xT98q8lY39P1",
        "outputId": "1e1cfb9a-ee54-4b54-d77f-b27d23866a89"
      },
      "execution_count": null,
      "outputs": [
        {
          "output_type": "stream",
          "name": "stdout",
          "text": [
            "99.9 <class 'float'>\n"
          ]
        }
      ]
    },
    {
      "cell_type": "code",
      "source": [
        "name='Infant joshva'\n",
        "print(name, type(name))"
      ],
      "metadata": {
        "colab": {
          "base_uri": "https://localhost:8080/"
        },
        "id": "jmWt5V_M31Nu",
        "outputId": "697a3243-390e-47e6-a16b-aa5c284429a8"
      },
      "execution_count": null,
      "outputs": [
        {
          "output_type": "stream",
          "name": "stdout",
          "text": [
            "Infant joshva <class 'str'>\n"
          ]
        }
      ]
    },
    {
      "cell_type": "code",
      "source": [
        "is_active = True\n",
        "print(is_active, type(is_active))"
      ],
      "metadata": {
        "colab": {
          "base_uri": "https://localhost:8080/"
        },
        "id": "e5Muk04P37Nk",
        "outputId": "83ce1a17-7450-4b00-d004-2e37ce36c472"
      },
      "execution_count": null,
      "outputs": [
        {
          "output_type": "stream",
          "name": "stdout",
          "text": [
            "True <class 'bool'>\n"
          ]
        }
      ]
    },
    {
      "cell_type": "code",
      "source": [
        "addres = None\n",
        "print(addres, type(addres))"
      ],
      "metadata": {
        "colab": {
          "base_uri": "https://localhost:8080/"
        },
        "id": "Epr_XypP4FaV",
        "outputId": "cc94f2ca-e845-4e08-b773-ce6f38078ea4"
      },
      "execution_count": null,
      "outputs": [
        {
          "output_type": "stream",
          "name": "stdout",
          "text": [
            "None <class 'NoneType'>\n"
          ]
        }
      ]
    },
    {
      "cell_type": "markdown",
      "source": [
        "# Variable scope"
      ],
      "metadata": {
        "id": "AS9BYKoD4oLV"
      }
    },
    {
      "cell_type": "markdown",
      "source": [
        "Local -> Enclosing -> Global -> Build-in"
      ],
      "metadata": {
        "id": "5f9erfHE4qOE"
      }
    },
    {
      "cell_type": "markdown",
      "source": [
        "## Local"
      ],
      "metadata": {
        "id": "DDDYDUwZ46Es"
      }
    },
    {
      "cell_type": "code",
      "source": [
        "# Local variabel is variable inside the function\n",
        "\n",
        "def order(food):\n",
        "  print(food)\n",
        "\n",
        "order('Pizza')"
      ],
      "metadata": {
        "colab": {
          "base_uri": "https://localhost:8080/"
        },
        "id": "9m4XxP7A4JT8",
        "outputId": "49b5d517-66f1-4429-9c15-59674e189547"
      },
      "execution_count": null,
      "outputs": [
        {
          "output_type": "stream",
          "name": "stdout",
          "text": [
            "Pizza\n"
          ]
        }
      ]
    },
    {
      "cell_type": "code",
      "source": [
        "# We cant call the variable givin inside the function is called the local variables\n",
        "print(food)"
      ],
      "metadata": {
        "colab": {
          "base_uri": "https://localhost:8080/",
          "height": 159
        },
        "id": "zs1n9Prt5LSu",
        "outputId": "09daff9d-44a2-4828-94ba-491c3e39ace2"
      },
      "execution_count": null,
      "outputs": [
        {
          "output_type": "error",
          "ename": "NameError",
          "evalue": "name 'food' is not defined",
          "traceback": [
            "\u001b[0;31m---------------------------------------------------------------------------\u001b[0m",
            "\u001b[0;31mNameError\u001b[0m                                 Traceback (most recent call last)",
            "\u001b[0;32m/tmp/ipython-input-1004780339.py\u001b[0m in \u001b[0;36m<cell line: 0>\u001b[0;34m()\u001b[0m\n\u001b[1;32m      1\u001b[0m \u001b[0;31m# We cant call the variable givin inside the function is called the local variables\u001b[0m\u001b[0;34m\u001b[0m\u001b[0;34m\u001b[0m\u001b[0m\n\u001b[0;32m----> 2\u001b[0;31m \u001b[0mprint\u001b[0m\u001b[0;34m(\u001b[0m\u001b[0mfood\u001b[0m\u001b[0;34m)\u001b[0m\u001b[0;34m\u001b[0m\u001b[0;34m\u001b[0m\u001b[0m\n\u001b[0m",
            "\u001b[0;31mNameError\u001b[0m: name 'food' is not defined"
          ]
        }
      ]
    },
    {
      "cell_type": "markdown",
      "source": [
        "## Enclosing"
      ],
      "metadata": {
        "id": "lXdUJx5w5cUN"
      }
    },
    {
      "cell_type": "code",
      "source": [
        "# We can use the variable that was used inside the function like nested function, function inside the function\n",
        "\n",
        "def kart():\n",
        "  discount=10\n",
        "\n",
        "  def applying_discount():\n",
        "    print('Applying the discount',discount,'%')\n",
        "\n",
        "  applying_discount()\n",
        "\n",
        "kart()"
      ],
      "metadata": {
        "colab": {
          "base_uri": "https://localhost:8080/"
        },
        "id": "JcC6uxef5QK8",
        "outputId": "98a57c87-ddd6-4b63-da64-48c8b65dabdf"
      },
      "execution_count": null,
      "outputs": [
        {
          "output_type": "stream",
          "name": "stdout",
          "text": [
            "Applying the discount 10 %\n"
          ]
        }
      ]
    },
    {
      "cell_type": "markdown",
      "source": [
        "## Global"
      ],
      "metadata": {
        "id": "Ir31v6G76xcd"
      }
    },
    {
      "cell_type": "code",
      "source": [
        "# We can use the variable globally in all function\n",
        "\n",
        "user_name = 'Infant Joshva'\n",
        "\n",
        "def home_page():\n",
        "  print('Welcome the home page',user_name)\n",
        "\n",
        "def profile_page():\n",
        "  print('Welcome the profile page',user_name)\n",
        "\n",
        "home_page()\n",
        "profile_page()\n",
        "\n",
        "#here we using the user_name page globally"
      ],
      "metadata": {
        "colab": {
          "base_uri": "https://localhost:8080/"
        },
        "id": "c6UU2tua6MXF",
        "outputId": "07d8b9a5-4376-45fe-c9b9-09a156319193"
      },
      "execution_count": null,
      "outputs": [
        {
          "output_type": "stream",
          "name": "stdout",
          "text": [
            "Welcome the home page Infant Joshva\n",
            "Welcome the profile page Infant Joshva\n"
          ]
        }
      ]
    },
    {
      "cell_type": "markdown",
      "source": [
        "## Build-in"
      ],
      "metadata": {
        "id": "nTs7gohQ7ppW"
      }
    },
    {
      "cell_type": "code",
      "source": [
        "# Some build-in variables created by python is called as \"Buil-in\" variables\n",
        "\n",
        "print(__import__)"
      ],
      "metadata": {
        "colab": {
          "base_uri": "https://localhost:8080/"
        },
        "id": "NrstgvSD7bu8",
        "outputId": "52c86a88-1506-4e02-e844-41d72f17705f"
      },
      "execution_count": null,
      "outputs": [
        {
          "output_type": "stream",
          "name": "stdout",
          "text": [
            "<built-in function __import__>\n"
          ]
        }
      ]
    },
    {
      "cell_type": "markdown",
      "source": [
        "* Coimbining all together"
      ],
      "metadata": {
        "id": "NxXEFEE58roN"
      }
    },
    {
      "cell_type": "code",
      "source": [
        "delivery_parter = 'Swiggy' # Global variable\n",
        "\n",
        "def item():\n",
        "  item = 'Biriyani' #Enclosing variable\n",
        "\n",
        "  def order_quantity():\n",
        "    quantity = 6 #Local variable\n",
        "    print(f\"Ordering {item} amount {quantity}kg via {delivery_parter}\")\n",
        "\n",
        "  order_quantity()\n",
        "\n",
        "item()"
      ],
      "metadata": {
        "colab": {
          "base_uri": "https://localhost:8080/"
        },
        "id": "UsllAR8A8Bec",
        "outputId": "f478f6a5-5c17-42fd-9b04-d33e934edec9"
      },
      "execution_count": null,
      "outputs": [
        {
          "output_type": "stream",
          "name": "stdout",
          "text": [
            "Ordering Biriyani amount 6kg via Swiggy\n"
          ]
        }
      ]
    },
    {
      "cell_type": "markdown",
      "source": [
        "# Type casting"
      ],
      "metadata": {
        "id": "WjD3EIt8D2D6"
      }
    },
    {
      "cell_type": "markdown",
      "source": [
        "## Type casting 1"
      ],
      "metadata": {
        "id": "QKd4x_lsEmjL"
      }
    },
    {
      "cell_type": "code",
      "source": [
        "x = \"10\"\n",
        "print(type(x))"
      ],
      "metadata": {
        "id": "MibcXL9f92Yt",
        "colab": {
          "base_uri": "https://localhost:8080/"
        },
        "outputId": "72406e77-d60b-4c03-9a95-573735bc220e"
      },
      "execution_count": null,
      "outputs": [
        {
          "output_type": "stream",
          "name": "stdout",
          "text": [
            "<class 'str'>\n"
          ]
        }
      ]
    },
    {
      "cell_type": "code",
      "source": [
        "x = \"10\"\n",
        "print(int(x))\n",
        "print(type(int(x)))"
      ],
      "metadata": {
        "colab": {
          "base_uri": "https://localhost:8080/"
        },
        "id": "WxPJxQ6MD-zM",
        "outputId": "40dcf2e3-ea08-4b7d-ff02-98f218addcdb"
      },
      "execution_count": null,
      "outputs": [
        {
          "output_type": "stream",
          "name": "stdout",
          "text": [
            "10\n",
            "<class 'int'>\n"
          ]
        }
      ]
    },
    {
      "cell_type": "markdown",
      "source": [
        "## Type casting 2"
      ],
      "metadata": {
        "id": "kW3RpkDxEpIq"
      }
    },
    {
      "cell_type": "code",
      "source": [
        "y = \"10\"\n",
        "a=int(y)\n",
        "\n",
        "print(type(y))\n",
        "print(type(a))"
      ],
      "metadata": {
        "colab": {
          "base_uri": "https://localhost:8080/"
        },
        "id": "j_06XaXWETtb",
        "outputId": "5dd7d364-eb57-4ea2-c8da-36f69d00a2f4"
      },
      "execution_count": null,
      "outputs": [
        {
          "output_type": "stream",
          "name": "stdout",
          "text": [
            "<class 'str'>\n",
            "<class 'int'>\n"
          ]
        }
      ]
    },
    {
      "cell_type": "code",
      "source": [
        "x=\"10\"\n",
        "y=\"1\"\n",
        "\n",
        "print(x+y)\n",
        "print(int(x)+int(y))"
      ],
      "metadata": {
        "colab": {
          "base_uri": "https://localhost:8080/"
        },
        "id": "LhVYFtjsE5Wc",
        "outputId": "2b632b4e-db19-460e-d35a-65ab1361ebf1"
      },
      "execution_count": null,
      "outputs": [
        {
          "output_type": "stream",
          "name": "stdout",
          "text": [
            "101\n",
            "11\n",
            "101\n"
          ]
        }
      ]
    },
    {
      "cell_type": "markdown",
      "source": [
        "* **When it wont work**"
      ],
      "metadata": {
        "id": "0vCq2aBBFjXF"
      }
    },
    {
      "cell_type": "code",
      "source": [
        "x='a'\n",
        "\n",
        "print(int(x)) # It wont work because we can't casting original string to int"
      ],
      "metadata": {
        "colab": {
          "base_uri": "https://localhost:8080/",
          "height": 176
        },
        "id": "VKHFCI-hFVlb",
        "outputId": "abd55358-a6a2-4528-f510-52c8cfec5fb8"
      },
      "execution_count": null,
      "outputs": [
        {
          "output_type": "error",
          "ename": "ValueError",
          "evalue": "invalid literal for int() with base 10: 'a'",
          "traceback": [
            "\u001b[0;31m---------------------------------------------------------------------------\u001b[0m",
            "\u001b[0;31mValueError\u001b[0m                                Traceback (most recent call last)",
            "\u001b[0;32m/tmp/ipython-input-467443661.py\u001b[0m in \u001b[0;36m<cell line: 0>\u001b[0;34m()\u001b[0m\n\u001b[1;32m      2\u001b[0m \u001b[0my\u001b[0m\u001b[0;34m=\u001b[0m\u001b[0;34m'b'\u001b[0m\u001b[0;34m\u001b[0m\u001b[0;34m\u001b[0m\u001b[0m\n\u001b[1;32m      3\u001b[0m \u001b[0;34m\u001b[0m\u001b[0m\n\u001b[0;32m----> 4\u001b[0;31m \u001b[0mprint\u001b[0m\u001b[0;34m(\u001b[0m\u001b[0mint\u001b[0m\u001b[0;34m(\u001b[0m\u001b[0mx\u001b[0m\u001b[0;34m)\u001b[0m\u001b[0;34m)\u001b[0m \u001b[0;31m# It wont work because we can't casting original string to int\u001b[0m\u001b[0;34m\u001b[0m\u001b[0;34m\u001b[0m\u001b[0m\n\u001b[0m",
            "\u001b[0;31mValueError\u001b[0m: invalid literal for int() with base 10: 'a'"
          ]
        }
      ]
    },
    {
      "cell_type": "code",
      "source": [
        "y=10\n",
        "\n",
        "print(type(str(y))) # It will work because we can casting original int"
      ],
      "metadata": {
        "colab": {
          "base_uri": "https://localhost:8080/"
        },
        "id": "LEI2XC9EFrzx",
        "outputId": "a21964dc-12d3-4e3d-8f07-7c6a48dd3a6b"
      },
      "execution_count": null,
      "outputs": [
        {
          "output_type": "stream",
          "name": "stdout",
          "text": [
            "<class 'str'>\n"
          ]
        }
      ]
    },
    {
      "cell_type": "markdown",
      "source": [
        "# Operators"
      ],
      "metadata": {
        "id": "HM2gHFWnGUyD"
      }
    },
    {
      "cell_type": "markdown",
      "source": [
        "## Arithmatic"
      ],
      "metadata": {
        "id": "o8en_el9Haj6"
      }
    },
    {
      "cell_type": "code",
      "source": [
        "a=20\n",
        "b=10\n",
        "\n",
        "print(a+b)\n",
        "print(a-b)\n",
        "print(a*b)\n",
        "print(a/b)\n",
        "print(a%b)\n",
        "print(a**b)\n",
        "print(a // b) #floor"
      ],
      "metadata": {
        "colab": {
          "base_uri": "https://localhost:8080/"
        },
        "id": "KbSe-F8OGLcC",
        "outputId": "524ecfa2-78c7-4ed6-f789-0377870c60de"
      },
      "execution_count": null,
      "outputs": [
        {
          "output_type": "stream",
          "name": "stdout",
          "text": [
            "30\n",
            "10\n",
            "200\n",
            "2.0\n",
            "0\n",
            "10240000000000\n",
            "2\n"
          ]
        }
      ]
    },
    {
      "cell_type": "markdown",
      "source": [
        "## Comparision"
      ],
      "metadata": {
        "id": "LZsaJSyIHfj0"
      }
    },
    {
      "cell_type": "code",
      "source": [
        "a=10\n",
        "b=20\n",
        "\n",
        "print(a==b)\n",
        "print(a!=b)\n",
        "print(a>b)\n",
        "print(a<b)\n",
        "print(a>=b)\n",
        "print(a<=b)\n"
      ],
      "metadata": {
        "colab": {
          "base_uri": "https://localhost:8080/"
        },
        "id": "WZpZHe6EHRc7",
        "outputId": "aab5b427-abf6-4cd9-e7ac-b395e27a7372"
      },
      "execution_count": null,
      "outputs": [
        {
          "output_type": "stream",
          "name": "stdout",
          "text": [
            "False\n",
            "True\n",
            "False\n",
            "True\n",
            "False\n",
            "True\n"
          ]
        }
      ]
    },
    {
      "cell_type": "markdown",
      "source": [
        "## Logical"
      ],
      "metadata": {
        "id": "uZpMyGUxHtVS"
      }
    },
    {
      "cell_type": "code",
      "source": [
        "a=True\n",
        "b=False\n",
        "\n",
        "print(a and b)\n",
        "print(a or b)\n",
        "print(not a)"
      ],
      "metadata": {
        "colab": {
          "base_uri": "https://localhost:8080/"
        },
        "id": "aNo80Lh6HsLD",
        "outputId": "96d4a8f5-98c1-457b-8e15-890d6afd6db6"
      },
      "execution_count": null,
      "outputs": [
        {
          "output_type": "stream",
          "name": "stdout",
          "text": [
            "False\n",
            "True\n",
            "False\n"
          ]
        }
      ]
    },
    {
      "cell_type": "markdown",
      "source": [
        "### Practical"
      ],
      "metadata": {
        "id": "PlIhr62FJO9y"
      }
    },
    {
      "cell_type": "markdown",
      "source": [
        "* **Billing  calculation**"
      ],
      "metadata": {
        "id": "OEsK5x6KIBxa"
      }
    },
    {
      "cell_type": "code",
      "source": [
        "amount=1200\n",
        "tax=amount*0.18\n",
        "total=amount+tax\n",
        "\n",
        "print(f\"actual total {total}\")\n",
        "\n",
        "if total>=1000:\n",
        "  discount = total *0.10\n",
        "  total -= discount\n",
        "\n",
        "print(total)"
      ],
      "metadata": {
        "colab": {
          "base_uri": "https://localhost:8080/"
        },
        "id": "GxNHS5mHH9Fz",
        "outputId": "412b3da5-f4b3-4a45-df66-c614fa896bf1"
      },
      "execution_count": null,
      "outputs": [
        {
          "output_type": "stream",
          "name": "stdout",
          "text": [
            "actual total 1416.0\n",
            "1274.4\n"
          ]
        }
      ]
    },
    {
      "cell_type": "markdown",
      "source": [
        "* **Student calculation**"
      ],
      "metadata": {
        "id": "JExllxe7Ja2y"
      }
    },
    {
      "cell_type": "code",
      "source": [
        "age=60\n",
        "student='Yes'\n",
        "\n",
        "if age>=60 or student=='Yes':\n",
        "  print('Eligible for discount')\n",
        "else:\n",
        "  print('Not eligible for discount')\n",
        "#"
      ],
      "metadata": {
        "colab": {
          "base_uri": "https://localhost:8080/"
        },
        "id": "wxiS2u19JFAj",
        "outputId": "299398a9-e3e0-4c0a-f600-9b18e44f6d2b"
      },
      "execution_count": null,
      "outputs": [
        {
          "output_type": "stream",
          "name": "stdout",
          "text": [
            "Eligible for discount\n"
          ]
        }
      ]
    },
    {
      "cell_type": "markdown",
      "source": [
        "# Input"
      ],
      "metadata": {
        "id": "HXzAh2mCKDZi"
      }
    },
    {
      "cell_type": "code",
      "source": [
        "a=10\n",
        "b=20\n",
        "# Thi code is called hard coding, it's not a best practice\n",
        "print(a+b)"
      ],
      "metadata": {
        "colab": {
          "base_uri": "https://localhost:8080/"
        },
        "id": "v9vickdsKyci",
        "outputId": "c1275620-ee86-4efc-91d3-687b02d98c01"
      },
      "execution_count": null,
      "outputs": [
        {
          "output_type": "stream",
          "name": "stdout",
          "text": [
            "30\n"
          ]
        }
      ]
    },
    {
      "cell_type": "markdown",
      "source": [
        "## Input method 1"
      ],
      "metadata": {
        "id": "jhPZy8yZMGYC"
      }
    },
    {
      "cell_type": "code",
      "source": [
        "a = input(\"Enter the first number: \") #By default python will collect all as str, that's why it's give output as concatenate\n",
        "b = input(\"Enter the second number: \")\n",
        "print(a+b)"
      ],
      "metadata": {
        "colab": {
          "base_uri": "https://localhost:8080/"
        },
        "id": "uQ4fqLbnLrJj",
        "outputId": "b17d320c-efb2-4f07-e44d-9194f61341d3"
      },
      "execution_count": null,
      "outputs": [
        {
          "output_type": "stream",
          "name": "stdout",
          "text": [
            "Enter the first number: 10\n",
            "Enter the second number: 20\n",
            "1020\n"
          ]
        }
      ]
    },
    {
      "cell_type": "code",
      "source": [
        "a = int(input(\"Enter the first number: \"))\n",
        "b = int(input(\"Enter the second number: \"))\n",
        "print(a+b)"
      ],
      "metadata": {
        "colab": {
          "base_uri": "https://localhost:8080/"
        },
        "id": "UVdiIfJMK_VT",
        "outputId": "94a434d2-ae4c-4dc9-95ec-a2b8cf28d87d"
      },
      "execution_count": null,
      "outputs": [
        {
          "output_type": "stream",
          "name": "stdout",
          "text": [
            "Enter the first number: 10\n",
            "Enter the second number: 20\n",
            "30\n"
          ]
        }
      ]
    },
    {
      "cell_type": "markdown",
      "source": [
        "## Input method 2 - Scheduling"
      ],
      "metadata": {
        "id": "0UgNI7EaMJ87"
      }
    },
    {
      "cell_type": "markdown",
      "source": [
        "### **sys.argv**"
      ],
      "metadata": {
        "id": "G2dUJLkVMirL"
      }
    },
    {
      "cell_type": "markdown",
      "source": [
        "* in this code block used in company for scheduling code we dont need to enter input it will take it from any database or whichever database was given for it"
      ],
      "metadata": {
        "id": "eYuH5dobPhyK"
      }
    },
    {
      "cell_type": "markdown",
      "source": [
        "\n",
        "\n",
        "> Note this code only works in local desktop terminal\n",
        "\n"
      ],
      "metadata": {
        "id": "Lm5tewgvQJBM"
      }
    },
    {
      "cell_type": "code",
      "source": [
        "import sys\n",
        "\n",
        "fullname=sys.argv[1]\n",
        "\n",
        "#format the name\n",
        "email=fullname.lower().replace(\" \",\".\") + \"@gmail.com\"\n",
        "\n",
        "print(fullname)\n",
        "print(email)"
      ],
      "metadata": {
        "colab": {
          "base_uri": "https://localhost:8080/"
        },
        "id": "2yenCZuqLfgi",
        "outputId": "68c50cab-408c-4fea-f133-17f686476788"
      },
      "execution_count": null,
      "outputs": [
        {
          "output_type": "stream",
          "name": "stdout",
          "text": [
            "-f\n",
            "-f@gmail.com\n"
          ]
        }
      ]
    },
    {
      "cell_type": "markdown",
      "source": [
        "* What if user want lastname"
      ],
      "metadata": {
        "id": "Rp0UOsuOQOyK"
      }
    },
    {
      "cell_type": "code",
      "source": [
        "import sys\n",
        "\n",
        "fullname=sys.argv[1]\n",
        "lastname=sys.argv[2]\n",
        "\n",
        "#format the name\n",
        "email=fullname.lower().replace(\" \",\".\") + lastname + \"@gmail.com\"\n",
        "\n",
        "print(fullname+lastname)\n",
        "print(email)"
      ],
      "metadata": {
        "colab": {
          "base_uri": "https://localhost:8080/"
        },
        "id": "JAPbbaeOOwRj",
        "outputId": "557d5f7e-86f5-4cf9-c2dc-19fb1dbb630b"
      },
      "execution_count": null,
      "outputs": [
        {
          "output_type": "stream",
          "name": "stdout",
          "text": [
            "-f/root/.local/share/jupyter/runtime/kernel-080015a9-bcbc-4a82-a1ce-f37ae4b3ed65.json\n",
            "-f/root/.local/share/jupyter/runtime/kernel-080015a9-bcbc-4a82-a1ce-f37ae4b3ed65.json@gmail.com\n"
          ]
        }
      ]
    },
    {
      "cell_type": "markdown",
      "source": [
        "* if user did not enter the last name it will through the error, so we use this check to solve this"
      ],
      "metadata": {
        "id": "o9cVx28BQYoi"
      }
    },
    {
      "cell_type": "code",
      "source": [
        "import sys\n",
        "\n",
        "if len(sys.argv) == 2: # it will if user did not enter the lastname otherwise it will exit\n",
        "  print(\"Please enter the last name\")\n",
        "  sys.exit()\n",
        "\n",
        "fullname=sys.argv[1]\n",
        "lastname=sys.argv[2]\n",
        "\n",
        "#format the name\n",
        "email=fullname.lower().replace(\" \",\".\") + lastname + \"@gmail.com\"\n",
        "\n",
        "print(fullname+lastname)\n",
        "print(email)"
      ],
      "metadata": {
        "colab": {
          "base_uri": "https://localhost:8080/"
        },
        "id": "WAFmcWXNQGbr",
        "outputId": "7d8c34c9-bd84-48ca-a065-af624f0b5f62"
      },
      "execution_count": null,
      "outputs": [
        {
          "output_type": "stream",
          "name": "stdout",
          "text": [
            "-f/root/.local/share/jupyter/runtime/kernel-080015a9-bcbc-4a82-a1ce-f37ae4b3ed65.json\n",
            "-f/root/.local/share/jupyter/runtime/kernel-080015a9-bcbc-4a82-a1ce-f37ae4b3ed65.json@gmail.com\n"
          ]
        }
      ]
    },
    {
      "cell_type": "markdown",
      "source": [
        "* if user has 2 more names we can use this"
      ],
      "metadata": {
        "id": "NP6CqFo4REDh"
      }
    },
    {
      "cell_type": "code",
      "source": [
        "import sys\n",
        "\n",
        "if len(sys.argv) == 2: # it will if user did not enter the lastname otherwise it will exit\n",
        "  print(\"Please enter the last name\")\n",
        "  sys.exit()\n",
        "\n",
        "fullname=\"\".join(sys.argv[1:]) # user can enter their fullnames without barriers\n",
        "\n",
        "#format the name\n",
        "email=fullname.lower().replace(\" \",\".\") + \"@gmail.com\"\n",
        "\n",
        "print(fullname)\n",
        "print(email)"
      ],
      "metadata": {
        "id": "tYjbzHU_Q-KT"
      },
      "execution_count": null,
      "outputs": []
    },
    {
      "cell_type": "markdown",
      "source": [
        "# String handling and manipulation"
      ],
      "metadata": {
        "id": "coNsW4OcR7q0"
      }
    },
    {
      "cell_type": "markdown",
      "source": [
        "* **Lower,Upper,Capitalize**"
      ],
      "metadata": {
        "id": "vYDj1-EbSTgD"
      }
    },
    {
      "cell_type": "code",
      "source": [
        "name = \"infant Joshva\"\n",
        "\n",
        "print(name.lower())\n",
        "print(name.upper())\n",
        "print(name.capitalize()) # it will captalize the first word alone"
      ],
      "metadata": {
        "colab": {
          "base_uri": "https://localhost:8080/"
        },
        "id": "7bIZjOp6SBX1",
        "outputId": "dfa2ca95-7510-4962-f696-01c8f12c8a7e"
      },
      "execution_count": null,
      "outputs": [
        {
          "output_type": "stream",
          "name": "stdout",
          "text": [
            "infant joshva\n",
            "INFANT JOSHVA\n",
            "Infant joshva\n"
          ]
        }
      ]
    },
    {
      "cell_type": "markdown",
      "source": [
        "* Masked - **string slicing**"
      ],
      "metadata": {
        "id": "LuwPzn-1TKEb"
      }
    },
    {
      "cell_type": "code",
      "source": [
        "mobile_no=\"8899999900\"\n",
        "\n",
        "masked = mobile_no[:2] + \"*\" *6 + mobile_no[-2:]\n",
        "\n",
        "print(masked)"
      ],
      "metadata": {
        "colab": {
          "base_uri": "https://localhost:8080/"
        },
        "id": "5F51lb29SbvT",
        "outputId": "4a31e657-e809-4db6-cc47-3c0ada2e39c0"
      },
      "execution_count": null,
      "outputs": [
        {
          "output_type": "stream",
          "name": "stdout",
          "text": [
            "88******00\n"
          ]
        }
      ]
    },
    {
      "cell_type": "markdown",
      "source": [
        "* **Title**"
      ],
      "metadata": {
        "id": "dQCHX3bdT0wb"
      }
    },
    {
      "cell_type": "code",
      "source": [
        "# Here all the datas are look like ugly, so we can use the title fuction to solve this issue\n",
        "song = \"SHApe oF yOu\"\n",
        "artist = \"eD sHeeRAn\"\n",
        "\n",
        "Foramtted = song.title() + \" - \" + artist.title()\n",
        "print(Foramtted)"
      ],
      "metadata": {
        "colab": {
          "base_uri": "https://localhost:8080/"
        },
        "id": "3sz7RyRyTUtW",
        "outputId": "382d2d03-43fa-44d1-d406-08b281668a2e"
      },
      "execution_count": null,
      "outputs": [
        {
          "output_type": "stream",
          "name": "stdout",
          "text": [
            "Shape Of You - Ed Sheeran\n"
          ]
        }
      ]
    },
    {
      "cell_type": "markdown",
      "source": [
        "* **Replace**"
      ],
      "metadata": {
        "id": "sG-nCJGGUzAT"
      }
    },
    {
      "cell_type": "code",
      "source": [
        "from os import replace\n",
        "pickup_location = \"Gandhipuram Bus Stop\"\n",
        "\n",
        "fixed_location = pickup_location.replace(\"Gandhipuram Bus Stop\",\"Singanallur Bus Stand\")\n",
        "\n",
        "print(fixed_location)"
      ],
      "metadata": {
        "colab": {
          "base_uri": "https://localhost:8080/"
        },
        "id": "T0TUvB6AUfbL",
        "outputId": "6af0a137-2435-413c-d74a-1e55b1d5c75f"
      },
      "execution_count": null,
      "outputs": [
        {
          "output_type": "stream",
          "name": "stdout",
          "text": [
            "Singanallur Bus Stand\n"
          ]
        }
      ]
    },
    {
      "cell_type": "markdown",
      "source": [
        "* **Split,Strip** - In split default delimter is **space**"
      ],
      "metadata": {
        "id": "z63QfSBrV58T"
      }
    },
    {
      "cell_type": "code",
      "source": [
        "uber_message = \"Your booking id is: UB123456. Please keep it safe\"\n",
        "\n",
        "booking_id = uber_message.split(\":\")[1].split(\".\")[0].strip()\n",
        "#We can split the word by using the delimter which is in front of the target values\n",
        "# And strip is used to remove the space before and after the target values\n",
        "print(booking_id)"
      ],
      "metadata": {
        "colab": {
          "base_uri": "https://localhost:8080/"
        },
        "id": "2LBcxgl0V9qj",
        "outputId": "35d6a631-68d2-4ca3-d7ff-55c8fa85f722"
      },
      "execution_count": null,
      "outputs": [
        {
          "output_type": "stream",
          "name": "stdout",
          "text": [
            "UB123456\n"
          ]
        }
      ]
    },
    {
      "cell_type": "code",
      "source": [
        "dirty_input = \"   hi \"\n",
        "clean_input=dirty_input.strip()\n",
        "print(clean_input)"
      ],
      "metadata": {
        "colab": {
          "base_uri": "https://localhost:8080/"
        },
        "id": "THzcMfXMbehj",
        "outputId": "66858063-82b3-463e-e2fb-a2c6a093b290"
      },
      "execution_count": null,
      "outputs": [
        {
          "output_type": "stream",
          "name": "stdout",
          "text": [
            "hi\n"
          ]
        }
      ]
    },
    {
      "cell_type": "markdown",
      "source": [
        "* Search the string"
      ],
      "metadata": {
        "id": "4dTENUaKZB_T"
      }
    },
    {
      "cell_type": "code",
      "source": [
        "promo_msg = \"Use the Zomato100 to get 100 off on your first order\"\n",
        "if \"Zomato100\" in promo_msg:\n",
        "  print(\"Offer is valid\")\n",
        "else:\n",
        "  print(\"Offer is invalid\")"
      ],
      "metadata": {
        "colab": {
          "base_uri": "https://localhost:8080/"
        },
        "id": "rX3c9MU7WZyT",
        "outputId": "e5348883-ead1-4fa5-e8eb-7d08f3a90ed1"
      },
      "execution_count": null,
      "outputs": [
        {
          "output_type": "stream",
          "name": "stdout",
          "text": [
            "Offer is valid\n"
          ]
        }
      ]
    },
    {
      "cell_type": "markdown",
      "source": [
        "* **Find** - Find the position of target value"
      ],
      "metadata": {
        "id": "2PbDBRtPZbu7"
      }
    },
    {
      "cell_type": "code",
      "source": [
        "Feedback = \"The driver was polite and the ride was safe\"\n",
        "\n",
        "print(\"Position is:\",Feedback.find(\"polite\"))"
      ],
      "metadata": {
        "colab": {
          "base_uri": "https://localhost:8080/"
        },
        "id": "W44FPec6ZWZq",
        "outputId": "a1ce7bf5-29dd-441f-b54d-4549efb52635"
      },
      "execution_count": null,
      "outputs": [
        {
          "output_type": "stream",
          "name": "stdout",
          "text": [
            "Position is: 15\n"
          ]
        }
      ]
    },
    {
      "cell_type": "markdown",
      "source": [
        "* **Join**"
      ],
      "metadata": {
        "id": "Yf4EeC75a2a7"
      }
    },
    {
      "cell_type": "code",
      "source": [
        "name=\"Infant Joshva\"\n",
        "\n",
        "initials=\" \".join([word[0].upper() for word in name.split()])\n",
        "print(initials)"
      ],
      "metadata": {
        "colab": {
          "base_uri": "https://localhost:8080/"
        },
        "id": "KBh7nGMNZzcS",
        "outputId": "58883b7a-b722-48f7-bc60-624bd1c9e9a5"
      },
      "execution_count": null,
      "outputs": [
        {
          "output_type": "stream",
          "name": "stdout",
          "text": [
            "I J\n"
          ]
        }
      ]
    },
    {
      "cell_type": "markdown",
      "source": [
        "* **Len**"
      ],
      "metadata": {
        "id": "t760wXtDb247"
      }
    },
    {
      "cell_type": "code",
      "source": [
        "message=\"The trip was good and everyone enjoyed it!!\"\n",
        "length_of_message=len(message) #it will count the each letter\n",
        "print(length_of_message)"
      ],
      "metadata": {
        "colab": {
          "base_uri": "https://localhost:8080/"
        },
        "id": "XwU6civjbMkj",
        "outputId": "62cfe0a1-e8a2-42d5-82b2-f94357c363b7"
      },
      "execution_count": null,
      "outputs": [
        {
          "output_type": "stream",
          "name": "stdout",
          "text": [
            "43\n"
          ]
        }
      ]
    },
    {
      "cell_type": "code",
      "source": [
        "message=\"The trip was good and everyone enjoyed it!!\"\n",
        "length_of_message=len(message.split())\n",
        "#it will count the each word,So we can count the word in sentence with the help of len with split()\n",
        "print(length_of_message)"
      ],
      "metadata": {
        "colab": {
          "base_uri": "https://localhost:8080/"
        },
        "id": "t9HuaZeBcCB6",
        "outputId": "9f198dda-6d1b-43d7-ecd1-3ed7e280debb"
      },
      "execution_count": null,
      "outputs": [
        {
          "output_type": "stream",
          "name": "stdout",
          "text": [
            "8\n"
          ]
        }
      ]
    },
    {
      "cell_type": "code",
      "source": [],
      "metadata": {
        "id": "rvFPTNfNcM6q"
      },
      "execution_count": null,
      "outputs": []
    },
    {
      "cell_type": "markdown",
      "source": [
        "# Conditional statement - **if,else,elif**"
      ],
      "metadata": {
        "id": "2dLK-Z-6dFv6"
      }
    },
    {
      "cell_type": "markdown",
      "source": [
        "* **If**"
      ],
      "metadata": {
        "id": "2nGwJsg8dzCr"
      }
    },
    {
      "cell_type": "code",
      "source": [
        "age=18\n",
        "\n",
        "if age>=18:\n",
        "  print(\"You can vote\")"
      ],
      "metadata": {
        "colab": {
          "base_uri": "https://localhost:8080/"
        },
        "id": "K05HBuH2dMJC",
        "outputId": "806be1a4-be70-4fdd-d721-a66335cf4225"
      },
      "execution_count": null,
      "outputs": [
        {
          "output_type": "stream",
          "name": "stdout",
          "text": [
            "You can vote\n"
          ]
        }
      ]
    },
    {
      "cell_type": "markdown",
      "source": [
        "* **If,else**"
      ],
      "metadata": {
        "id": "hxY_iBakd84z"
      }
    },
    {
      "cell_type": "code",
      "source": [
        "age=17\n",
        "\n",
        "if age>=18:\n",
        "  print(\"You can vote\")\n",
        "else:\n",
        "  print(\"You won't vote\")"
      ],
      "metadata": {
        "colab": {
          "base_uri": "https://localhost:8080/"
        },
        "id": "ePyQlHild7JL",
        "outputId": "7cd6de75-918c-4b39-9f72-b3932fb5ff01"
      },
      "execution_count": null,
      "outputs": [
        {
          "output_type": "stream",
          "name": "stdout",
          "text": [
            "You won't vote\n"
          ]
        }
      ]
    },
    {
      "cell_type": "markdown",
      "source": [
        "* **Elif**"
      ],
      "metadata": {
        "id": "DWKCK6a9ePW3"
      }
    },
    {
      "cell_type": "code",
      "source": [
        "marks = 46\n",
        "\n",
        "if marks>=90:\n",
        "  print(\"Grade A\")\n",
        "elif marks>=60:\n",
        "  print(\"Grade B\")\n",
        "elif marks>=40:\n",
        "  print(\"Grade C\")\n",
        "else:\n",
        "  print(\"Grade D\")"
      ],
      "metadata": {
        "colab": {
          "base_uri": "https://localhost:8080/"
        },
        "id": "y7FPh-WIeK_6",
        "outputId": "978c89b5-6694-4ee3-ac02-cf83428951d4"
      },
      "execution_count": null,
      "outputs": [
        {
          "output_type": "stream",
          "name": "stdout",
          "text": [
            "Grade C\n"
          ]
        }
      ]
    },
    {
      "cell_type": "markdown",
      "source": [
        "* **Nested if**"
      ],
      "metadata": {
        "id": "2jrlXwL1evqb"
      }
    },
    {
      "cell_type": "code",
      "source": [
        "age = 15\n",
        "has_license = 'Yes'\n",
        "\n",
        "print(\"your age is:\",age)\n",
        "print(\"Do you have a license:\",has_license)\n",
        "\n",
        "if age>=18:\n",
        "  if has_license=='Yes':\n",
        "    print(\"You can drive\")\n",
        "  else:\n",
        "    print(\"You can't drive\")\n",
        "else:\n",
        "  print(\"You are too young\")"
      ],
      "metadata": {
        "colab": {
          "base_uri": "https://localhost:8080/"
        },
        "id": "L20S0PWpes7j",
        "outputId": "4ad06714-2dc3-40af-8522-7b49dd3aa76a"
      },
      "execution_count": null,
      "outputs": [
        {
          "output_type": "stream",
          "name": "stdout",
          "text": [
            "your age is: 15\n",
            "Do you have a license: Yes\n",
            "You are too young\n"
          ]
        }
      ]
    },
    {
      "cell_type": "markdown",
      "source": [
        "* Condition with **And**"
      ],
      "metadata": {
        "id": "hxfCNclSfjaM"
      }
    },
    {
      "cell_type": "code",
      "source": [
        "age = 18\n",
        "has_license = 'No'\n",
        "\n",
        "if age>=18 and has_license == 'Yes':\n",
        "  print(\"Your eligible to ride\")\n",
        "else:\n",
        "  print(\"You are not eligible to ride\")"
      ],
      "metadata": {
        "colab": {
          "base_uri": "https://localhost:8080/"
        },
        "id": "nTK92tLPe_bD",
        "outputId": "5a532d2f-46c4-4296-f1a2-85f1b01aa9e8"
      },
      "execution_count": null,
      "outputs": [
        {
          "output_type": "stream",
          "name": "stdout",
          "text": [
            "You are not eligible to ride\n"
          ]
        }
      ]
    },
    {
      "cell_type": "markdown",
      "source": [
        "* Condition with **Or**"
      ],
      "metadata": {
        "id": "sdetc0cUg9R1"
      }
    },
    {
      "cell_type": "code",
      "source": [
        "mark = 29\n",
        "attendance = 80\n",
        "\n",
        "if mark>=35 or attendance >=80:\n",
        "  print(\"You are eligible to write to a sem exam\")\n",
        "else:\n",
        "  print(\"You are not eligible to write a sem exam\")"
      ],
      "metadata": {
        "colab": {
          "base_uri": "https://localhost:8080/"
        },
        "id": "t7cH45nJgDsL",
        "outputId": "eeb8e9d7-f10d-41d9-ed01-33bf7bd133af"
      },
      "execution_count": null,
      "outputs": [
        {
          "output_type": "stream",
          "name": "stdout",
          "text": [
            "You are eligible to write to a sem exam\n"
          ]
        }
      ]
    },
    {
      "cell_type": "code",
      "source": [
        "# Condition: If the user has recharge for the amount of 399 or\n",
        "# if the user current data is more than 1gb is eligible to get offer\n",
        "\n",
        "recharge_amount = 299\n",
        "data_balance = 1.2\n",
        "\n",
        "if recharge_amount == 399 or data_balance >= 1:\n",
        "  print(\"You are eligible for the offer\")\n",
        "else:\n",
        "  print(\"You are not eligible for the offer\")"
      ],
      "metadata": {
        "colab": {
          "base_uri": "https://localhost:8080/"
        },
        "id": "sn1BndHvglzL",
        "outputId": "83a80c88-af1e-4f97-c182-b092a78b0870"
      },
      "execution_count": null,
      "outputs": [
        {
          "output_type": "stream",
          "name": "stdout",
          "text": [
            "You are eligible for the offer\n"
          ]
        }
      ]
    },
    {
      "cell_type": "markdown",
      "source": [
        "\n",
        "\n",
        "> Condition with **And, Or**\n",
        "\n"
      ],
      "metadata": {
        "id": "lm_UODmthwkk"
      }
    },
    {
      "cell_type": "code",
      "source": [
        "#Swiggy offer\n",
        "\n",
        "order_amount = 500\n",
        "day = \"Saturday\"\n",
        "membership = \"Yes\"\n",
        "\n",
        "if (order_amount >= 1000 and day == \"Saturday\") or membership == \"Yes\":\n",
        "  print(\"You are eligible for the offer\")\n",
        "else:\n",
        "  print(\"You are not eligible for the offer\")"
      ],
      "metadata": {
        "colab": {
          "base_uri": "https://localhost:8080/"
        },
        "id": "73LDQEC0hqBj",
        "outputId": "572d7812-432c-4343-94cc-d021ebd6da1a"
      },
      "execution_count": null,
      "outputs": [
        {
          "output_type": "stream",
          "name": "stdout",
          "text": [
            "You are eligible for the offer\n"
          ]
        }
      ]
    },
    {
      "cell_type": "markdown",
      "source": [
        "# Loops"
      ],
      "metadata": {
        "id": "CT7YSzbhjTkc"
      }
    },
    {
      "cell_type": "markdown",
      "source": [
        "## **For**"
      ],
      "metadata": {
        "id": "IL3QP9gBjVAc"
      }
    },
    {
      "cell_type": "markdown",
      "source": [
        "\n",
        "\n",
        "> In for loop you will know the iterate count\n",
        "\n"
      ],
      "metadata": {
        "id": "f3TGs8Rfk6Mc"
      }
    },
    {
      "cell_type": "code",
      "source": [
        "name_list = ['Vijay','Ajay','Karthik','Dhanush','Surya']\n",
        "\n",
        "for name in name_list:\n",
        "  print(name.upper())"
      ],
      "metadata": {
        "colab": {
          "base_uri": "https://localhost:8080/"
        },
        "id": "MSnxHGIQib0b",
        "outputId": "b0e56e1c-8338-4b20-dfea-5ac1ed64b4cd"
      },
      "execution_count": null,
      "outputs": [
        {
          "output_type": "stream",
          "name": "stdout",
          "text": [
            "VIJAY\n",
            "AJAY\n",
            "KARTHIK\n",
            "DHANUSH\n",
            "SURYA\n"
          ]
        }
      ]
    },
    {
      "cell_type": "markdown",
      "source": [
        "## **While**"
      ],
      "metadata": {
        "id": "-0GSMWG6joTb"
      }
    },
    {
      "cell_type": "markdown",
      "source": [
        "\n",
        "\n",
        "> It will works util our condition statisfied\n",
        "\n",
        "> In while loop you wont know the iterate count\n",
        "\n",
        "\n",
        "\n"
      ],
      "metadata": {
        "id": "cgM_SW7CkCbD"
      }
    },
    {
      "cell_type": "code",
      "source": [
        "Correct_pin = 456\n",
        "user_pin = int(input())\n",
        "\n",
        "while user_pin != Correct_pin:\n",
        "  print(\"Incorrect pin\")\n",
        "  user_pin = int(input())\n",
        "\n",
        "print(\"\\nPermission Graunted\")"
      ],
      "metadata": {
        "colab": {
          "base_uri": "https://localhost:8080/"
        },
        "id": "RGk22_WXjmTr",
        "outputId": "74d0fcc9-a9f6-48f9-e759-6eb5bc163cd4"
      },
      "execution_count": null,
      "outputs": [
        {
          "output_type": "stream",
          "name": "stdout",
          "text": [
            "45\n",
            "Incorrect pin\n",
            "456\n",
            "\n",
            "Permission Graunted\n"
          ]
        }
      ]
    },
    {
      "cell_type": "markdown",
      "source": [
        "### Break"
      ],
      "metadata": {
        "id": "Up6scGi0lb5E"
      }
    },
    {
      "cell_type": "markdown",
      "source": [
        "\n",
        "\n",
        "> How to write if condition and break in for loop\n",
        "\n"
      ],
      "metadata": {
        "id": "qiqFjad1lwVr"
      }
    },
    {
      "cell_type": "code",
      "source": [
        "roll_no = [1,3,4,9,7,6,8,2,10,9,5,12,11,13]\n",
        "\n",
        "for roll in roll_no:\n",
        "  if roll == 5:\n",
        "    break # The loop will break if the condition is passed\n",
        "  print(roll)"
      ],
      "metadata": {
        "colab": {
          "base_uri": "https://localhost:8080/"
        },
        "id": "i5bmfT0xkdDq",
        "outputId": "6cfef6be-2729-4fbf-a79f-18ccbd87cabf"
      },
      "execution_count": null,
      "outputs": [
        {
          "output_type": "stream",
          "name": "stdout",
          "text": [
            "1\n",
            "3\n",
            "4\n",
            "9\n",
            "7\n",
            "6\n",
            "8\n",
            "2\n",
            "10\n",
            "9\n"
          ]
        }
      ]
    },
    {
      "cell_type": "markdown",
      "source": [
        "### Continue -> Skip"
      ],
      "metadata": {
        "id": "gF3IQ3oGmtek"
      }
    },
    {
      "cell_type": "code",
      "source": [
        "Numbers = [2,-5,7,8,-3,-1,1,3]\n",
        "\n",
        "for num in Numbers:\n",
        "  if num < 0:\n",
        "    continue # The loop will skip failed numbers in condition and goes to next values if the condition is passed\n",
        "  print(num)"
      ],
      "metadata": {
        "id": "6bvOZQWkmij8",
        "outputId": "d148bc4b-2203-4054-fd85-3585ad008539",
        "colab": {
          "base_uri": "https://localhost:8080/"
        }
      },
      "execution_count": null,
      "outputs": [
        {
          "output_type": "stream",
          "name": "stdout",
          "text": [
            "2\n",
            "7\n",
            "8\n",
            "1\n",
            "3\n"
          ]
        }
      ]
    },
    {
      "cell_type": "markdown",
      "source": [
        "### Passs"
      ],
      "metadata": {
        "id": "dZrQIolbn6dz"
      }
    },
    {
      "cell_type": "markdown",
      "source": [
        "\n",
        "\n",
        "> **Pass** is placeholder - If we want a loop in future but it wont need for now, so we can use the pass to skip the loop\n",
        "\n"
      ],
      "metadata": {
        "id": "87tLxEsun_ir"
      }
    },
    {
      "cell_type": "code",
      "source": [
        "Numbers = [2,-5,7,8,-3,-1,1,3]\n",
        "\n",
        "for i in Numbers:\n",
        "    pass #Future logic implementation\n",
        "\n",
        "print(Numbers)"
      ],
      "metadata": {
        "id": "kVJwtKgAn7Y6",
        "outputId": "31a0c233-13fa-4192-c513-af90c3123e88",
        "colab": {
          "base_uri": "https://localhost:8080/"
        }
      },
      "execution_count": null,
      "outputs": [
        {
          "output_type": "stream",
          "name": "stdout",
          "text": [
            "[2, -5, 7, 8, -3, -1, 1, 3]\n"
          ]
        }
      ]
    },
    {
      "cell_type": "markdown",
      "source": [
        "\n",
        "\n",
        "> Some usecases\n",
        "\n"
      ],
      "metadata": {
        "id": "S3eOWmdeo4mD"
      }
    },
    {
      "cell_type": "code",
      "source": [
        "# Use case 1: Timer\n",
        "\n",
        "count = 5\n",
        "\n",
        "while count>0:\n",
        "  print(f\"countdown {count}\")\n",
        "  count -= 1\n",
        "print(\"Times up!!!\")"
      ],
      "metadata": {
        "id": "O1CKP6YeoZvj",
        "outputId": "af63ccc1-78dc-4b33-f15f-b09a8f06e424",
        "colab": {
          "base_uri": "https://localhost:8080/"
        }
      },
      "execution_count": null,
      "outputs": [
        {
          "output_type": "stream",
          "name": "stdout",
          "text": [
            "countdown 5\n",
            "countdown 4\n",
            "countdown 3\n",
            "countdown 2\n",
            "countdown 1\n",
            "Times up!!!\n"
          ]
        }
      ]
    },
    {
      "cell_type": "code",
      "source": [
        "# Usecase 2: Amazon Kart\n",
        "\n",
        "Kart = []\n",
        "\n",
        "# True means the loop will start's without condition and it goes infinity,\n",
        "# so we need to give some logic to stop\n",
        "\n",
        "while True:\n",
        "  item = input(\"Add item(type'Done' to finish shopping): \")\n",
        "  if item.lower() == \"done\":\n",
        "    break\n",
        "  Kart.append(item)\n",
        "\n",
        "print(Kart)"
      ],
      "metadata": {
        "id": "zrClZfxvpUyq",
        "outputId": "91ef0e69-2418-48e6-a1b7-7885f5ce413c",
        "colab": {
          "base_uri": "https://localhost:8080/"
        }
      },
      "execution_count": null,
      "outputs": [
        {
          "output_type": "stream",
          "name": "stdout",
          "text": [
            "Add item(type'Done' to finish shopping): soap\n",
            "Add item(type'Done' to finish shopping): shampoo\n",
            "Add item(type'Done' to finish shopping): milk\n",
            "Add item(type'Done' to finish shopping): brush\n",
            "Add item(type'Done' to finish shopping): paste\n",
            "Add item(type'Done' to finish shopping): done\n",
            "['soap', 'shampoo', 'milk', 'brush', 'paste']\n"
          ]
        }
      ]
    },
    {
      "cell_type": "markdown",
      "source": [
        "# Functions"
      ],
      "metadata": {
        "id": "H9i2-pJXRmKR"
      }
    },
    {
      "cell_type": "code",
      "source": [
        "def greeting(name):\n",
        "  print(f\"Hello {name}, welcome!..\")\n",
        "\n",
        "greeting(\"Infant\")"
      ],
      "metadata": {
        "id": "cC1pbbyyrINT",
        "colab": {
          "base_uri": "https://localhost:8080/"
        },
        "outputId": "f6cf9374-fef8-4341-89d5-1595578a31c0"
      },
      "execution_count": null,
      "outputs": [
        {
          "output_type": "stream",
          "name": "stdout",
          "text": [
            "Hello Infant, welcome!..\n"
          ]
        }
      ]
    },
    {
      "cell_type": "markdown",
      "source": [
        "\n",
        "\n",
        "> Return\n",
        "\n"
      ],
      "metadata": {
        "id": "Cz5uTVNYTcO4"
      }
    },
    {
      "cell_type": "code",
      "source": [
        "def add(a,b):\n",
        "  return(a+b)\n",
        "\n",
        "result = add(2,2)\n",
        "print(result)"
      ],
      "metadata": {
        "colab": {
          "base_uri": "https://localhost:8080/"
        },
        "id": "ky_tGuuITTwK",
        "outputId": "cfcd61ad-1909-4b7f-d5ae-682d5a127656"
      },
      "execution_count": null,
      "outputs": [
        {
          "output_type": "stream",
          "name": "stdout",
          "text": [
            "4\n"
          ]
        }
      ]
    },
    {
      "cell_type": "markdown",
      "source": [
        "## *args"
      ],
      "metadata": {
        "id": "b2ZVQlVfUvKx"
      }
    },
    {
      "cell_type": "code",
      "source": [
        "def add(*args): # *args is can used to give multiple arguments in a function\n",
        "  total=0\n",
        "  for num in args:\n",
        "    total += num #total = total + num\n",
        "  return(total)\n",
        "\n",
        "print(add(1,2,3,4,5,6))"
      ],
      "metadata": {
        "colab": {
          "base_uri": "https://localhost:8080/"
        },
        "id": "Uv4VpMrQT31-",
        "outputId": "80d7dae1-9245-4940-df1d-4b6d4827ab57"
      },
      "execution_count": null,
      "outputs": [
        {
          "output_type": "stream",
          "name": "stdout",
          "text": [
            "21\n"
          ]
        }
      ]
    },
    {
      "cell_type": "markdown",
      "source": [
        "## Kwargs"
      ],
      "metadata": {
        "id": "LHH7u9CcWDL5"
      }
    },
    {
      "cell_type": "code",
      "source": [
        "def user_profile(**kwargs): # double * are used to define a kwargs, same like *args but it should be in key and values\n",
        "  print(\"User profile\")\n",
        "  for key,value in kwargs.items():\n",
        "    print(f\"{key} : {value}\")\n",
        "  return(user_profile)\n",
        "\n",
        "user_profile(name = \"Infant\", age = 24, job = \"Data Analyts\")"
      ],
      "metadata": {
        "colab": {
          "base_uri": "https://localhost:8080/",
          "height": 174
        },
        "id": "kuFAz1EFViXz",
        "outputId": "388f4f7b-bc41-4385-d0cb-8b64ba340cc4"
      },
      "execution_count": null,
      "outputs": [
        {
          "output_type": "stream",
          "name": "stdout",
          "text": [
            "User profile\n",
            "name : Infant\n",
            "age : 24\n",
            "job : Data Analyts\n"
          ]
        },
        {
          "output_type": "execute_result",
          "data": {
            "text/plain": [
              "<function __main__.user_profile(**kwargs)>"
            ],
            "text/html": [
              "<div style=\"max-width:800px; border: 1px solid var(--colab-border-color);\"><style>\n",
              "      pre.function-repr-contents {\n",
              "        overflow-x: auto;\n",
              "        padding: 8px 12px;\n",
              "        max-height: 500px;\n",
              "      }\n",
              "\n",
              "      pre.function-repr-contents.function-repr-contents-collapsed {\n",
              "        cursor: pointer;\n",
              "        max-height: 100px;\n",
              "      }\n",
              "    </style>\n",
              "    <pre style=\"white-space: initial; background:\n",
              "         var(--colab-secondary-surface-color); padding: 8px 12px;\n",
              "         border-bottom: 1px solid var(--colab-border-color);\"><b>user_profile</b><br/>def user_profile(**kwargs)</pre><pre class=\"function-repr-contents function-repr-contents-collapsed\" style=\"\"><a class=\"filepath\" style=\"display:none\" href=\"#\">/tmp/ipython-input-1553005669.py</a>&lt;no docstring&gt;</pre></div>"
            ]
          },
          "metadata": {},
          "execution_count": 12
        }
      ]
    },
    {
      "cell_type": "markdown",
      "source": [
        "# List"
      ],
      "metadata": {
        "id": "yAsKDpWiXsBh"
      }
    },
    {
      "cell_type": "code",
      "source": [
        "list = [1,'a',True]\n",
        "song = [\"na ready\", \"maariii\", \"seerikalam, parakalam\"]\n",
        "movie = [\"Leo\", \"Theri\", \"Thuppaki\"]\n",
        "food = [\"Biriyani\",\"Dosa\",\"Chappathi\"]\n",
        "\n",
        "print(list)"
      ],
      "metadata": {
        "colab": {
          "base_uri": "https://localhost:8080/"
        },
        "id": "nHw1rgskXNGL",
        "outputId": "68a12066-5dd2-494e-92dc-2ada2e125c2c"
      },
      "execution_count": null,
      "outputs": [
        {
          "output_type": "stream",
          "name": "stdout",
          "text": [
            "[1, 'a', True]\n"
          ]
        }
      ]
    },
    {
      "cell_type": "markdown",
      "source": [
        "\n",
        "\n",
        "> Append\n",
        "\n"
      ],
      "metadata": {
        "id": "83oU2cZRYtMa"
      }
    },
    {
      "cell_type": "code",
      "source": [
        "song.append(\"Oh enthan penne\")\n",
        "print(\"After append\",song)"
      ],
      "metadata": {
        "colab": {
          "base_uri": "https://localhost:8080/"
        },
        "id": "IGYnJMxIYsUR",
        "outputId": "111efda3-7b7d-4f3b-e41c-19f88c2391e4"
      },
      "execution_count": null,
      "outputs": [
        {
          "output_type": "stream",
          "name": "stdout",
          "text": [
            "After append ['na ready', 'maariii', 'seerikalam, parakalam', 'Oh enthan penne']\n"
          ]
        }
      ]
    },
    {
      "cell_type": "markdown",
      "source": [
        "> Insert - You can insert whichever place you want"
      ],
      "metadata": {
        "id": "RBspiof4ZcHK"
      }
    },
    {
      "cell_type": "code",
      "source": [
        "movie.insert(3,\"Jananayagan\")\n",
        "print(\"After insert\",movie)"
      ],
      "metadata": {
        "colab": {
          "base_uri": "https://localhost:8080/"
        },
        "id": "t3JbKCcUZZ9y",
        "outputId": "a73857ee-cb4e-4c62-92ea-718d39d0d82f"
      },
      "execution_count": null,
      "outputs": [
        {
          "output_type": "stream",
          "name": "stdout",
          "text": [
            "After insert ['Leo', 'Theri', 'Thuppaki', 'Jananayagan']\n"
          ]
        }
      ]
    },
    {
      "cell_type": "markdown",
      "source": [
        "> Remove"
      ],
      "metadata": {
        "id": "dZYDIyMaZ11x"
      }
    },
    {
      "cell_type": "code",
      "source": [
        "song.remove(\"Oh enthan penne\")\n",
        "print(\"After remove\",song)"
      ],
      "metadata": {
        "colab": {
          "base_uri": "https://localhost:8080/"
        },
        "id": "7Jhw48TiZtjl",
        "outputId": "9b15fc0a-743a-40d6-c05a-31217bb1b499"
      },
      "execution_count": null,
      "outputs": [
        {
          "output_type": "stream",
          "name": "stdout",
          "text": [
            "After remove ['na ready', 'maariii', 'seerikalam, parakalam']\n"
          ]
        }
      ]
    },
    {
      "cell_type": "markdown",
      "source": [
        "> Pop"
      ],
      "metadata": {
        "id": "uowKpuT-aH5J"
      }
    },
    {
      "cell_type": "code",
      "source": [
        "movie.pop()\n",
        "print(\"After pop\",movie)"
      ],
      "metadata": {
        "colab": {
          "base_uri": "https://localhost:8080/"
        },
        "id": "_g7KliGlaBC6",
        "outputId": "9fad1d01-6741-4859-ebb8-d0c9f5c8ea11"
      },
      "execution_count": null,
      "outputs": [
        {
          "output_type": "stream",
          "name": "stdout",
          "text": [
            "After pop ['Leo', 'Theri', 'Thuppaki']\n"
          ]
        }
      ]
    },
    {
      "cell_type": "markdown",
      "source": [
        "> Reverse"
      ],
      "metadata": {
        "id": "ET7QNHhHaT_h"
      }
    },
    {
      "cell_type": "code",
      "source": [
        "movie.reverse()\n",
        "print(\"After reverse\",movie)"
      ],
      "metadata": {
        "colab": {
          "base_uri": "https://localhost:8080/"
        },
        "id": "CxETTFLBaHKh",
        "outputId": "ec73da0a-3e2e-4661-e2d5-2baccd4deec1"
      },
      "execution_count": null,
      "outputs": [
        {
          "output_type": "stream",
          "name": "stdout",
          "text": [
            "After reverse ['Thuppaki', 'Theri', 'Leo']\n"
          ]
        }
      ]
    },
    {
      "cell_type": "markdown",
      "source": [
        "> Count"
      ],
      "metadata": {
        "id": "QVY2rQrTaWnJ"
      }
    },
    {
      "cell_type": "code",
      "source": [
        "print(\"After count\",song.count(\"maariii\"))\n",
        "song"
      ],
      "metadata": {
        "colab": {
          "base_uri": "https://localhost:8080/"
        },
        "id": "E8l9TgwPaXmx",
        "outputId": "c3cf047e-c64c-4323-bdec-3bbe6869002f"
      },
      "execution_count": null,
      "outputs": [
        {
          "output_type": "stream",
          "name": "stdout",
          "text": [
            "After count 1\n"
          ]
        },
        {
          "output_type": "execute_result",
          "data": {
            "text/plain": [
              "['na ready', 'maariii', 'seerikalam, parakalam']"
            ]
          },
          "metadata": {},
          "execution_count": 27
        }
      ]
    },
    {
      "cell_type": "markdown",
      "source": [
        "> Slicing"
      ],
      "metadata": {
        "id": "wsSugTZBawFy"
      }
    },
    {
      "cell_type": "code",
      "source": [
        "#Top 2 songs\n",
        "\n",
        "print(\"Top 2 songs\",song[:2])\n",
        "print(\"Top 2 songs\",song[1:3])\n",
        "\n",
        "# Last ordered food\n",
        "\n",
        "print(food)\n",
        "print(\"Last ordered food\",food[-2:])\n",
        "print(\"Last ordered food\",food[-2])"
      ],
      "metadata": {
        "colab": {
          "base_uri": "https://localhost:8080/"
        },
        "id": "SFqNnayYacCB",
        "outputId": "8ec23a06-c384-42fd-f768-9abe6b0b4f3e"
      },
      "execution_count": null,
      "outputs": [
        {
          "output_type": "stream",
          "name": "stdout",
          "text": [
            "Top 2 songs ['na ready', 'maariii']\n",
            "Top 2 songs ['maariii', 'seerikalam, parakalam']\n",
            "['Biriyani', 'Dosa', 'Chappathi']\n",
            "Last ordered food ['Dosa', 'Chappathi']\n",
            "Last ordered food Dosa\n"
          ]
        }
      ]
    },
    {
      "cell_type": "markdown",
      "source": [
        "> Iteration"
      ],
      "metadata": {
        "id": "HKavvHuzcLJZ"
      }
    },
    {
      "cell_type": "code",
      "source": [
        "for i in song:\n",
        "  print(f\"Song {song.index(i)+1}: \", i)"
      ],
      "metadata": {
        "colab": {
          "base_uri": "https://localhost:8080/"
        },
        "id": "Em9XiglSbH6R",
        "outputId": "c00ae515-0267-419d-c489-95cc9a10a948"
      },
      "execution_count": null,
      "outputs": [
        {
          "output_type": "stream",
          "name": "stdout",
          "text": [
            "Song 1:  na ready\n",
            "Song 2:  maariii\n",
            "Song 3:  seerikalam, parakalam\n"
          ]
        }
      ]
    },
    {
      "cell_type": "code",
      "source": [
        "artist = ['Vijay',\"Dhanush\",\"DQ\"]\n",
        "\n",
        "for s in song:\n",
        "  print(f\"song :\",s,\"Artist :\",{artist[song.index(s)]})\n",
        "\n",
        "print(\"-\"*50)\n",
        "\n",
        "for index,s in enumerate(song):\n",
        "  print(f\"index : \",index,\"song :\",s)"
      ],
      "metadata": {
        "colab": {
          "base_uri": "https://localhost:8080/"
        },
        "id": "9gkS0X4Tclq5",
        "outputId": "cfd5df98-6dc7-4630-ce4e-e43441c28b6f"
      },
      "execution_count": null,
      "outputs": [
        {
          "output_type": "stream",
          "name": "stdout",
          "text": [
            "song : na ready Artist : {'Vijay'}\n",
            "song : maariii Artist : {'Dhanush'}\n",
            "song : seerikalam, parakalam Artist : {'DQ'}\n",
            "--------------------------------------------------\n",
            "index :  0 song : na ready\n",
            "index :  1 song : maariii\n",
            "index :  2 song : seerikalam, parakalam\n"
          ]
        }
      ]
    },
    {
      "cell_type": "markdown",
      "source": [
        "> Update"
      ],
      "metadata": {
        "id": "Y72AXdHDfFbp"
      }
    },
    {
      "cell_type": "code",
      "source": [
        "print(\"Actual Food list\", food)\n",
        "food[1] = \"Idly\"\n",
        "print(\"Updated Food list\", food)\n"
      ],
      "metadata": {
        "colab": {
          "base_uri": "https://localhost:8080/"
        },
        "id": "8y4LmBJ6fFNp",
        "outputId": "ff74da5e-078d-4076-97b1-1ba432ad1952"
      },
      "execution_count": null,
      "outputs": [
        {
          "output_type": "stream",
          "name": "stdout",
          "text": [
            "Actual Food list ['Biriyani', 'Dosa', 'Chappathi']\n",
            "Updated Food list ['Biriyani', 'Idly', 'Chappathi']\n"
          ]
        }
      ]
    },
    {
      "cell_type": "markdown",
      "source": [
        "> Enumerate Function"
      ],
      "metadata": {
        "id": "HqCOvskqg3GS"
      }
    },
    {
      "cell_type": "code",
      "source": [
        "artist = ['Vijay',\"Dhanush\",\"DQ\"]\n",
        "\n",
        "for s in song:\n",
        "  print(f\"song :\",s,\"Artist :\",{artist[song.index(s)]})\n",
        "\n",
        "print(\"-\"*50)\n",
        "\n",
        "for index,s in enumerate(song):\n",
        "  print(f\"index : \",index,\"song :\",s)"
      ],
      "metadata": {
        "colab": {
          "base_uri": "https://localhost:8080/"
        },
        "id": "sxrGvpqYd69q",
        "outputId": "44005e4e-ba9f-4f72-efe9-187d6b2e8974"
      },
      "execution_count": null,
      "outputs": [
        {
          "output_type": "stream",
          "name": "stdout",
          "text": [
            "song : na ready Artist : {'Vijay'}\n",
            "song : maariii Artist : {'Dhanush'}\n",
            "song : seerikalam, parakalam Artist : {'DQ'}\n",
            "--------------------------------------------------\n",
            "index :  0 song : na ready\n",
            "index :  1 song : maariii\n",
            "index :  2 song : seerikalam, parakalam\n"
          ]
        }
      ]
    },
    {
      "cell_type": "markdown",
      "source": [
        "# Tuple"
      ],
      "metadata": {
        "id": "ygukLcPri2AD"
      }
    },
    {
      "cell_type": "markdown",
      "source": [
        "* Tuple is Immutable\n",
        "* Faster and mostly used as readonly"
      ],
      "metadata": {
        "id": "61h7FFT6krei"
      }
    },
    {
      "cell_type": "code",
      "source": [
        "trip_summary=(\"ubergo\",\"chennai\",\"chennai\",\"airport\",500.00,\"completed\")\n",
        "trip_summary"
      ],
      "metadata": {
        "colab": {
          "base_uri": "https://localhost:8080/"
        },
        "id": "iZUuOdkgg6W6",
        "outputId": "b5fd3843-9f3e-4e02-d7d9-029080d53d27"
      },
      "execution_count": null,
      "outputs": [
        {
          "output_type": "execute_result",
          "data": {
            "text/plain": [
              "('ubergo', 'chennai', 'chennai', 'airport', 500.0, 'completed')"
            ]
          },
          "metadata": {},
          "execution_count": 72
        }
      ]
    },
    {
      "cell_type": "markdown",
      "source": [
        "> Access by index"
      ],
      "metadata": {
        "id": "_mzx9p3bjp2C"
      }
    },
    {
      "cell_type": "code",
      "source": [
        "print(trip_summary[1])"
      ],
      "metadata": {
        "colab": {
          "base_uri": "https://localhost:8080/"
        },
        "id": "IGKMgMTljXJx",
        "outputId": "e38cf950-666a-485a-83a5-f8fc77c25d02"
      },
      "execution_count": null,
      "outputs": [
        {
          "output_type": "stream",
          "name": "stdout",
          "text": [
            "chennai\n"
          ]
        }
      ]
    },
    {
      "cell_type": "markdown",
      "source": [
        "> Loop threw"
      ],
      "metadata": {
        "id": "LzR_L9qyjx9p"
      }
    },
    {
      "cell_type": "code",
      "source": [
        "for i in trip_summary:\n",
        "  print(i)"
      ],
      "metadata": {
        "colab": {
          "base_uri": "https://localhost:8080/"
        },
        "id": "DO7Tfb8ejwPZ",
        "outputId": "9d613d7e-5e7d-4ffd-c501-59d2d6fbbfe2"
      },
      "execution_count": null,
      "outputs": [
        {
          "output_type": "stream",
          "name": "stdout",
          "text": [
            "ubergo\n",
            "chennai\n",
            "chennai\n",
            "airport\n",
            "500.0\n",
            "completed\n"
          ]
        }
      ]
    },
    {
      "cell_type": "markdown",
      "source": [
        "> Length"
      ],
      "metadata": {
        "id": "jdGWvjdKj6Bc"
      }
    },
    {
      "cell_type": "code",
      "source": [
        "print(trip_summary)\n",
        "print(len(trip_summary))"
      ],
      "metadata": {
        "colab": {
          "base_uri": "https://localhost:8080/"
        },
        "id": "Z0IZrVX9j5Lu",
        "outputId": "c9c23c1c-0be0-47b0-ec60-41903c76573e"
      },
      "execution_count": null,
      "outputs": [
        {
          "output_type": "stream",
          "name": "stdout",
          "text": [
            "('ubergo', 'chennai', 'chennai', 'airport', 500.0, 'completed')\n",
            "6\n"
          ]
        }
      ]
    },
    {
      "cell_type": "markdown",
      "source": [
        "> Count and Index"
      ],
      "metadata": {
        "id": "V4hWsjvdkHQS"
      }
    },
    {
      "cell_type": "code",
      "source": [
        "print(trip_summary.count(\"chennai\"))\n",
        "print(trip_summary.index(\"airport\"))"
      ],
      "metadata": {
        "colab": {
          "base_uri": "https://localhost:8080/"
        },
        "id": "QSIQOEnFj_HS",
        "outputId": "d5c62710-a959-4792-aca0-b419e2d6dda5"
      },
      "execution_count": null,
      "outputs": [
        {
          "output_type": "stream",
          "name": "stdout",
          "text": [
            "2\n",
            "3\n"
          ]
        }
      ]
    },
    {
      "cell_type": "markdown",
      "source": [
        "# Set"
      ],
      "metadata": {
        "id": "ZDomaC40k3bx"
      }
    },
    {
      "cell_type": "markdown",
      "source": [
        "* set is inordered and Mutable\n",
        "* Eliminate"
      ],
      "metadata": {
        "id": "M1r2A3odlCt6"
      }
    },
    {
      "cell_type": "code",
      "source": [
        "a = {1,2,3,4}\n",
        "print(a)"
      ],
      "metadata": {
        "colab": {
          "base_uri": "https://localhost:8080/"
        },
        "id": "wDSIjKBfkdLK",
        "outputId": "453639d6-f809-4f8b-bc67-4b81e70f86db"
      },
      "execution_count": null,
      "outputs": [
        {
          "output_type": "stream",
          "name": "stdout",
          "text": [
            "{1, 2, 3, 4}\n"
          ]
        }
      ]
    },
    {
      "cell_type": "code",
      "source": [
        "list_A = [1,2,3,3]\n",
        "print(list_A)\n",
        "b=set(list_A) # Wont allow duplicate\n",
        "print(b)"
      ],
      "metadata": {
        "colab": {
          "base_uri": "https://localhost:8080/"
        },
        "id": "7Sg2QuZPlSkR",
        "outputId": "6fb01e49-0783-47b1-b488-5d694fb455d9"
      },
      "execution_count": null,
      "outputs": [
        {
          "output_type": "stream",
          "name": "stdout",
          "text": [
            "[1, 2, 3, 3]\n",
            "{1, 2, 3}\n"
          ]
        }
      ]
    },
    {
      "cell_type": "markdown",
      "source": [
        "> Union"
      ],
      "metadata": {
        "id": "IjNJzpH2mMBK"
      }
    },
    {
      "cell_type": "code",
      "source": [
        "set1={1,2,3,4,5}\n",
        "set2={4,5,6,7,8}\n",
        "\n",
        "print(set1.union(set2))"
      ],
      "metadata": {
        "colab": {
          "base_uri": "https://localhost:8080/"
        },
        "id": "5TwUXxZllubx",
        "outputId": "fadb875c-a4e5-4aeb-e4ee-cc599203e666"
      },
      "execution_count": null,
      "outputs": [
        {
          "output_type": "stream",
          "name": "stdout",
          "text": [
            "{1, 2, 3, 4, 5, 6, 7, 8}\n"
          ]
        }
      ]
    },
    {
      "cell_type": "markdown",
      "source": [
        "> Intersection"
      ],
      "metadata": {
        "id": "A-A5qfawmVB7"
      }
    },
    {
      "cell_type": "code",
      "source": [
        "set_cities_1={\"Coimbatore\",\"Madurai\",\"chennai\",\"banglore\"}\n",
        "set_cities_2={\"Coimbatore\",\"Madurai\",\"chennai\",\"banglore\",\"hyderabad\"}\n",
        "\n",
        "print(set_cities_1.intersection(set_cities_2))\n"
      ],
      "metadata": {
        "colab": {
          "base_uri": "https://localhost:8080/"
        },
        "id": "VDYNbXmmmRBZ",
        "outputId": "0ca609c9-adf8-49d8-e698-1cd6e104ee6e"
      },
      "execution_count": null,
      "outputs": [
        {
          "output_type": "stream",
          "name": "stdout",
          "text": [
            "{'Coimbatore', 'banglore', 'Madurai', 'chennai'}\n"
          ]
        }
      ]
    },
    {
      "cell_type": "markdown",
      "source": [
        "> Difference"
      ],
      "metadata": {
        "id": "dhLTmtntnxfK"
      }
    },
    {
      "cell_type": "code",
      "source": [
        "set_cities_diff1={\"Coimbatore\",\"Madurai\",\"chennai\",\"banglore\"}\n",
        "set_cities_diff2={\"Coimbatore\",\"Madurai\",\"chennai\",\"banglore\",\"hyderabad\"}\n",
        "\n",
        "print(set_cities_diff2.difference(set_cities_diff1))\n"
      ],
      "metadata": {
        "colab": {
          "base_uri": "https://localhost:8080/"
        },
        "id": "FbUyp1wWnhqx",
        "outputId": "b29e954d-159d-4b0b-a12d-a8a67b4f9468"
      },
      "execution_count": null,
      "outputs": [
        {
          "output_type": "stream",
          "name": "stdout",
          "text": [
            "{'hyderabad'}\n"
          ]
        }
      ]
    },
    {
      "cell_type": "markdown",
      "source": [
        "> Mutable - Can do Add and Remove but wont Update"
      ],
      "metadata": {
        "id": "0sYqYwRQoOia"
      }
    },
    {
      "cell_type": "code",
      "source": [
        "set_cities_1.add(\"Delhi\")\n",
        "print(set_cities_1)"
      ],
      "metadata": {
        "colab": {
          "base_uri": "https://localhost:8080/"
        },
        "id": "7XevGPOnn6ip",
        "outputId": "8771d86f-77a0-42f0-e5a2-3acebc9f3f6d"
      },
      "execution_count": null,
      "outputs": [
        {
          "output_type": "stream",
          "name": "stdout",
          "text": [
            "{'Coimbatore', 'chennai', 'banglore', 'Madurai', 'Delhi'}\n"
          ]
        }
      ]
    },
    {
      "cell_type": "markdown",
      "source": [
        "> Dicard - Suppose we want to delete any element is dict but we dont know it is presented or not in set, if not it will raise an error. So you can use dicard to safe run\n",
        "\n",
        "> If it presented it will remove, If not it wont do anything?"
      ],
      "metadata": {
        "id": "ES6QHvLWpUgy"
      }
    },
    {
      "cell_type": "code",
      "source": [
        "set1={1,2,3,4,5,6}\n",
        "set1.remove(7)\n",
        "print(set1)"
      ],
      "metadata": {
        "colab": {
          "base_uri": "https://localhost:8080/",
          "height": 176
        },
        "id": "uzLwP-0oo7ji",
        "outputId": "d108c52c-92d9-48fe-84e5-39e6fe130541"
      },
      "execution_count": null,
      "outputs": [
        {
          "output_type": "error",
          "ename": "KeyError",
          "evalue": "7",
          "traceback": [
            "\u001b[0;31m---------------------------------------------------------------------------\u001b[0m",
            "\u001b[0;31mKeyError\u001b[0m                                  Traceback (most recent call last)",
            "\u001b[0;32m/tmp/ipython-input-4018748751.py\u001b[0m in \u001b[0;36m<cell line: 0>\u001b[0;34m()\u001b[0m\n\u001b[1;32m      1\u001b[0m \u001b[0mset1\u001b[0m\u001b[0;34m=\u001b[0m\u001b[0;34m{\u001b[0m\u001b[0;36m1\u001b[0m\u001b[0;34m,\u001b[0m\u001b[0;36m2\u001b[0m\u001b[0;34m,\u001b[0m\u001b[0;36m3\u001b[0m\u001b[0;34m,\u001b[0m\u001b[0;36m4\u001b[0m\u001b[0;34m,\u001b[0m\u001b[0;36m5\u001b[0m\u001b[0;34m,\u001b[0m\u001b[0;36m6\u001b[0m\u001b[0;34m}\u001b[0m\u001b[0;34m\u001b[0m\u001b[0;34m\u001b[0m\u001b[0m\n\u001b[0;32m----> 2\u001b[0;31m \u001b[0mset1\u001b[0m\u001b[0;34m.\u001b[0m\u001b[0mremove\u001b[0m\u001b[0;34m(\u001b[0m\u001b[0;36m7\u001b[0m\u001b[0;34m)\u001b[0m\u001b[0;34m\u001b[0m\u001b[0;34m\u001b[0m\u001b[0m\n\u001b[0m\u001b[1;32m      3\u001b[0m \u001b[0mprint\u001b[0m\u001b[0;34m(\u001b[0m\u001b[0mset1\u001b[0m\u001b[0;34m)\u001b[0m\u001b[0;34m\u001b[0m\u001b[0;34m\u001b[0m\u001b[0m\n",
            "\u001b[0;31mKeyError\u001b[0m: 7"
          ]
        }
      ]
    },
    {
      "cell_type": "code",
      "source": [
        "set1={1,2,3,4,5,6}\n",
        "set1.discard(7)\n",
        "print(set1)"
      ],
      "metadata": {
        "colab": {
          "base_uri": "https://localhost:8080/"
        },
        "id": "2x2XEWycp0_R",
        "outputId": "7e8702c6-aaff-47e8-d7e6-70324d4925af"
      },
      "execution_count": null,
      "outputs": [
        {
          "output_type": "stream",
          "name": "stdout",
          "text": [
            "{1, 2, 3, 4, 5, 6}\n"
          ]
        }
      ]
    },
    {
      "cell_type": "markdown",
      "source": [
        "# Dict"
      ],
      "metadata": {
        "id": "c1eypokXqAma"
      }
    },
    {
      "cell_type": "code",
      "source": [
        "trip = {\n",
        "    \"pickup\" : \"Singanallur bus stop\",\n",
        "    \"drop\" : \"Singanallur bus stop\",\n",
        "    \"distance\" : 10,\n",
        "    \"gender\" : \"male\",\n",
        "    \"price\" : 500\n",
        "}\n",
        "\n",
        "print(trip[\"price\"])\n"
      ],
      "metadata": {
        "colab": {
          "base_uri": "https://localhost:8080/"
        },
        "id": "sOrei3SRp4wC",
        "outputId": "95cfeaf4-a235-4e83-c206-1a844bbce33f"
      },
      "execution_count": null,
      "outputs": [
        {
          "output_type": "stream",
          "name": "stdout",
          "text": [
            "500\n"
          ]
        }
      ]
    },
    {
      "cell_type": "markdown",
      "source": [
        "> Get"
      ],
      "metadata": {
        "id": "W-ZDvM6JrOkM"
      }
    },
    {
      "cell_type": "code",
      "source": [
        "trip = {\n",
        "    \"pickup\" : \"Singanallur bus stop\",\n",
        "    \"drop\" : \"Singanallur bus stop\",\n",
        "    \"distance\" : 10,\n",
        "    \"gender\" : \"male\",\n",
        "    \"price\" : 500\n",
        "}\n",
        "\n",
        "print(trip[\"phone_num\"]) # It will raise an error if it not availabel\n"
      ],
      "metadata": {
        "colab": {
          "base_uri": "https://localhost:8080/",
          "height": 176
        },
        "id": "t1GNxFSxrOFi",
        "outputId": "6553dbe8-4c63-4351-93f8-fb8fd47af5d3"
      },
      "execution_count": null,
      "outputs": [
        {
          "output_type": "error",
          "ename": "KeyError",
          "evalue": "'phone_num'",
          "traceback": [
            "\u001b[0;31m---------------------------------------------------------------------------\u001b[0m",
            "\u001b[0;31mKeyError\u001b[0m                                  Traceback (most recent call last)",
            "\u001b[0;32m/tmp/ipython-input-3682644603.py\u001b[0m in \u001b[0;36m<cell line: 0>\u001b[0;34m()\u001b[0m\n\u001b[1;32m      7\u001b[0m }\n\u001b[1;32m      8\u001b[0m \u001b[0;34m\u001b[0m\u001b[0m\n\u001b[0;32m----> 9\u001b[0;31m \u001b[0mprint\u001b[0m\u001b[0;34m(\u001b[0m\u001b[0mtrip\u001b[0m\u001b[0;34m[\u001b[0m\u001b[0;34m\"phone_num\"\u001b[0m\u001b[0;34m]\u001b[0m\u001b[0;34m)\u001b[0m\u001b[0;34m\u001b[0m\u001b[0;34m\u001b[0m\u001b[0m\n\u001b[0m",
            "\u001b[0;31mKeyError\u001b[0m: 'phone_num'"
          ]
        }
      ]
    },
    {
      "cell_type": "code",
      "source": [
        "trip = {\n",
        "    \"pickup\" : \"Singanallur bus stop\",\n",
        "    \"drop\" : \"Singanallur bus stop\",\n",
        "    \"distance\" : 10,\n",
        "    \"gender\" : \"male\",\n",
        "    \"price\" : 500\n",
        "}\n",
        "\n",
        "print(trip.get(\"phone_num\")) # It wont raise an error you should this for search - best practice\n"
      ],
      "metadata": {
        "colab": {
          "base_uri": "https://localhost:8080/"
        },
        "id": "BqpPUMf2rS-q",
        "outputId": "68b64436-1553-4fb5-c0e5-eee18fb51f8f"
      },
      "execution_count": null,
      "outputs": [
        {
          "output_type": "stream",
          "name": "stdout",
          "text": [
            "None\n"
          ]
        }
      ]
    },
    {
      "cell_type": "markdown",
      "source": [
        "> Keys"
      ],
      "metadata": {
        "id": "14ETaez3rvlj"
      }
    },
    {
      "cell_type": "code",
      "source": [
        "print(trip.keys())"
      ],
      "metadata": {
        "colab": {
          "base_uri": "https://localhost:8080/"
        },
        "id": "bruNwx0GrrMq",
        "outputId": "bac935d9-d166-4488-85ad-7fa2c01a47a3"
      },
      "execution_count": null,
      "outputs": [
        {
          "output_type": "stream",
          "name": "stdout",
          "text": [
            "dict_keys(['pickup', 'drop', 'distance', 'gender', 'price'])\n"
          ]
        }
      ]
    },
    {
      "cell_type": "markdown",
      "source": [
        "> Values"
      ],
      "metadata": {
        "id": "wdLBqIfxrz35"
      }
    },
    {
      "cell_type": "code",
      "source": [
        "print(trip.values())"
      ],
      "metadata": {
        "colab": {
          "base_uri": "https://localhost:8080/"
        },
        "id": "nrxGvbNYr1CC",
        "outputId": "b56f92b5-bbc6-4793-9871-afbf4e819fa0"
      },
      "execution_count": null,
      "outputs": [
        {
          "output_type": "stream",
          "name": "stdout",
          "text": [
            "dict_values(['Singanallur bus stop', 'Singanallur bus stop', 10, 'male', 500])\n"
          ]
        }
      ]
    },
    {
      "cell_type": "markdown",
      "source": [
        "> Iteraterate"
      ],
      "metadata": {
        "id": "zGGwOcUCr7Bi"
      }
    },
    {
      "cell_type": "code",
      "source": [
        "trip = {\n",
        "    \"pickup\" : \"Singanallur bus stop\",\n",
        "    \"drop\" : \"Singanallur bus stop\",\n",
        "    \"distance\" : 10,\n",
        "    \"gender\" : \"male\",\n",
        "    \"price\" : 500\n",
        "}\n",
        "\n",
        "for i,j in trip.items():\n",
        "  print(f\"{i} : {j}\")"
      ],
      "metadata": {
        "colab": {
          "base_uri": "https://localhost:8080/"
        },
        "id": "ZVaOQbxzr2hp",
        "outputId": "e5443733-e19c-483c-fed9-dd3fbc9f2e47"
      },
      "execution_count": null,
      "outputs": [
        {
          "output_type": "stream",
          "name": "stdout",
          "text": [
            "pickup : Singanallur bus stop\n",
            "drop : Singanallur bus stop\n",
            "distance : 10\n",
            "gender : male\n",
            "price : 500\n"
          ]
        }
      ]
    },
    {
      "cell_type": "markdown",
      "source": [
        "> Update"
      ],
      "metadata": {
        "id": "n0pxMXPgsLfi"
      }
    },
    {
      "cell_type": "code",
      "source": [
        "trip = {\n",
        "    \"pickup\" : \"Singanallur bus stop\",\n",
        "    \"drop\" : \"Singanallur bus stop\",\n",
        "    \"distance\" : 10,\n",
        "    \"gender\" : \"male\",\n",
        "    \"price\" : 500\n",
        "}\n",
        "\n",
        "trip.update({\"car_model\":\"Swift\"}) # Can add without key\n",
        "print(trip)"
      ],
      "metadata": {
        "colab": {
          "base_uri": "https://localhost:8080/"
        },
        "id": "WeZ0vQppsGbC",
        "outputId": "679656ae-f4eb-4736-da10-46b3b1ed7be6"
      },
      "execution_count": null,
      "outputs": [
        {
          "output_type": "stream",
          "name": "stdout",
          "text": [
            "{'pickup': 'Singanallur bus stop', 'drop': 'Singanallur bus stop', 'distance': 10, 'gender': 'male', 'price': 500, 'car_model': 'Swift'}\n"
          ]
        }
      ]
    },
    {
      "cell_type": "code",
      "source": [
        "trip = {\n",
        "    \"pickup\" : \"Singanallur bus stop\",\n",
        "    \"drop\" : \"Singanallur bus stop\",\n",
        "    \"distance\" : 10,\n",
        "    \"gender\" : \"male\",\n",
        "    \"price\" : 500\n",
        "}\n",
        "\n",
        "trip.update({\"car_model\":\"Volvo\"})\n",
        "print(trip)"
      ],
      "metadata": {
        "colab": {
          "base_uri": "https://localhost:8080/"
        },
        "id": "3wa9buVwseni",
        "outputId": "13c35374-6c18-4cdf-8264-58f1469f3d68"
      },
      "execution_count": null,
      "outputs": [
        {
          "output_type": "stream",
          "name": "stdout",
          "text": [
            "{'pickup': 'Singanallur bus stop', 'drop': 'Singanallur bus stop', 'distance': 10, 'gender': 'male', 'price': 500, 'car_model': 'Volvo'}\n"
          ]
        }
      ]
    },
    {
      "cell_type": "markdown",
      "source": [
        "> Pop"
      ],
      "metadata": {
        "id": "o1pgGuRts1NK"
      }
    },
    {
      "cell_type": "code",
      "source": [
        "trip.pop('car_model')\n",
        "print(trip)"
      ],
      "metadata": {
        "colab": {
          "base_uri": "https://localhost:8080/"
        },
        "id": "GCjF_8PNsxYa",
        "outputId": "64a873b4-ba5a-4238-d73f-18a3acb1e3d7"
      },
      "execution_count": null,
      "outputs": [
        {
          "output_type": "stream",
          "name": "stdout",
          "text": [
            "{'pickup': 'Singanallur bus stop', 'drop': 'Singanallur bus stop', 'distance': 10, 'gender': 'male', 'price': 500}\n"
          ]
        }
      ]
    },
    {
      "cell_type": "markdown",
      "source": [
        "> Iterate with duplicate"
      ],
      "metadata": {
        "id": "0eGfiRe2tKDi"
      }
    },
    {
      "cell_type": "code",
      "source": [
        "trip = {\n",
        "    \"ID\" : \"UB1234\",\n",
        "    \"pickup\" : \"Singanallur bus stop\",\n",
        "    \"drop\" : \"Singanallur bus stop\",\n",
        "    \"distance\" : 10,\n",
        "    \"gender\" : \"male\",\n",
        "    \"price\" : 500,\n",
        "    \"ID\" : \"UB1235\"\n",
        "}\n",
        "# It wont allow duplicate, it can accept in defining stage, but wont show in result, will take the latest value\n",
        "for key,value in trip.items():\n",
        "  print(f\"{key} : {value}\")"
      ],
      "metadata": {
        "colab": {
          "base_uri": "https://localhost:8080/"
        },
        "id": "Xggb6Uops8Aq",
        "outputId": "9a3bfeba-36fd-46d9-8ff8-402ce7bb8c79"
      },
      "execution_count": null,
      "outputs": [
        {
          "output_type": "stream",
          "name": "stdout",
          "text": [
            "ID : UB1235\n",
            "pickup : Singanallur bus stop\n",
            "drop : Singanallur bus stop\n",
            "distance : 10\n",
            "gender : male\n",
            "price : 500\n"
          ]
        }
      ]
    },
    {
      "cell_type": "markdown",
      "source": [
        "> Access the multiple values"
      ],
      "metadata": {
        "id": "8Wt10dI0t-O7"
      }
    },
    {
      "cell_type": "code",
      "source": [
        "trip = {\n",
        "    \"ID\" : \"UB1234\",\n",
        "    \"pickup\" : \"Singanallur bus stop\",\n",
        "    \"drop\" : [\"Bus stop\",\"Airport\",\"Railway station\"],\n",
        "    \"distance\" : 10,\n",
        "    \"gender\" : \"male\",\n",
        "    \"price\" : 500,\n",
        "    \"ID\" : \"UB1235\"\n",
        "}\n",
        "\n",
        "print(trip[\"drop\"][1])"
      ],
      "metadata": {
        "colab": {
          "base_uri": "https://localhost:8080/"
        },
        "id": "ALc6BZ3_tWf6",
        "outputId": "e0b4f11b-a86b-4e60-98a3-14f227947d6c"
      },
      "execution_count": null,
      "outputs": [
        {
          "output_type": "stream",
          "name": "stdout",
          "text": [
            "Airport\n"
          ]
        }
      ]
    },
    {
      "cell_type": "markdown",
      "source": [
        "> Iterate the multiple values with their single key"
      ],
      "metadata": {
        "id": "1wgtZsAbuaBK"
      }
    },
    {
      "cell_type": "code",
      "source": [
        "trip = {\n",
        "    \"ID\" : \"UB1234\",\n",
        "    \"pickup\" : \"Singanallur bus stop\",\n",
        "    \"drop\" : [\"Bus stop\",\"Airport\",\"Railway station\"],\n",
        "    \"distance\" : 10,\n",
        "    \"gender\" : \"male\",\n",
        "    \"price\" : 500,\n",
        "    \"ID\" : \"UB1235\"\n",
        "}\n",
        "\n",
        "for location in trip[\"drop\"]:\n",
        "  print(location)"
      ],
      "metadata": {
        "id": "9jWOZawquPFq",
        "outputId": "a0add481-b9e8-43fe-96f8-cae61d0a8e02",
        "colab": {
          "base_uri": "https://localhost:8080/"
        }
      },
      "execution_count": null,
      "outputs": [
        {
          "output_type": "stream",
          "name": "stdout",
          "text": [
            "Bus stop\n",
            "Airport\n",
            "Railway station\n"
          ]
        }
      ]
    },
    {
      "cell_type": "markdown",
      "source": [
        "> Iterate diffrent dict with the list"
      ],
      "metadata": {
        "id": "-leiLkX0u0Jq"
      }
    },
    {
      "cell_type": "code",
      "source": [
        "trips = [\n",
        "    {\"id\":\"UB1234\",\"pickup\":\"Singanallur bus stop\",\"drop\":\"Singanallur bus stop\",\"distance\":10,\"gender\":\"male\",\"price\":500},\n",
        "    {\"id\":\"UB1235\",\"pickup\":\"Singanallur bus stop\",\"drop\":\"Singanallur bus stop\",\"distance\":10,\"gender\":\"male\",\"price\":500},\n",
        "    {\"id\":\"UB1236\",\"pickup\":\"Singanallur bus stop\",\"drop\":\"Singanallur bus stop\",\"distance\":10,\"gender\":\"male\",\"price\":500}\n",
        "]\n",
        "\n",
        "for trip in trips:\n",
        "  print(trip[\"id\"])"
      ],
      "metadata": {
        "id": "14dHw-iSuiti",
        "outputId": "aa260a6f-37c0-40e0-9e69-b0135814cc99",
        "colab": {
          "base_uri": "https://localhost:8080/"
        }
      },
      "execution_count": null,
      "outputs": [
        {
          "output_type": "stream",
          "name": "stdout",
          "text": [
            "UB1234\n",
            "UB1235\n",
            "UB1236\n"
          ]
        }
      ]
    },
    {
      "cell_type": "markdown",
      "source": [
        "> With dict"
      ],
      "metadata": {
        "id": "H2V7eVBevRbj"
      }
    },
    {
      "cell_type": "code",
      "source": [
        "trips = {\n",
        "   \"trip-1\" : {\"id\":\"UB1234\",\"pickup\":\"Singanallur bus stop\",\"drop\":\"Airport\",\"distance\":10,\"gender\":\"male\",\"price\":500},\n",
        "   \"trip-2\" :{\"id\":\"UB1235\",\"pickup\":\"Singanallur bus stop\",\"drop\":\"Railway station\",\"distance\":10,\"gender\":\"male\",\"price\":600},\n",
        "   \"trip-3\" : {\"id\":\"UB1236\",\"pickup\":\"Singanallur bus stop\",\"drop\":\"Gandhipuram bus stop\",\"distance\":10,\"gender\":\"male\",\"price\":900}\n",
        "}\n",
        "\n",
        "print(\"Trip 1 details\", trips[\"trip-1\"][\"price\"])"
      ],
      "metadata": {
        "id": "34eBxpKmvMqS",
        "outputId": "24c4737b-1f0c-4893-d576-eb7bdd6354ad",
        "colab": {
          "base_uri": "https://localhost:8080/"
        }
      },
      "execution_count": null,
      "outputs": [
        {
          "output_type": "stream",
          "name": "stdout",
          "text": [
            "Trip 1 details 500\n"
          ]
        }
      ]
    },
    {
      "cell_type": "code",
      "source": [
        "trips = {\n",
        "   \"trip-1\" : {\"id\":\"UB1234\",\"pickup\":\"Singanallur bus stop\",\"drop\":\"Airport\",\"distance\":10,\"gender\":\"male\",\"price\":500},\n",
        "   \"trip-2\" :{\"id\":\"UB1235\",\"pickup\":\"Singanallur bus stop\",\"drop\":\"Railway station\",\"distance\":10,\"gender\":\"male\",\"price\":600},\n",
        "   \"trip-3\" : {\"id\":\"UB1236\",\"pickup\":\"Singanallur bus stop\",\"drop\":\"Gandhipuram bus stop\",\"distance\":10,\"gender\":\"male\",\"price\":900}\n",
        "}\n",
        "\n",
        "\n",
        "for trip_id,trip_details in trips.items():\n",
        "  print(trip_id)\n",
        "  print(trip_details['pickup'],\"->\",trip_details['drop'])"
      ],
      "metadata": {
        "id": "T0DXynGrv5xC",
        "outputId": "97a3cbf4-2d0d-4ba8-89ef-5942c1bb269c",
        "colab": {
          "base_uri": "https://localhost:8080/"
        }
      },
      "execution_count": null,
      "outputs": [
        {
          "output_type": "stream",
          "name": "stdout",
          "text": [
            "trip-1\n",
            "Singanallur bus stop -> Airport\n",
            "trip-2\n",
            "Singanallur bus stop -> Railway station\n",
            "trip-3\n",
            "Singanallur bus stop -> Gandhipuram bus stop\n"
          ]
        }
      ]
    },
    {
      "cell_type": "markdown",
      "source": [
        "# Oops - Concepts"
      ],
      "metadata": {
        "id": "9rrU2dqZkTCE"
      }
    },
    {
      "cell_type": "markdown",
      "source": [
        "\n",
        "\n",
        "> If we right function inside the class is called as **Method**\n",
        "\n"
      ],
      "metadata": {
        "id": "UEJSB0Vnk43w"
      }
    },
    {
      "cell_type": "code",
      "source": [
        "class student:\n",
        "  def say_hello(self):\n",
        "    print(\"Hi student!, How are you\")\n",
        "\n",
        "s1 = student()\n",
        "s1.say_hello()"
      ],
      "metadata": {
        "id": "YGSK9JVcw6fS",
        "colab": {
          "base_uri": "https://localhost:8080/"
        },
        "outputId": "a70b82c5-984c-4db9-e03a-249dfd6026fa"
      },
      "execution_count": null,
      "outputs": [
        {
          "output_type": "stream",
          "name": "stdout",
          "text": [
            "Hi student!, How are you\n"
          ]
        }
      ]
    },
    {
      "cell_type": "markdown",
      "source": [
        "## Constructor"
      ],
      "metadata": {
        "id": "hPEzDHTrmi7l"
      }
    },
    {
      "cell_type": "code",
      "source": [
        "# Example 1 with constructor\n",
        "\n",
        "class student:\n",
        "  def __init__(self,fname,student_age):\n",
        "    self.name = fname\n",
        "    self.age = student_age\n",
        "\n",
        "  def display(self):\n",
        "    print(f\"Name : {self.name}| Age : {self.age}\")\n",
        "\n",
        "s1 = student(\"Infant\",24)\n",
        "s1.display()"
      ],
      "metadata": {
        "colab": {
          "base_uri": "https://localhost:8080/"
        },
        "id": "yismFqlrmNrf",
        "outputId": "7f3204af-23ce-41fe-cd12-43b23a0cd647"
      },
      "execution_count": null,
      "outputs": [
        {
          "output_type": "stream",
          "name": "stdout",
          "text": [
            "Name : Infant| Age : 24\n"
          ]
        }
      ]
    },
    {
      "cell_type": "code",
      "source": [
        "# Example 1 with constructor\n",
        "\n",
        "class employee:\n",
        "  def __init__(self,name,aadhaar):\n",
        "    self.emp_name = name\n",
        "    self.emp_aadhaar = aadhaar\n",
        "\n",
        "  def office(self):\n",
        "    print(f\"{self.emp_name} entered using Aadhaar: {self.emp_aadhaar}\")\n",
        "\n",
        "  def bank(self):\n",
        "    print(f\"{self.emp_name} opened account using Aadhaar: {self.emp_aadhaar}\")\n",
        "\n",
        "e1 = employee(\"Infant\",123456789)\n",
        "e1.office()\n",
        "e1.bank()\n"
      ],
      "metadata": {
        "colab": {
          "base_uri": "https://localhost:8080/"
        },
        "id": "IpvZEvpfn_AV",
        "outputId": "8b91acaf-3110-4462-befd-aeadf87ae991"
      },
      "execution_count": null,
      "outputs": [
        {
          "output_type": "stream",
          "name": "stdout",
          "text": [
            "Infant entered using Aadhaar: 123456789\n",
            "Infant opened account using Aadhaar: 123456789\n"
          ]
        }
      ]
    },
    {
      "cell_type": "markdown",
      "source": [
        "## Without constructor"
      ],
      "metadata": {
        "id": "Dj_l58-4pofV"
      }
    },
    {
      "cell_type": "code",
      "source": [
        "# Example 1\n",
        "\n",
        "class Mathtools:\n",
        "\n",
        "  def square(self,num):\n",
        "    return num * num\n",
        "\n",
        "  def cube(self,num):\n",
        "    return num * num * num\n",
        "\n",
        "math = Mathtools()\n",
        "print(math.square(5))"
      ],
      "metadata": {
        "colab": {
          "base_uri": "https://localhost:8080/"
        },
        "id": "2Nph9bOepZmF",
        "outputId": "3205536e-594d-4690-b637-ad2981989b3f"
      },
      "execution_count": null,
      "outputs": [
        {
          "output_type": "stream",
          "name": "stdout",
          "text": [
            "25\n"
          ]
        }
      ]
    },
    {
      "cell_type": "markdown",
      "source": [
        "## Inheritance"
      ],
      "metadata": {
        "id": "SN8T9LhIqT7N"
      }
    },
    {
      "cell_type": "markdown",
      "source": [
        "\n",
        "\n",
        "```\n",
        "Always you should create a object for child class only\n",
        "```\n",
        "\n"
      ],
      "metadata": {
        "id": "SCFu3-iBvo_l"
      }
    },
    {
      "cell_type": "markdown",
      "source": [
        "### Single inheritance"
      ],
      "metadata": {
        "id": "zbcwXetyuA9X"
      }
    },
    {
      "cell_type": "code",
      "source": [
        "# Example 1\n",
        "\n",
        "class dad:\n",
        "\n",
        "  def house(self):\n",
        "    print(\"Hi !.., Im from dad class and my method name is house\")\n",
        "\n",
        "class child(dad):\n",
        "\n",
        "  def school(self):\n",
        "    print(\"Hi !.., Im from child class and my method name is school\")\n",
        "\n",
        "\n",
        "# Calling a dad class using child class\n",
        "\n",
        "c = child()\n",
        "c.house()\n",
        "c.school()"
      ],
      "metadata": {
        "colab": {
          "base_uri": "https://localhost:8080/"
        },
        "id": "hBFES03MqW2F",
        "outputId": "1fd0fd11-0ab6-40ff-f610-58025ba1cdc3"
      },
      "execution_count": null,
      "outputs": [
        {
          "output_type": "stream",
          "name": "stdout",
          "text": [
            "Hi !.., Im from dad class and my method name is house\n",
            "Hi !.., Im from child class and my method name is school\n"
          ]
        }
      ]
    },
    {
      "cell_type": "code",
      "source": [
        "# Example 2\n",
        "\n",
        "class app1:\n",
        "\n",
        "  def v1(self):\n",
        "    print(\"This is version 1: Orders only\")\n",
        "\n",
        "class app1_1(app1):\n",
        "\n",
        "  def v2(self):\n",
        "    print(\"This is version 2: Orders and return\")\n",
        "\n",
        "# Creating a object for the class\n",
        "a = app1_1()\n",
        "a.v1()\n",
        "a.v2()"
      ],
      "metadata": {
        "colab": {
          "base_uri": "https://localhost:8080/"
        },
        "id": "WDnDWuJqu6qp",
        "outputId": "ac6d9998-f4f8-4e1b-e333-c9cb2bf89ae0"
      },
      "execution_count": null,
      "outputs": [
        {
          "output_type": "stream",
          "name": "stdout",
          "text": [
            "This is version 1: Orders only\n",
            "This is version 2: Orders and return\n"
          ]
        }
      ]
    },
    {
      "cell_type": "markdown",
      "source": [
        "\n",
        "\n",
        "```\n",
        "Overwrite\n",
        "```\n",
        "\n"
      ],
      "metadata": {
        "id": "iZs-eGjAxkBZ"
      }
    },
    {
      "cell_type": "code",
      "source": [
        "class dad:\n",
        "\n",
        "  def house(self):\n",
        "    print(\"House color is red\")\n",
        "\n",
        "class child(dad):\n",
        "\n",
        "  def factory(self):\n",
        "    print(\"Factory color is yellow\")\n",
        "\n",
        "# Overwriting the dad class method without deleting the dad method\n",
        "\n",
        "  def house(self):\n",
        "    print(\"House color is yellow now\")\n",
        "\n",
        "c = child()\n",
        "c.factory()\n",
        "c.house()"
      ],
      "metadata": {
        "colab": {
          "base_uri": "https://localhost:8080/"
        },
        "id": "znchRhFjwrkh",
        "outputId": "5e1b7fb4-4708-49e6-97c3-8bbed5172bff"
      },
      "execution_count": null,
      "outputs": [
        {
          "output_type": "stream",
          "name": "stdout",
          "text": [
            "Factory color is yellow\n",
            "House color is yellow now\n"
          ]
        }
      ]
    },
    {
      "cell_type": "markdown",
      "source": [
        "### Multilevel inheritance"
      ],
      "metadata": {
        "id": "WgJLWvCY0qaW"
      }
    },
    {
      "cell_type": "code",
      "source": [
        "# Example 1\n",
        "\n",
        "class grandfather:\n",
        "\n",
        "  def car(self):\n",
        "    print(\"This is grandfather's car\")\n",
        "\n",
        "class father(grandfather):\n",
        "\n",
        "  def house(self):\n",
        "    print(\"This is father house\")\n",
        "\n",
        "class son(father):\n",
        "\n",
        "  def bike(self):\n",
        "    print(\"This is son's bike\")\n",
        "\n",
        "s = son()\n",
        "s.car() # We can access grandfather's car\n",
        "s.house() # Also access father house\n",
        "s.bike() # And son bike"
      ],
      "metadata": {
        "colab": {
          "base_uri": "https://localhost:8080/"
        },
        "id": "tkCQkdXlznye",
        "outputId": "fc33ec56-5e34-41b0-88f7-a83fd8988c56"
      },
      "execution_count": null,
      "outputs": [
        {
          "output_type": "stream",
          "name": "stdout",
          "text": [
            "This is grandfather's car\n",
            "This is father house\n",
            "This is son's bike\n"
          ]
        }
      ]
    },
    {
      "cell_type": "markdown",
      "source": [
        "### Hierarchy inheritance"
      ],
      "metadata": {
        "id": "QYMEtoLg1gW4"
      }
    },
    {
      "cell_type": "code",
      "source": [
        "# Example 1\n",
        "\n",
        "class dad:\n",
        "\n",
        "  def house(self):\n",
        "    print(\"This is dad's house\")\n",
        "\n",
        "class son_1(dad):\n",
        "\n",
        "  def factory(self):\n",
        "    print(\"This is son_1's factory\")\n",
        "\n",
        "class son_2(dad):\n",
        "\n",
        "  def hotel(self):\n",
        "    print(\"This is son_2's hotel\")\n",
        "\n",
        "# Calling father using son1 but cant son2\n",
        "s1 = son_1()\n",
        "s1.house()\n",
        "s1.factory()\n",
        "\n",
        "# Calling father using son2 but cant son1\n",
        "s2 = son_2()\n",
        "s2.house()\n",
        "s2.hotel()"
      ],
      "metadata": {
        "id": "Pbhrh2is1eie",
        "outputId": "0729ed9b-5886-49a4-e115-197eb370a839",
        "colab": {
          "base_uri": "https://localhost:8080/"
        }
      },
      "execution_count": null,
      "outputs": [
        {
          "output_type": "stream",
          "name": "stdout",
          "text": [
            "This is dad's house\n",
            "This is son_1's factory\n",
            "This is dad's house\n",
            "This is son_2's hotel\n"
          ]
        }
      ]
    },
    {
      "cell_type": "markdown",
      "source": [
        "### Multiple inheritance"
      ],
      "metadata": {
        "id": "Q1f_lhhy3PK_"
      }
    },
    {
      "cell_type": "code",
      "source": [
        "# Example 1\n",
        "\n",
        "class dad:\n",
        "\n",
        "  def house(self):\n",
        "    print(\"This is dad's house\")\n",
        "\n",
        "class mom:\n",
        "\n",
        "  def shop(self):\n",
        "    print(\"This is mom's shop\")\n",
        "\n",
        "class daughter(dad,mom):\n",
        "\n",
        "  def factory(self):\n",
        "    print(\"This is daughter factory\")\n",
        "\n",
        "\n",
        "# Calling father and mom using daughter but mom can't access dad, vice versa\n",
        "d = daughter()\n",
        "d.house()\n",
        "d.shop()\n",
        "d.factory()"
      ],
      "metadata": {
        "id": "nNrHYTHW2yiQ",
        "outputId": "ff7ebfaa-4a67-4656-ba25-118966a6a480",
        "colab": {
          "base_uri": "https://localhost:8080/"
        }
      },
      "execution_count": null,
      "outputs": [
        {
          "output_type": "stream",
          "name": "stdout",
          "text": [
            "This is dad's house\n",
            "This is mom's shop\n",
            "This is daughter factory\n"
          ]
        }
      ]
    },
    {
      "cell_type": "markdown",
      "source": [
        "### Hybrid inheritance"
      ],
      "metadata": {
        "id": "_Z9l-06p5p4n"
      }
    },
    {
      "cell_type": "markdown",
      "source": [
        "\n",
        "\n",
        "```\n",
        "-> Using more than 1 type(single, Multilevel, Hierarchy, Multilevel) of inheritance is called Hybrud Inheritance\n",
        "```\n",
        "\n"
      ],
      "metadata": {
        "id": "ayfX4Oxe5uo3"
      }
    },
    {
      "cell_type": "markdown",
      "source": [
        "## Polymorphism"
      ],
      "metadata": {
        "id": "2ZTv2yn-6k1P"
      }
    },
    {
      "cell_type": "markdown",
      "source": [
        "\n",
        "\n",
        "```\n",
        "-> Poly     - Many\n",
        "-> Morohism - Forms\n",
        "```\n",
        "\n"
      ],
      "metadata": {
        "id": "yPeW4gZ-6scv"
      }
    },
    {
      "cell_type": "markdown",
      "source": [
        "### Method overriding"
      ],
      "metadata": {
        "id": "L32Bje-z7CJw"
      }
    },
    {
      "cell_type": "markdown",
      "source": [
        "\n",
        "\n",
        "```\n",
        "# Overriding means creating a new method with the same name of base class for overwrite the code..!!!\n",
        "```\n",
        "\n"
      ],
      "metadata": {
        "id": "gTeGnXoQ8lmA"
      }
    },
    {
      "cell_type": "code",
      "source": [
        "class dad:\n",
        "\n",
        "  def house(self):\n",
        "    print(\"House color is red\")\n",
        "\n",
        "class child(dad):\n",
        "\n",
        "  def factory(self):\n",
        "    print(\"Factory color is yellow\")\n",
        "\n",
        "# Overriding the dad class method without deleting the dad method\n",
        "\n",
        "  def house(self):\n",
        "    print(\"House color is yellow now\")\n",
        "\n",
        "c = child()\n",
        "c.factory()\n",
        "c.house()"
      ],
      "metadata": {
        "id": "sCLujUxn4I13",
        "outputId": "dfa64b16-d473-465b-ab1b-aeb0fde950ff",
        "colab": {
          "base_uri": "https://localhost:8080/"
        }
      },
      "execution_count": null,
      "outputs": [
        {
          "output_type": "stream",
          "name": "stdout",
          "text": [
            "Factory color is yellow\n",
            "House color is yellow now\n"
          ]
        }
      ]
    },
    {
      "cell_type": "markdown",
      "source": [
        "### Method overloading"
      ],
      "metadata": {
        "id": "eZm7NsnP78In"
      }
    },
    {
      "cell_type": "markdown",
      "source": [
        "\n",
        "\n",
        "```\n",
        "# There's no method overloading in Python, because python claims there's no use of that\n",
        "```\n",
        "\n",
        "\n",
        "\n",
        "```\n",
        "# But Overloading means creating a method with same name but diffrent arguments in single class\n",
        "```\n",
        "\n",
        "\n"
      ],
      "metadata": {
        "id": "7GwRRuHw8C4_"
      }
    },
    {
      "cell_type": "markdown",
      "source": [
        "## Abstraction"
      ],
      "metadata": {
        "id": "qSjDVAdQrZTg"
      }
    },
    {
      "cell_type": "markdown",
      "source": [
        "\n",
        "\n",
        "```\n",
        "1. in a Abstract class you can put a rule to next user to implement the given method, It won't run without implent the abs class\n",
        "2. It's should be done only in inherit class.\n",
        "3. You should not create a object for abstract class\n",
        "```\n",
        "\n"
      ],
      "metadata": {
        "id": "NjrR0cImvtN4"
      }
    },
    {
      "cell_type": "code",
      "source": [
        "from abc import ABC, abstractmethod\n",
        "\n",
        "class manager(ABC):\n",
        "\n",
        "  @abstractmethod\n",
        "  def login(self):\n",
        "    pass\n",
        "\n",
        "  @abstractmethod\n",
        "  def logout(self):\n",
        "    pass\n",
        "\n",
        "class senior(manager):\n",
        "\n",
        "  def login(self):\n",
        "    print(\"login implemented\")\n",
        "\n",
        "  def logout(self):\n",
        "    print(\"logout implemented\")\n",
        "\n",
        "s = senior()\n",
        "s.login()\n",
        "s.logout()"
      ],
      "metadata": {
        "id": "OFA9DXov73cX",
        "colab": {
          "base_uri": "https://localhost:8080/"
        },
        "outputId": "a13b9001-4bef-4065-c189-eb33cb50123d"
      },
      "execution_count": null,
      "outputs": [
        {
          "output_type": "stream",
          "name": "stdout",
          "text": [
            "login implemented\n",
            "logout implemented\n"
          ]
        }
      ]
    },
    {
      "cell_type": "code",
      "source": [
        "from abc import ABC, abstractmethod\n",
        "\n",
        "class manager(ABC):\n",
        "\n",
        "  @abstractmethod\n",
        "  def login(self):\n",
        "    pass\n",
        "\n",
        "  @abstractmethod\n",
        "  def logout(self):\n",
        "    pass\n",
        "\n",
        "class senior(manager):\n",
        "\n",
        "  def login(self):\n",
        "    print(\"login implemented\")\n",
        "\n",
        "  # Without implement this it won't run\n",
        "\n",
        "s = senior()\n",
        "s.login()"
      ],
      "metadata": {
        "colab": {
          "base_uri": "https://localhost:8080/",
          "height": 193
        },
        "id": "lzoHisFcwwTC",
        "outputId": "7bd11f99-ef7f-4d15-b786-bbfdd0f36bac"
      },
      "execution_count": null,
      "outputs": [
        {
          "output_type": "error",
          "ename": "TypeError",
          "evalue": "Can't instantiate abstract class senior without an implementation for abstract method 'logout'",
          "traceback": [
            "\u001b[0;31m---------------------------------------------------------------------------\u001b[0m",
            "\u001b[0;31mTypeError\u001b[0m                                 Traceback (most recent call last)",
            "\u001b[0;32m/tmp/ipython-input-1075930132.py\u001b[0m in \u001b[0;36m<cell line: 0>\u001b[0;34m()\u001b[0m\n\u001b[1;32m     18\u001b[0m   \u001b[0;31m# Without implement this it won't run\u001b[0m\u001b[0;34m\u001b[0m\u001b[0;34m\u001b[0m\u001b[0m\n\u001b[1;32m     19\u001b[0m \u001b[0;34m\u001b[0m\u001b[0m\n\u001b[0;32m---> 20\u001b[0;31m \u001b[0ms\u001b[0m \u001b[0;34m=\u001b[0m \u001b[0msenior\u001b[0m\u001b[0;34m(\u001b[0m\u001b[0;34m)\u001b[0m\u001b[0;34m\u001b[0m\u001b[0;34m\u001b[0m\u001b[0m\n\u001b[0m\u001b[1;32m     21\u001b[0m \u001b[0ms\u001b[0m\u001b[0;34m.\u001b[0m\u001b[0mlogin\u001b[0m\u001b[0;34m(\u001b[0m\u001b[0;34m)\u001b[0m\u001b[0;34m\u001b[0m\u001b[0;34m\u001b[0m\u001b[0m\n",
            "\u001b[0;31mTypeError\u001b[0m: Can't instantiate abstract class senior without an implementation for abstract method 'logout'"
          ]
        }
      ]
    },
    {
      "cell_type": "markdown",
      "source": [
        "## Access specifier"
      ],
      "metadata": {
        "id": "qMZrdmQFxxih"
      }
    },
    {
      "cell_type": "markdown",
      "source": [
        "\n",
        "\n",
        "```\n",
        "There are 3 types of Access Specifier\n",
        "1. Private\n",
        "2. Public\n",
        "3. Protected\n",
        "```\n",
        "\n"
      ],
      "metadata": {
        "id": "bjL1exnGyEDo"
      }
    },
    {
      "cell_type": "markdown",
      "source": [
        "### Access specifier - Variables"
      ],
      "metadata": {
        "id": "XPepr-Ss1EqK"
      }
    },
    {
      "cell_type": "markdown",
      "source": [
        "\n",
        "\n",
        "```\n",
        " Acces inside same class\n",
        "```\n",
        "\n"
      ],
      "metadata": {
        "id": "pygI19X35ws6"
      }
    },
    {
      "cell_type": "code",
      "source": [
        "# Acces inside same class\n",
        "class Parent:\n",
        "  def __init__(self):\n",
        "    self.public_var = \"I am a public variable\"\n",
        "    self._protected_var = \"I am a protected variable\"\n",
        "    self.__private_var = \"I am a private variable\"\n",
        "\n",
        "  def access_from_same_class(self):\n",
        "    print(\"Inside parent class:\")\n",
        "    print(\"Public\",self.public_var)\n",
        "    print(\"Protected\",self._protected_var)\n",
        "    print(\"Private\",self.__private_var)\n",
        "\n",
        "p = Parent()\n",
        "print(\"↘️Access from SAME class :\\n\")\n",
        "p.access_from_same_class()\n"
      ],
      "metadata": {
        "id": "ldhy3UvCxjzB",
        "outputId": "899fc67c-ea10-4521-ce35-8a41ebfdcefe",
        "colab": {
          "base_uri": "https://localhost:8080/"
        }
      },
      "execution_count": null,
      "outputs": [
        {
          "output_type": "stream",
          "name": "stdout",
          "text": [
            "↘️Access from SAME class :\n",
            "\n",
            "Inside parent class:\n",
            "Public I am a public variable\n",
            "Protected I am a protected variable\n",
            "Private I am a private variable\n"
          ]
        }
      ]
    },
    {
      "cell_type": "markdown",
      "source": [
        "\n",
        "\n",
        "```\n",
        " Acces from child class\n",
        "```\n",
        "\n"
      ],
      "metadata": {
        "id": "RcvE8AC85qH6"
      }
    },
    {
      "cell_type": "code",
      "source": [
        "# Acces from child class\n",
        "class Parent:\n",
        "  def __init__(self):\n",
        "    self.public_var = \"I am a public variable\"\n",
        "    self._protected_var = \"I am a protected variable\"\n",
        "    self.__private_var = \"I am a private variable\"\n",
        "\n",
        "class Child(Parent):\n",
        "\n",
        "  def access_from_child_class(self):\n",
        "    print(\"Inside child class:\")\n",
        "    print(\"Public\",self.public_var)\n",
        "    print(\"Protected\",self._protected_var)\n",
        "    try:\n",
        "      print(\"Private\",self.__private_var)\n",
        "    except:\n",
        "      print(\"You can't access private variable from child class\")\n",
        "\n",
        "c = Child()\n",
        "print(\"↘️Access from CHILD class :\\n\")\n",
        "c.access_from_child_class()\n"
      ],
      "metadata": {
        "id": "324T82pj1xEp",
        "outputId": "0ca45131-b285-4dea-abff-05be1d376c22",
        "colab": {
          "base_uri": "https://localhost:8080/"
        }
      },
      "execution_count": null,
      "outputs": [
        {
          "output_type": "stream",
          "name": "stdout",
          "text": [
            "↘️Access from CHILD class :\n",
            "\n",
            "Inside child class:\n",
            "Public I am a public variable\n",
            "Protected I am a protected variable\n",
            "You can't access private variable from child class\n"
          ]
        }
      ]
    },
    {
      "cell_type": "code",
      "source": [
        "# Can access Private too with a trick, but it not a good prcatice\n",
        "class Parent:\n",
        "  def __init__(self):\n",
        "    self.public_var = \"I am a public variable\"\n",
        "    self._protected_var = \"I am a protected variable\"\n",
        "    self.__private_var = \"I am a private variable\"\n",
        "\n",
        "class Child(Parent):\n",
        "\n",
        "  def access_from_child_class(self):\n",
        "    print(\"Inside child class:\")\n",
        "    print(\"Public\",self.public_var)\n",
        "    print(\"Protected\",self._protected_var)\n",
        "    try:\n",
        "      print(\"Private\",self._Parent__private_var) # This is the trick(Name mangalin), call the variable using a parent class name\n",
        "    except:\n",
        "      print(\"You can't access private variable from child class\")\n",
        "\n",
        "c = Child()\n",
        "print(\"↘️Access from CHILD class :\\n\")\n",
        "c.access_from_child_class()\n"
      ],
      "metadata": {
        "id": "UtJKUqEj5Ica",
        "outputId": "3ff19839-c2c0-41aa-9d29-60278a9f93e3",
        "colab": {
          "base_uri": "https://localhost:8080/"
        }
      },
      "execution_count": null,
      "outputs": [
        {
          "output_type": "stream",
          "name": "stdout",
          "text": [
            "↘️Access from CHILD class :\n",
            "\n",
            "Inside child class:\n",
            "Public I am a public variable\n",
            "Protected I am a protected variable\n",
            "Private I am a private variable\n"
          ]
        }
      ]
    },
    {
      "cell_type": "markdown",
      "source": [
        "\n",
        "\n",
        "```\n",
        " Acces from stranger class\n",
        "```\n",
        "\n"
      ],
      "metadata": {
        "id": "qLzQNV2r52-6"
      }
    },
    {
      "cell_type": "code",
      "source": [
        "# Acces from stranger class\n",
        "class Parent:\n",
        "  def __init__(self):\n",
        "    self.public_var = \"I am a public variable\"\n",
        "    self._protected_var = \"I am a protected variable\"\n",
        "    self.__private_var = \"I am a private variable\"\n",
        "\n",
        "class stranger:\n",
        "  def access_from_stranger_class(self):\n",
        "    print(\"Inside stranger class:\")\n",
        "    print(\"Public\",self.public_var)\n",
        "    print(\"Proctected\",self._protected_var)\n",
        "    print(\"Private\",self.__private_var)\n",
        "\n",
        "# We can't any one of the var from the unknown class, but we have solution though it's not a good practice\n",
        "\n",
        "s = stranger()\n",
        "print(\"↘️Access from STRANGER class :\\n\")\n",
        "s.access_from_stranger_class()"
      ],
      "metadata": {
        "id": "8ZO4LBjN2NDp",
        "outputId": "9c7ebb51-e9d8-4941-caf1-69f068ae615f",
        "colab": {
          "base_uri": "https://localhost:8080/",
          "height": 349
        }
      },
      "execution_count": null,
      "outputs": [
        {
          "output_type": "stream",
          "name": "stdout",
          "text": [
            "↘️Access from STRANGER class :\n",
            "\n",
            "Inside stranger class:\n"
          ]
        },
        {
          "output_type": "error",
          "ename": "AttributeError",
          "evalue": "'stranger' object has no attribute 'public_var'",
          "traceback": [
            "\u001b[0;31m---------------------------------------------------------------------------\u001b[0m",
            "\u001b[0;31mAttributeError\u001b[0m                            Traceback (most recent call last)",
            "\u001b[0;32m/tmp/ipython-input-2225953148.py\u001b[0m in \u001b[0;36m<cell line: 0>\u001b[0;34m()\u001b[0m\n\u001b[1;32m     17\u001b[0m \u001b[0ms\u001b[0m \u001b[0;34m=\u001b[0m \u001b[0mstranger\u001b[0m\u001b[0;34m(\u001b[0m\u001b[0;34m)\u001b[0m\u001b[0;34m\u001b[0m\u001b[0;34m\u001b[0m\u001b[0m\n\u001b[1;32m     18\u001b[0m \u001b[0mprint\u001b[0m\u001b[0;34m(\u001b[0m\u001b[0;34m\"↘️Access from STRANGER class :\\n\"\u001b[0m\u001b[0;34m)\u001b[0m\u001b[0;34m\u001b[0m\u001b[0;34m\u001b[0m\u001b[0m\n\u001b[0;32m---> 19\u001b[0;31m \u001b[0ms\u001b[0m\u001b[0;34m.\u001b[0m\u001b[0maccess_from_stranger_class\u001b[0m\u001b[0;34m(\u001b[0m\u001b[0;34m)\u001b[0m\u001b[0;34m\u001b[0m\u001b[0;34m\u001b[0m\u001b[0m\n\u001b[0m",
            "\u001b[0;32m/tmp/ipython-input-2225953148.py\u001b[0m in \u001b[0;36maccess_from_stranger_class\u001b[0;34m(self)\u001b[0m\n\u001b[1;32m      9\u001b[0m   \u001b[0;32mdef\u001b[0m \u001b[0maccess_from_stranger_class\u001b[0m\u001b[0;34m(\u001b[0m\u001b[0mself\u001b[0m\u001b[0;34m)\u001b[0m\u001b[0;34m:\u001b[0m\u001b[0;34m\u001b[0m\u001b[0;34m\u001b[0m\u001b[0m\n\u001b[1;32m     10\u001b[0m     \u001b[0mprint\u001b[0m\u001b[0;34m(\u001b[0m\u001b[0;34m\"Inside stranger class:\"\u001b[0m\u001b[0;34m)\u001b[0m\u001b[0;34m\u001b[0m\u001b[0;34m\u001b[0m\u001b[0m\n\u001b[0;32m---> 11\u001b[0;31m     \u001b[0mprint\u001b[0m\u001b[0;34m(\u001b[0m\u001b[0mself\u001b[0m\u001b[0;34m.\u001b[0m\u001b[0mpublic_var\u001b[0m\u001b[0;34m)\u001b[0m\u001b[0;34m\u001b[0m\u001b[0;34m\u001b[0m\u001b[0m\n\u001b[0m\u001b[1;32m     12\u001b[0m     \u001b[0mprint\u001b[0m\u001b[0;34m(\u001b[0m\u001b[0mself\u001b[0m\u001b[0;34m.\u001b[0m\u001b[0m_protected_var\u001b[0m\u001b[0;34m)\u001b[0m\u001b[0;34m\u001b[0m\u001b[0;34m\u001b[0m\u001b[0m\n\u001b[1;32m     13\u001b[0m     \u001b[0mprint\u001b[0m\u001b[0;34m(\u001b[0m\u001b[0mself\u001b[0m\u001b[0;34m.\u001b[0m\u001b[0m__private_var\u001b[0m\u001b[0;34m)\u001b[0m\u001b[0;34m\u001b[0m\u001b[0;34m\u001b[0m\u001b[0m\n",
            "\u001b[0;31mAttributeError\u001b[0m: 'stranger' object has no attribute 'public_var'"
          ]
        }
      ]
    },
    {
      "cell_type": "code",
      "source": [
        "# Can also access from stranger class with a trick\n",
        "\n",
        "class Parent:\n",
        "  def __init__(self):\n",
        "    self.public_var = \"I am a public variable\"\n",
        "    self._protected_var = \"I am a protected variable\"\n",
        "    self.__private_var = \"I am a private variable\"\n",
        "\n",
        "class stranger:\n",
        "  def access_from_stranger_class(self,obj):\n",
        "    print(\"Inside stranger class:\")\n",
        "    print(\"Public\",obj.public_var)\n",
        "    print(\"Protected\",obj._protected_var)\n",
        "    try:\n",
        "      print(\"Private\",obj._Parent__private_var) # The trick(Name mangalin) we used previously\n",
        "    except:\n",
        "      print(\"You can't access private variable through stranger class even if your using a arg.\")\n",
        "\n",
        "\n",
        "p = Parent()\n",
        "s = stranger()\n",
        "print(\"↘️Access from STRANGER class :\\n\")\n",
        "s.access_from_stranger_class(p)"
      ],
      "metadata": {
        "id": "r28fUOAA3U1q",
        "outputId": "516e6009-6af9-4ca1-8c0d-abc3f0dfa552",
        "colab": {
          "base_uri": "https://localhost:8080/"
        }
      },
      "execution_count": null,
      "outputs": [
        {
          "output_type": "stream",
          "name": "stdout",
          "text": [
            "↘️Access from STRANGER class :\n",
            "\n",
            "Inside stranger class:\n",
            "I am a public variable\n",
            "I am a protected variable\n",
            "I am a private variable\n"
          ]
        }
      ]
    },
    {
      "cell_type": "markdown",
      "source": [
        "### Access specifier - Method"
      ],
      "metadata": {
        "id": "T32r_okz6YsS"
      }
    },
    {
      "cell_type": "markdown",
      "source": [
        "* **Note: You can call a method in another method..!**"
      ],
      "metadata": {
        "id": "lKUSTLib7MoC"
      }
    },
    {
      "cell_type": "markdown",
      "source": [
        "\n",
        "\n",
        "```\n",
        " Access from same class\n",
        "```\n",
        "\n"
      ],
      "metadata": {
        "id": "mCF2AfpY91yS"
      }
    },
    {
      "cell_type": "code",
      "source": [
        "# Access from same class\n",
        "\n",
        "class parent:\n",
        "  def public_method(self):\n",
        "    print(\"Public method\")\n",
        "\n",
        "  def _protected_method(self):\n",
        "    print(\"Protected method\")\n",
        "\n",
        "  def __private_method(self):\n",
        "    print(\"Private method\")\n",
        "\n",
        "  def access_from_same_class(self):\n",
        "    print(\"Inside parent class:\")\n",
        "    self.public_method()\n",
        "    self._protected_method()\n",
        "    self.__private_method()\n",
        "\n",
        "p = parent()\n",
        "print(\"↘️Access from SAME class :\\n\")\n",
        "p.access_from_same_class()"
      ],
      "metadata": {
        "id": "o-w_x9_e4rzK",
        "outputId": "32197ce6-3135-4f8c-caf0-8a4b00204a8a",
        "colab": {
          "base_uri": "https://localhost:8080/"
        }
      },
      "execution_count": null,
      "outputs": [
        {
          "output_type": "stream",
          "name": "stdout",
          "text": [
            "↘️Access from SAME class :\n",
            "\n",
            "Inside parent class:\n",
            "Public method\n",
            "Protected method\n",
            "Private method\n"
          ]
        }
      ]
    },
    {
      "cell_type": "markdown",
      "source": [
        "\n",
        "\n",
        "```\n",
        " Access from child class\n",
        "```\n",
        "\n"
      ],
      "metadata": {
        "id": "au7pAHCd-io6"
      }
    },
    {
      "cell_type": "code",
      "source": [
        "# Access from child class\n",
        "\n",
        "class parent:\n",
        "  def public_method(self):\n",
        "    print(\"Public method\")\n",
        "\n",
        "  def _protected_method(self):\n",
        "    print(\"Protected method\")\n",
        "\n",
        "  def __private_method(self):\n",
        "    print(\"Private method\")\n",
        "\n",
        "class child(parent):\n",
        "  def access_from_child_class(self):\n",
        "    print(\"Inside child class:\")\n",
        "    self.public_method()\n",
        "    self._protected_method()\n",
        "    try:\n",
        "      self.__private_method() # We can access with the \"Name mangaling\" trick\n",
        "    except:\n",
        "      print(\"You cant access private method from child class\")\n",
        "\n",
        "c = child()\n",
        "print(\"↘️Access from CHILD class :\\n\")\n",
        "c.access_from_child_class()"
      ],
      "metadata": {
        "id": "ptE_jtq-9TBL",
        "outputId": "ead73da0-5476-49f0-d002-409389303438",
        "colab": {
          "base_uri": "https://localhost:8080/"
        }
      },
      "execution_count": null,
      "outputs": [
        {
          "output_type": "stream",
          "name": "stdout",
          "text": [
            "↘️Access from CHILD class :\n",
            "\n",
            "Inside child class:\n",
            "Public method\n",
            "Protected method\n",
            "You cant access private method from child class\n"
          ]
        }
      ]
    },
    {
      "cell_type": "markdown",
      "source": [
        "\n",
        "\n",
        "```\n",
        " Access from stranger class\n",
        "```\n",
        "\n"
      ],
      "metadata": {
        "id": "P90xuWS5-mIa"
      }
    },
    {
      "cell_type": "code",
      "source": [
        "# Access from the stranger class\n",
        "\n",
        "class parent:\n",
        "  def public_method(self):\n",
        "    print(\"Public method\")\n",
        "\n",
        "  def _protected_method(self): # _ is protected\n",
        "    print(\"Protected method\")\n",
        "\n",
        "  def __private_method(self): # __ is private\n",
        "    print(\"Private method\")\n",
        "\n",
        "class stranger:\n",
        "  def access_from_stranger_class(self):\n",
        "    print(\"Inside stranger class:\")\n",
        "    try:\n",
        "      self.public_method()\n",
        "    except:\n",
        "      print(\"You cant access public method from stranger class\")\n",
        "    try:\n",
        "      self._protected_method()\n",
        "    except:\n",
        "      print(\"You cant access protected method from stranger class\")\n",
        "    try:\n",
        "      self.__private_method() # We can access with the \"Name mangaling\" trick\n",
        "    except:\n",
        "      print(\"You cant access private method from child class\")\n",
        "\n",
        "c = stranger()\n",
        "print(\"↘️Access from STRANGER class :\\n\")\n",
        "c.access_from_stranger_class()"
      ],
      "metadata": {
        "id": "FebRxNjF-seR",
        "outputId": "2afd5c21-1fd0-482b-fcd5-642d945bb7af",
        "colab": {
          "base_uri": "https://localhost:8080/"
        }
      },
      "execution_count": null,
      "outputs": [
        {
          "output_type": "stream",
          "name": "stdout",
          "text": [
            "↘️Access from STRANGER class :\n",
            "\n",
            "Inside stranger class:\n",
            "You cant access public method from stranger class\n",
            "You cant access protected method from stranger class\n",
            "You cant access private method from child class\n"
          ]
        }
      ]
    },
    {
      "cell_type": "markdown",
      "source": [
        "## Encapsulation"
      ],
      "metadata": {
        "id": "7zCkWv6N_12C"
      }
    },
    {
      "cell_type": "code",
      "source": [
        "\n",
        "class order:\n",
        "  def __init__(self, customer_name, items, total_amount, discount):\n",
        "    self.customer_name = customer_name #public var\n",
        "    self.items = items #public var\n",
        "    self.__total_amount = total_amount #private var\n",
        "    self.__discount = discount #private var\n",
        "\n",
        "  def __calculate_final(self): #private method\n",
        "    return self.__total_amount - self.__discount\n",
        "\n",
        "  def _get_admin_view(self):\n",
        "    return {\n",
        "        \"Customer\" : self.customer_name,\n",
        "        \"Items\" : self.items,\n",
        "        \"Total Amount\" : self.__total_amount,\n",
        "        \"Discount\" : self.__discount,\n",
        "        \"Final Amount\" : self.__calculate_final() # Calling the private method\n",
        "    }\n",
        "\n",
        "  def get_customer_view(self): #public method\n",
        "    return {\n",
        "        \"Customer\" : self.customer_name,\n",
        "        \"Items\" : self.items,\n",
        "        \"Final Amount\" : self.__calculate_final()\n",
        "    }\n",
        "\n",
        "\n",
        "# creating seperate class for admin and customer, that's the beauty of Encapsulation\n",
        "\n",
        "class Adminportal:\n",
        "  def show_order(self,order):\n",
        "    return order._get_admin_view()\n",
        "\n",
        "class Customerportal:\n",
        "  def show_order(self,order):\n",
        "    return order.get_customer_view()\n",
        "\n",
        "# Name mangaling is not possible in encapsulation we define it like UI based\n",
        "\n",
        "# Passing input\n",
        "\n",
        "order = order(\"Infant\",[\"Briyani\",\"Pepper chicken\"],600,100)\n",
        "\n",
        "admin = Adminportal()\n",
        "customer = Customerportal()\n",
        "\n",
        "print(\"Admin portal:\")\n",
        "print(admin.show_order(order))\n",
        "print(\"Customer portal:\")\n",
        "print(customer.show_order(order))\n"
      ],
      "metadata": {
        "id": "Gmw2Af4Q_WyL",
        "outputId": "f5c9e9b0-653e-4244-a68a-70d91acd5130",
        "colab": {
          "base_uri": "https://localhost:8080/"
        }
      },
      "execution_count": null,
      "outputs": [
        {
          "output_type": "stream",
          "name": "stdout",
          "text": [
            "Admin portal:\n",
            "{'Customer': 'Infant', 'Items': ['Briyani', 'Pepper chicken'], 'Total Amount': 600, 'Discount': 100, 'Final Amount': 500}\n",
            "Customer portal:\n",
            "{'Customer': 'Infant', 'Items': ['Briyani', 'Pepper chicken'], 'Final Amount': 500}\n"
          ]
        }
      ]
    },
    {
      "cell_type": "code",
      "source": [
        "# We can access calculate menthod even with order class\n",
        "\n",
        "\n",
        "class order:\n",
        "  def __init__(self, customer_name, items, total_amount, discount):\n",
        "    self.customer_name = customer_name #public var\n",
        "    self.items = items #public var\n",
        "    self.__total_amount = total_amount #private var\n",
        "    self.__discount = discount #private var\n",
        "\n",
        "  def __calculate_final(self): #private method\n",
        "    return self.__total_amount - self.__discount\n",
        "\n",
        "  def _get_admin_view(self):\n",
        "    return {\n",
        "        \"Customer\" : self.customer_name,\n",
        "        \"Items\" : self.items,\n",
        "        \"Total Amount\" : self.__total_amount,\n",
        "        \"Discount\" : self.__discount,\n",
        "        \"Final Amount\" : self.__calculate_final() # Calling the private method\n",
        "    }\n",
        "\n",
        "  def get_customer_view(self): #public method\n",
        "    return {\n",
        "        \"Customer\" : self.customer_name,\n",
        "        \"Items\" : self.items,\n",
        "        \"Final Amount\" : self.__calculate_final()\n",
        "    }\n",
        "\n",
        "\n",
        "# creating seperate class for admin and customer, that's the beauty of Encapsulation\n",
        "\n",
        "class Adminportal:\n",
        "  def show_order(self,order):\n",
        "    return order._get_admin_view()\n",
        "\n",
        "class Customerportal:\n",
        "  def show_order(self,order):\n",
        "    return order.get_customer_view()\n",
        "\n",
        "# Name mangaling is not possible in encapsulation we define it like UI based\n",
        "\n",
        "# Passing input\n",
        "\n",
        "order = order(\"Infant\",[\"Briyani\",\"Pepper chicken\"],600,100)\n",
        "\n",
        "admin = Adminportal()\n",
        "customer = Customerportal()\n",
        "\n",
        "print(\"Admin portal:\")\n",
        "print(admin.show_order(order))\n",
        "print(\"Customer portal:\")\n",
        "print(customer.show_order(order))\n"
      ],
      "metadata": {
        "id": "H0e0Tsz1GegM",
        "outputId": "928db8b1-6e44-4e4c-dc36-7d439d945cd8",
        "colab": {
          "base_uri": "https://localhost:8080/"
        }
      },
      "execution_count": null,
      "outputs": [
        {
          "output_type": "stream",
          "name": "stdout",
          "text": [
            "Admin portal:\n",
            "{'Customer': 'Infant', 'Items': ['Briyani', 'Pepper chicken'], 'Total Amount': 600, 'Discount': 100, 'Final Amount': 500}\n",
            "Customer portal:\n",
            "{'Customer': 'Infant', 'Items': ['Briyani', 'Pepper chicken'], 'Final Amount': 500}\n"
          ]
        }
      ]
    },
    {
      "cell_type": "code",
      "source": [],
      "metadata": {
        "id": "_L5R-GW8JWWM"
      },
      "execution_count": null,
      "outputs": []
    },
    {
      "cell_type": "markdown",
      "source": [
        "# Instance VS Class VS Static"
      ],
      "metadata": {
        "id": "_rwr-K2PC-k3"
      }
    },
    {
      "cell_type": "code",
      "source": [
        "class Myclass:\n",
        "\n",
        "  def instance_method(self):\n",
        "    print(\"Called Instance method\")\n",
        "\n",
        "  @classmethod\n",
        "  def class_method(cls):\n",
        "    print(\"Called Class method\")\n",
        "\n",
        "  @staticmethod\n",
        "  def static_method():\n",
        "    print(\"Called Static method\")\n",
        "\n",
        "\n",
        "# Calling the instance method:\n",
        "obj = Myclass()\n",
        "obj.instance_method()\n",
        "\n",
        "# Calling the class method:\n",
        "Myclass.class_method()\n",
        "\n",
        "# Calling the static method:\n",
        "Myclass.static_method()"
      ],
      "metadata": {
        "id": "g8-DeaLBC_Rf",
        "outputId": "d8bf95a5-5e5a-452b-ba91-9394999a290f",
        "colab": {
          "base_uri": "https://localhost:8080/"
        }
      },
      "execution_count": 17,
      "outputs": [
        {
          "output_type": "stream",
          "name": "stdout",
          "text": [
            "Called Instance method\n",
            "Called Class method\n",
            "Called Static method\n"
          ]
        }
      ]
    },
    {
      "cell_type": "markdown",
      "source": [
        "## Class Method"
      ],
      "metadata": {
        "id": "N0aw8IkMEd-Y"
      }
    },
    {
      "cell_type": "code",
      "source": [
        "# Example 1\n",
        "\n",
        "class Employee:\n",
        "  company = \"Google\"\n",
        "\n",
        "  @classmethod\n",
        "  def change_method(cls, new_name):\n",
        "    cls.company = new_name\n",
        "\n",
        "Employee.change_method(\"OpenAI\")\n",
        "print(Employee.company)"
      ],
      "metadata": {
        "id": "8a_IwERmDyhX",
        "outputId": "0e97b4e1-c59e-4b9f-938e-c6e496cbd9a0",
        "colab": {
          "base_uri": "https://localhost:8080/"
        }
      },
      "execution_count": 18,
      "outputs": [
        {
          "output_type": "stream",
          "name": "stdout",
          "text": [
            "OpenAI\n"
          ]
        }
      ]
    },
    {
      "cell_type": "markdown",
      "source": [
        "## Static Method"
      ],
      "metadata": {
        "id": "VRlRWUncJW9W"
      }
    },
    {
      "cell_type": "markdown",
      "source": [
        "\n",
        "\n",
        "```\n",
        "In static we dont need to mention \"self\"\n",
        "```\n",
        "\n"
      ],
      "metadata": {
        "id": "juCvdO7QKRr9"
      }
    },
    {
      "cell_type": "code",
      "source": [
        "class Math:\n",
        "\n",
        "  @staticmethod\n",
        "  def add(x,y): #We dont need to put self here\n",
        "    return(x+y)\n",
        "\n",
        "print(Math.add(1,2))"
      ],
      "metadata": {
        "id": "iQ7MeDyZJVSe",
        "outputId": "ea9fc5d4-6087-4dbd-b0fb-e97b2adbf957",
        "colab": {
          "base_uri": "https://localhost:8080/"
        }
      },
      "execution_count": 22,
      "outputs": [
        {
          "output_type": "stream",
          "name": "stdout",
          "text": [
            "3\n"
          ]
        }
      ]
    },
    {
      "cell_type": "markdown",
      "source": [
        "## Diffrence between them"
      ],
      "metadata": {
        "id": "4kVkV83vK7W9"
      }
    },
    {
      "cell_type": "code",
      "source": [
        "# Example 1\n",
        "\n",
        "class Employee:\n",
        "  company = \"Google\"\n",
        "\n",
        "  @classmethod\n",
        "  def change_method(cls, new_name):\n",
        "    cls.company = new_name # Here we can change the global variable value\n",
        "\n",
        "  @staticmethod\n",
        "  def try_change_company(new_name):\n",
        "    company = new_name # Here we are trying to do that but, it can't\n",
        "\n",
        "\n",
        "Employee.change_method(\"OpenAI\")\n",
        "print(\"After class method\",Employee.company) # It changed the company\n",
        "\n",
        "Employee.try_change_company(\"Tesla\")\n",
        "print(\"After static method\",Employee.company) # But it can't changed the company"
      ],
      "metadata": {
        "id": "lf8Jjja3JpsX",
        "outputId": "22c52d71-b394-4efe-f75b-05939801bd59",
        "colab": {
          "base_uri": "https://localhost:8080/"
        }
      },
      "execution_count": 24,
      "outputs": [
        {
          "output_type": "stream",
          "name": "stdout",
          "text": [
            "After class method OpenAI\n",
            "After static method OpenAI\n"
          ]
        }
      ]
    },
    {
      "cell_type": "markdown",
      "source": [
        "# File handling"
      ],
      "metadata": {
        "id": "8jC58LBTMP-W"
      }
    },
    {
      "cell_type": "markdown",
      "source": [
        "**Mode,Description**\n",
        "\n",
        "* 'r',Read-only (file must exist)\n",
        "* 'w',Write-only (overwrites or creates)\n",
        "* 'a',Append-only (adds to end of file)\n",
        "* 'r+',Read + write (file must exist)\n",
        "* 'w+',Write + read (overwrites or creates)\n",
        "* 'a+',Append + read (creates if not exists)\n",
        "* 'rb',Read binary\n",
        "* 'wb',Write binary\n",
        "* 'ab',Append binary"
      ],
      "metadata": {
        "id": "Ytar6XvnNNw1"
      }
    },
    {
      "cell_type": "code",
      "source": [],
      "metadata": {
        "id": "utocacaMLpf3"
      },
      "execution_count": null,
      "outputs": []
    }
  ]
}