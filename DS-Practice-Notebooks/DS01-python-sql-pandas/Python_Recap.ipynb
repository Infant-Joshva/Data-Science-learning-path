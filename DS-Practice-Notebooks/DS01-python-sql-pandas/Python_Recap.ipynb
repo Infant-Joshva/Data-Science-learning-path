{
  "nbformat": 4,
  "nbformat_minor": 0,
  "metadata": {
    "colab": {
      "provenance": [],
      "toc_visible": true,
      "authorship_tag": "ABX9TyMow9EHd2YC1/lyaUWoUdY9",
      "include_colab_link": true
    },
    "kernelspec": {
      "name": "python3",
      "display_name": "Python 3"
    },
    "language_info": {
      "name": "python"
    }
  },
  "cells": [
    {
      "cell_type": "markdown",
      "metadata": {
        "id": "view-in-github",
        "colab_type": "text"
      },
      "source": [
        "<a href=\"https://colab.research.google.com/github/Infant-Joshva/Data-Science-learning-path/blob/main/DS-Practice-Notebooks/DS01-python-sql-pandas/Python_Recap.ipynb\" target=\"_parent\"><img src=\"https://colab.research.google.com/assets/colab-badge.svg\" alt=\"Open In Colab\"/></a>"
      ]
    },
    {
      "cell_type": "markdown",
      "source": [
        "# Variables and Data types"
      ],
      "metadata": {
        "id": "MrMX6tp82nz3"
      }
    },
    {
      "cell_type": "code",
      "execution_count": null,
      "metadata": {
        "colab": {
          "base_uri": "https://localhost:8080/"
        },
        "id": "CoPUyfKLxYyc",
        "outputId": "d9612fe8-1fd6-4ef8-84a0-eda276e13092"
      },
      "outputs": [
        {
          "output_type": "stream",
          "name": "stdout",
          "text": [
            "10 <class 'int'>\n"
          ]
        }
      ],
      "source": [
        "age = 10\n",
        "print(age, type(age))"
      ]
    },
    {
      "cell_type": "code",
      "source": [
        "price=99.9\n",
        "print(price, type(price))"
      ],
      "metadata": {
        "colab": {
          "base_uri": "https://localhost:8080/"
        },
        "id": "xT98q8lY39P1",
        "outputId": "1e1cfb9a-ee54-4b54-d77f-b27d23866a89"
      },
      "execution_count": null,
      "outputs": [
        {
          "output_type": "stream",
          "name": "stdout",
          "text": [
            "99.9 <class 'float'>\n"
          ]
        }
      ]
    },
    {
      "cell_type": "code",
      "source": [
        "name='Infant joshva'\n",
        "print(name, type(name))"
      ],
      "metadata": {
        "colab": {
          "base_uri": "https://localhost:8080/"
        },
        "id": "jmWt5V_M31Nu",
        "outputId": "697a3243-390e-47e6-a16b-aa5c284429a8"
      },
      "execution_count": null,
      "outputs": [
        {
          "output_type": "stream",
          "name": "stdout",
          "text": [
            "Infant joshva <class 'str'>\n"
          ]
        }
      ]
    },
    {
      "cell_type": "code",
      "source": [
        "is_active = True\n",
        "print(is_active, type(is_active))"
      ],
      "metadata": {
        "colab": {
          "base_uri": "https://localhost:8080/"
        },
        "id": "e5Muk04P37Nk",
        "outputId": "83ce1a17-7450-4b00-d004-2e37ce36c472"
      },
      "execution_count": null,
      "outputs": [
        {
          "output_type": "stream",
          "name": "stdout",
          "text": [
            "True <class 'bool'>\n"
          ]
        }
      ]
    },
    {
      "cell_type": "code",
      "source": [
        "addres = None\n",
        "print(addres, type(addres))"
      ],
      "metadata": {
        "colab": {
          "base_uri": "https://localhost:8080/"
        },
        "id": "Epr_XypP4FaV",
        "outputId": "cc94f2ca-e845-4e08-b773-ce6f38078ea4"
      },
      "execution_count": null,
      "outputs": [
        {
          "output_type": "stream",
          "name": "stdout",
          "text": [
            "None <class 'NoneType'>\n"
          ]
        }
      ]
    },
    {
      "cell_type": "markdown",
      "source": [
        "# Variable scope"
      ],
      "metadata": {
        "id": "AS9BYKoD4oLV"
      }
    },
    {
      "cell_type": "markdown",
      "source": [
        "Local -> Enclosing -> Global -> Build-in"
      ],
      "metadata": {
        "id": "5f9erfHE4qOE"
      }
    },
    {
      "cell_type": "markdown",
      "source": [
        "## Local"
      ],
      "metadata": {
        "id": "DDDYDUwZ46Es"
      }
    },
    {
      "cell_type": "code",
      "source": [
        "# Local variabel is variable inside the function\n",
        "\n",
        "def order(food):\n",
        "  print(food)\n",
        "\n",
        "order('Pizza')"
      ],
      "metadata": {
        "colab": {
          "base_uri": "https://localhost:8080/"
        },
        "id": "9m4XxP7A4JT8",
        "outputId": "49b5d517-66f1-4429-9c15-59674e189547"
      },
      "execution_count": null,
      "outputs": [
        {
          "output_type": "stream",
          "name": "stdout",
          "text": [
            "Pizza\n"
          ]
        }
      ]
    },
    {
      "cell_type": "code",
      "source": [
        "# We cant call the variable givin inside the function is called the local variables\n",
        "print(food)"
      ],
      "metadata": {
        "colab": {
          "base_uri": "https://localhost:8080/",
          "height": 159
        },
        "id": "zs1n9Prt5LSu",
        "outputId": "09daff9d-44a2-4828-94ba-491c3e39ace2"
      },
      "execution_count": null,
      "outputs": [
        {
          "output_type": "error",
          "ename": "NameError",
          "evalue": "name 'food' is not defined",
          "traceback": [
            "\u001b[0;31m---------------------------------------------------------------------------\u001b[0m",
            "\u001b[0;31mNameError\u001b[0m                                 Traceback (most recent call last)",
            "\u001b[0;32m/tmp/ipython-input-1004780339.py\u001b[0m in \u001b[0;36m<cell line: 0>\u001b[0;34m()\u001b[0m\n\u001b[1;32m      1\u001b[0m \u001b[0;31m# We cant call the variable givin inside the function is called the local variables\u001b[0m\u001b[0;34m\u001b[0m\u001b[0;34m\u001b[0m\u001b[0m\n\u001b[0;32m----> 2\u001b[0;31m \u001b[0mprint\u001b[0m\u001b[0;34m(\u001b[0m\u001b[0mfood\u001b[0m\u001b[0;34m)\u001b[0m\u001b[0;34m\u001b[0m\u001b[0;34m\u001b[0m\u001b[0m\n\u001b[0m",
            "\u001b[0;31mNameError\u001b[0m: name 'food' is not defined"
          ]
        }
      ]
    },
    {
      "cell_type": "markdown",
      "source": [
        "## Enclosing"
      ],
      "metadata": {
        "id": "lXdUJx5w5cUN"
      }
    },
    {
      "cell_type": "code",
      "source": [
        "# We can use the variable that was used inside the function like nested function, function inside the function\n",
        "\n",
        "def kart():\n",
        "  discount=10\n",
        "\n",
        "  def applying_discount():\n",
        "    print('Applying the discount',discount,'%')\n",
        "\n",
        "  applying_discount()\n",
        "\n",
        "kart()"
      ],
      "metadata": {
        "colab": {
          "base_uri": "https://localhost:8080/"
        },
        "id": "JcC6uxef5QK8",
        "outputId": "98a57c87-ddd6-4b63-da64-48c8b65dabdf"
      },
      "execution_count": null,
      "outputs": [
        {
          "output_type": "stream",
          "name": "stdout",
          "text": [
            "Applying the discount 10 %\n"
          ]
        }
      ]
    },
    {
      "cell_type": "markdown",
      "source": [
        "## Global"
      ],
      "metadata": {
        "id": "Ir31v6G76xcd"
      }
    },
    {
      "cell_type": "code",
      "source": [
        "# We can use the variable globally in all function\n",
        "\n",
        "user_name = 'Infant Joshva'\n",
        "\n",
        "def home_page():\n",
        "  print('Welcome the home page',user_name)\n",
        "\n",
        "def profile_page():\n",
        "  print('Welcome the profile page',user_name)\n",
        "\n",
        "home_page()\n",
        "profile_page()\n",
        "\n",
        "#here we using the user_name page globally"
      ],
      "metadata": {
        "colab": {
          "base_uri": "https://localhost:8080/"
        },
        "id": "c6UU2tua6MXF",
        "outputId": "07d8b9a5-4376-45fe-c9b9-09a156319193"
      },
      "execution_count": null,
      "outputs": [
        {
          "output_type": "stream",
          "name": "stdout",
          "text": [
            "Welcome the home page Infant Joshva\n",
            "Welcome the profile page Infant Joshva\n"
          ]
        }
      ]
    },
    {
      "cell_type": "markdown",
      "source": [
        "## Build-in"
      ],
      "metadata": {
        "id": "nTs7gohQ7ppW"
      }
    },
    {
      "cell_type": "code",
      "source": [
        "# Some build-in variables created by python is called as \"Buil-in\" variables\n",
        "\n",
        "print(__import__)"
      ],
      "metadata": {
        "colab": {
          "base_uri": "https://localhost:8080/"
        },
        "id": "NrstgvSD7bu8",
        "outputId": "52c86a88-1506-4e02-e844-41d72f17705f"
      },
      "execution_count": null,
      "outputs": [
        {
          "output_type": "stream",
          "name": "stdout",
          "text": [
            "<built-in function __import__>\n"
          ]
        }
      ]
    },
    {
      "cell_type": "markdown",
      "source": [
        "* Coimbining all together"
      ],
      "metadata": {
        "id": "NxXEFEE58roN"
      }
    },
    {
      "cell_type": "code",
      "source": [
        "delivery_parter = 'Swiggy' # Global variable\n",
        "\n",
        "def item():\n",
        "  item = 'Biriyani' #Enclosing variable\n",
        "\n",
        "  def order_quantity():\n",
        "    quantity = 6 #Local variable\n",
        "    print(f\"Ordering {item} amount {quantity}kg via {delivery_parter}\")\n",
        "\n",
        "  order_quantity()\n",
        "\n",
        "item()"
      ],
      "metadata": {
        "colab": {
          "base_uri": "https://localhost:8080/"
        },
        "id": "UsllAR8A8Bec",
        "outputId": "f478f6a5-5c17-42fd-9b04-d33e934edec9"
      },
      "execution_count": null,
      "outputs": [
        {
          "output_type": "stream",
          "name": "stdout",
          "text": [
            "Ordering Biriyani amount 6kg via Swiggy\n"
          ]
        }
      ]
    },
    {
      "cell_type": "code",
      "source": [],
      "metadata": {
        "id": "MibcXL9f92Yt"
      },
      "execution_count": null,
      "outputs": []
    }
  ]
}