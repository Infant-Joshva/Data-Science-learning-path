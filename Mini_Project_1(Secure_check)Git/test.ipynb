{
 "cells": [
  {
   "cell_type": "code",
   "execution_count": 3,
   "id": "8ea06e24",
   "metadata": {},
   "outputs": [
    {
     "name": "stdout",
     "output_type": "stream",
     "text": [
      "['select', 1, 2, 3]\n"
     ]
    }
   ],
   "source": [
    "A=[\"select\"]+[1,2,3]\n",
    "print(A)"
   ]
  },
  {
   "cell_type": "code",
   "execution_count": 5,
   "id": "ef85e6e7",
   "metadata": {},
   "outputs": [
    {
     "name": "stdout",
     "output_type": "stream",
     "text": [
      "\n",
      "        SELECT vehicle_number, COUNT(drugs_related_stop) AS drug_related_stop_count\n",
      "        FROM traffic_stop\n",
      "        WHERE drugs_related_stop = TRUE\n",
      "        GROUP BY vehicle_number\n",
      "        ORDER BY drug_related_stop_count DESC\n",
      "        LIMIT 10;\n",
      "        \n"
     ]
    }
   ],
   "source": [
    "queries = {\n",
    "    \"Top 10 vehicles involved in drug-related stops\":\n",
    "        \"\"\"\n",
    "        SELECT vehicle_number, COUNT(drugs_related_stop) AS drug_related_stop_count\n",
    "        FROM traffic_stop\n",
    "        WHERE drugs_related_stop = TRUE\n",
    "        GROUP BY vehicle_number\n",
    "        ORDER BY drug_related_stop_count DESC\n",
    "        LIMIT 10;\n",
    "        \"\"\",\n",
    "\n",
    "    \"Most frequently searched violations\":\n",
    "        \"\"\"\n",
    "        SELECT violation_raw, COUNT(violation_raw) AS search_count\n",
    "        FROM traffic_stop\n",
    "        WHERE search_conducted = 'TRUE'\n",
    "        GROUP BY violation_raw\n",
    "        ORDER BY search_count DESC\n",
    "        LIMIT 10;\n",
    "        \"\"\",\n",
    "\n",
    "    \"Driver age groups with highest arrest rates\":\n",
    "        \"\"\"\n",
    "        SELECT driver_age_raw, COUNT(is_arrested) AS arrest_count\n",
    "        FROM traffic_stop\n",
    "        WHERE is_arrested = TRUE\n",
    "        GROUP BY driver_age_raw\n",
    "        ORDER BY arrest_count DESC\n",
    "        LIMIT 10;\n",
    "        \"\"\",\n",
    "\n",
    "    \"Gender distribution of drivers stopped in each country\":\n",
    "        \"\"\"\n",
    "        SELECT country_name, driver_gender, COUNT(driver_gender) AS gender_count\n",
    "        FROM traffic_stop\n",
    "        GROUP BY country_name, driver_gender\n",
    "        ORDER BY country_name, gender_count DESC;\n",
    "        \"\"\"\n",
    "}\n",
    "\n",
    "options = [\"-- Select a query --\"] + list(queries)\n",
    "\n",
    "print(queries[\"Top 10 vehicles involved in drug-related stops\"])"
   ]
  },
  {
   "cell_type": "code",
   "execution_count": null,
   "id": "a7e0984b",
   "metadata": {},
   "outputs": [],
   "source": []
  }
 ],
 "metadata": {
  "kernelspec": {
   "display_name": "Python 3",
   "language": "python",
   "name": "python3"
  },
  "language_info": {
   "codemirror_mode": {
    "name": "ipython",
    "version": 3
   },
   "file_extension": ".py",
   "mimetype": "text/x-python",
   "name": "python",
   "nbconvert_exporter": "python",
   "pygments_lexer": "ipython3",
   "version": "3.12.10"
  }
 },
 "nbformat": 4,
 "nbformat_minor": 5
}
