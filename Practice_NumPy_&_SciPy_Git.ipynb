{
  "nbformat": 4,
  "nbformat_minor": 0,
  "metadata": {
    "colab": {
      "provenance": [],
      "toc_visible": true,
      "authorship_tag": "ABX9TyMc9Q3JNfvHoY3QXGPYcKpJ",
      "include_colab_link": true
    },
    "kernelspec": {
      "name": "python3",
      "display_name": "Python 3"
    },
    "language_info": {
      "name": "python"
    }
  },
  "cells": [
    {
      "cell_type": "markdown",
      "metadata": {
        "id": "view-in-github",
        "colab_type": "text"
      },
      "source": [
        "<a href=\"https://colab.research.google.com/github/Infant-Joshva/Data-Science-learning-path/blob/main/Practice_NumPy_%26_SciPy_Git.ipynb\" target=\"_parent\"><img src=\"https://colab.research.google.com/assets/colab-badge.svg\" alt=\"Open In Colab\"/></a>"
      ]
    },
    {
      "cell_type": "markdown",
      "source": [
        "#NumPy Practice Sheet"
      ],
      "metadata": {
        "id": "HBrY-d0UTVaf"
      }
    },
    {
      "cell_type": "code",
      "execution_count": null,
      "metadata": {
        "colab": {
          "base_uri": "https://localhost:8080/"
        },
        "id": "-zE8ZG8PS9TK",
        "outputId": "1aac77ef-2e3e-4c51-b231-9e355defc7c6"
      },
      "outputs": [
        {
          "output_type": "stream",
          "name": "stdout",
          "text": [
            "Requirement already satisfied: numpy in /usr/local/lib/python3.11/dist-packages (2.0.2)\n"
          ]
        }
      ],
      "source": [
        "!pip install numpy"
      ]
    },
    {
      "cell_type": "code",
      "source": [
        "import numpy as np"
      ],
      "metadata": {
        "id": "7YyT1x-2Tdwf"
      },
      "execution_count": null,
      "outputs": []
    },
    {
      "cell_type": "code",
      "source": [
        "print(np.__version__)"
      ],
      "metadata": {
        "colab": {
          "base_uri": "https://localhost:8080/"
        },
        "id": "irP8kcP_TuzW",
        "outputId": "a9d40b5e-30c0-4d27-8ae9-29d5974b28f9"
      },
      "execution_count": null,
      "outputs": [
        {
          "output_type": "stream",
          "name": "stdout",
          "text": [
            "2.0.2\n"
          ]
        }
      ]
    },
    {
      "cell_type": "code",
      "source": [
        "A=np.array([1,2,3,4,5])\n",
        "print(A)\n",
        "print(type(A))"
      ],
      "metadata": {
        "colab": {
          "base_uri": "https://localhost:8080/"
        },
        "id": "r8R5pxmRUhXm",
        "outputId": "193a4bb7-29e0-49cc-a42c-9c41695ed4af"
      },
      "execution_count": null,
      "outputs": [
        {
          "output_type": "stream",
          "name": "stdout",
          "text": [
            "[1 2 3 4 5]\n",
            "<class 'numpy.ndarray'>\n"
          ]
        }
      ]
    },
    {
      "cell_type": "code",
      "source": [
        "B=np.array([[1,2,3],\n",
        "            [4,5,6]])\n",
        "print(B)"
      ],
      "metadata": {
        "colab": {
          "base_uri": "https://localhost:8080/"
        },
        "id": "yqK19F47Uwjm",
        "outputId": "d1ca0f12-a792-4b58-c68c-6f66e50894f6"
      },
      "execution_count": null,
      "outputs": [
        {
          "output_type": "stream",
          "name": "stdout",
          "text": [
            "[[1 2 3]\n",
            " [4 5 6]]\n"
          ]
        }
      ]
    },
    {
      "cell_type": "code",
      "source": [
        "B.shape"
      ],
      "metadata": {
        "colab": {
          "base_uri": "https://localhost:8080/"
        },
        "id": "qly1Xu5CU5w-",
        "outputId": "4a234d79-088f-4d19-9934-7bd5d1cc0ea7"
      },
      "execution_count": null,
      "outputs": [
        {
          "output_type": "execute_result",
          "data": {
            "text/plain": [
              "(2, 3)"
            ]
          },
          "metadata": {},
          "execution_count": 7
        }
      ]
    },
    {
      "cell_type": "code",
      "source": [
        "B.dtype"
      ],
      "metadata": {
        "colab": {
          "base_uri": "https://localhost:8080/"
        },
        "id": "psbqBCX7U-o2",
        "outputId": "3d13bd6a-90fe-48eb-de88-2e09be12aafe"
      },
      "execution_count": null,
      "outputs": [
        {
          "output_type": "execute_result",
          "data": {
            "text/plain": [
              "dtype('int64')"
            ]
          },
          "metadata": {},
          "execution_count": 8
        }
      ]
    },
    {
      "cell_type": "code",
      "source": [
        "C=np.zeros((2,3),dtype=int)\n",
        "C"
      ],
      "metadata": {
        "colab": {
          "base_uri": "https://localhost:8080/"
        },
        "id": "MUbO_9KLVAKu",
        "outputId": "3683d297-01c3-403b-f6bd-bb605ea46ad5"
      },
      "execution_count": null,
      "outputs": [
        {
          "output_type": "execute_result",
          "data": {
            "text/plain": [
              "array([[0, 0, 0],\n",
              "       [0, 0, 0]])"
            ]
          },
          "metadata": {},
          "execution_count": 13
        }
      ]
    },
    {
      "cell_type": "code",
      "source": [
        "C.dtype"
      ],
      "metadata": {
        "colab": {
          "base_uri": "https://localhost:8080/"
        },
        "id": "60H_xZzuVFU1",
        "outputId": "d9522051-366f-4f48-d559-631ef786eb6d"
      },
      "execution_count": null,
      "outputs": [
        {
          "output_type": "execute_result",
          "data": {
            "text/plain": [
              "dtype('int64')"
            ]
          },
          "metadata": {},
          "execution_count": 14
        }
      ]
    },
    {
      "cell_type": "code",
      "source": [
        "D=np.ones((2,3),dtype=int)\n",
        "D"
      ],
      "metadata": {
        "colab": {
          "base_uri": "https://localhost:8080/"
        },
        "id": "TmaxMEF3VOXU",
        "outputId": "3ca5d274-7bc9-4e61-92d3-93ed66b58f34"
      },
      "execution_count": null,
      "outputs": [
        {
          "output_type": "execute_result",
          "data": {
            "text/plain": [
              "array([[1, 1, 1],\n",
              "       [1, 1, 1]])"
            ]
          },
          "metadata": {},
          "execution_count": 15
        }
      ]
    },
    {
      "cell_type": "code",
      "source": [
        "C+D"
      ],
      "metadata": {
        "colab": {
          "base_uri": "https://localhost:8080/"
        },
        "id": "ajpwQf0bVOVO",
        "outputId": "25cfa9c3-54f3-4330-f6f0-abdc54294a41"
      },
      "execution_count": null,
      "outputs": [
        {
          "output_type": "execute_result",
          "data": {
            "text/plain": [
              "array([[1, 1, 1],\n",
              "       [1, 1, 1]])"
            ]
          },
          "metadata": {},
          "execution_count": 16
        }
      ]
    },
    {
      "cell_type": "code",
      "source": [
        "B+D"
      ],
      "metadata": {
        "colab": {
          "base_uri": "https://localhost:8080/"
        },
        "id": "zI_fJ28vVOTO",
        "outputId": "83d42728-a384-442c-9344-0d051fd8a3fe"
      },
      "execution_count": null,
      "outputs": [
        {
          "output_type": "execute_result",
          "data": {
            "text/plain": [
              "array([[2, 3, 4],\n",
              "       [5, 6, 7]])"
            ]
          },
          "metadata": {},
          "execution_count": 17
        }
      ]
    },
    {
      "cell_type": "code",
      "source": [
        "B*D"
      ],
      "metadata": {
        "colab": {
          "base_uri": "https://localhost:8080/"
        },
        "id": "J-zw0mFuVORf",
        "outputId": "69658ac4-e742-4c30-ce08-3c0ea30a6c5a"
      },
      "execution_count": null,
      "outputs": [
        {
          "output_type": "execute_result",
          "data": {
            "text/plain": [
              "array([[1, 2, 3],\n",
              "       [4, 5, 6]])"
            ]
          },
          "metadata": {},
          "execution_count": 18
        }
      ]
    },
    {
      "cell_type": "code",
      "source": [
        "L1=np.array([[10,20,30],[40,50,60],[70,80,90]])\n",
        "L2=np.array([[1,2,3],[4,5,6],[7,8,9]])\n",
        "\n",
        "print(L1+L2)\n",
        "print(L1*L2)\n",
        "print(L1/L2)"
      ],
      "metadata": {
        "colab": {
          "base_uri": "https://localhost:8080/"
        },
        "id": "z4M6gGItVOPm",
        "outputId": "77640a15-d2d6-46ab-e4ae-50100a04e145"
      },
      "execution_count": null,
      "outputs": [
        {
          "output_type": "stream",
          "name": "stdout",
          "text": [
            "[[11 22 33]\n",
            " [44 55 66]\n",
            " [77 88 99]]\n",
            "[[ 10  40  90]\n",
            " [160 250 360]\n",
            " [490 640 810]]\n",
            "[[10. 10. 10.]\n",
            " [10. 10. 10.]\n",
            " [10. 10. 10.]]\n"
          ]
        }
      ]
    },
    {
      "cell_type": "code",
      "source": [
        "np.dot(L1,L2)"
      ],
      "metadata": {
        "colab": {
          "base_uri": "https://localhost:8080/"
        },
        "id": "T_ABfiuhVON2",
        "outputId": "de3e3303-c1c3-4077-ce8f-2622f7ca0869"
      },
      "execution_count": null,
      "outputs": [
        {
          "output_type": "execute_result",
          "data": {
            "text/plain": [
              "array([[ 300,  360,  420],\n",
              "       [ 660,  810,  960],\n",
              "       [1020, 1260, 1500]])"
            ]
          },
          "metadata": {},
          "execution_count": 20
        }
      ]
    },
    {
      "cell_type": "code",
      "source": [
        "L1=np.array([[1,2],[4,5]])\n",
        "L2=np.array([[10,20],[30,40]])\n",
        "\n",
        "print(\"Multiplication of L1 and L2 is:\",L1,L2)\n",
        "print(\"Dot product of L1 and L2\",np.dot(L1,L2))"
      ],
      "metadata": {
        "colab": {
          "base_uri": "https://localhost:8080/"
        },
        "id": "rdrZYXKnVOHu",
        "outputId": "dd69b5ad-7fa9-4f1b-8e8a-11ac15a0968a"
      },
      "execution_count": null,
      "outputs": [
        {
          "output_type": "stream",
          "name": "stdout",
          "text": [
            "Multiplication of L1 and L2 is: [[1 2]\n",
            " [4 5]] [[10 20]\n",
            " [30 40]]\n",
            "Dot product of L1 and L2 [[ 70 100]\n",
            " [190 280]]\n"
          ]
        }
      ]
    },
    {
      "cell_type": "code",
      "source": [
        "Age=[25,30,35,80,30,18,20,30,25,21]\n",
        "\n",
        "Age=np.array(Age)\n",
        "print(Age)\n",
        "print(type(Age))"
      ],
      "metadata": {
        "colab": {
          "base_uri": "https://localhost:8080/"
        },
        "id": "9WeNB9eiW-4W",
        "outputId": "e089557d-4311-4b15-b33c-e02d56e9f126"
      },
      "execution_count": null,
      "outputs": [
        {
          "output_type": "stream",
          "name": "stdout",
          "text": [
            "[25 30 35 80 30 18 20 30 25 21]\n",
            "<class 'numpy.ndarray'>\n"
          ]
        }
      ]
    },
    {
      "cell_type": "code",
      "source": [
        "Age.mean()"
      ],
      "metadata": {
        "colab": {
          "base_uri": "https://localhost:8080/"
        },
        "id": "6SEIyl_fXCe1",
        "outputId": "e7a47662-2f4b-47ad-990c-9939f2f785b0"
      },
      "execution_count": null,
      "outputs": [
        {
          "output_type": "execute_result",
          "data": {
            "text/plain": [
              "np.float64(31.4)"
            ]
          },
          "metadata": {},
          "execution_count": 23
        }
      ]
    },
    {
      "cell_type": "code",
      "source": [
        "Age.max()"
      ],
      "metadata": {
        "colab": {
          "base_uri": "https://localhost:8080/"
        },
        "id": "pgRI2Yy4XFYd",
        "outputId": "d050b042-7be4-4b98-bb83-7037e3715285"
      },
      "execution_count": null,
      "outputs": [
        {
          "output_type": "execute_result",
          "data": {
            "text/plain": [
              "np.int64(80)"
            ]
          },
          "metadata": {},
          "execution_count": 24
        }
      ]
    },
    {
      "cell_type": "code",
      "source": [
        "Age.min()"
      ],
      "metadata": {
        "colab": {
          "base_uri": "https://localhost:8080/"
        },
        "id": "FaYOn21wXHU9",
        "outputId": "72e71bd2-c9f9-4e30-d0fe-4de71eab1f82"
      },
      "execution_count": null,
      "outputs": [
        {
          "output_type": "execute_result",
          "data": {
            "text/plain": [
              "np.int64(18)"
            ]
          },
          "metadata": {},
          "execution_count": 25
        }
      ]
    },
    {
      "cell_type": "code",
      "source": [
        "np.median(Age)"
      ],
      "metadata": {
        "colab": {
          "base_uri": "https://localhost:8080/"
        },
        "id": "hQlZimxNXIhW",
        "outputId": "d679f5be-b969-4fc5-da70-5a439286763d"
      },
      "execution_count": null,
      "outputs": [
        {
          "output_type": "execute_result",
          "data": {
            "text/plain": [
              "np.float64(27.5)"
            ]
          },
          "metadata": {},
          "execution_count": 26
        }
      ]
    },
    {
      "cell_type": "code",
      "source": [
        "np.std(Age)"
      ],
      "metadata": {
        "colab": {
          "base_uri": "https://localhost:8080/"
        },
        "id": "56wQzR6AXaPV",
        "outputId": "c8951e56-17d3-4107-87ec-9626ab5b679c"
      },
      "execution_count": null,
      "outputs": [
        {
          "output_type": "execute_result",
          "data": {
            "text/plain": [
              "np.float64(16.97174121886143)"
            ]
          },
          "metadata": {},
          "execution_count": 27
        }
      ]
    },
    {
      "cell_type": "code",
      "source": [
        "np.var(Age)"
      ],
      "metadata": {
        "colab": {
          "base_uri": "https://localhost:8080/"
        },
        "id": "JePw4nY6XtKt",
        "outputId": "5d2105ee-91f6-44f8-de0d-5fe1df2c0e89"
      },
      "execution_count": null,
      "outputs": [
        {
          "output_type": "execute_result",
          "data": {
            "text/plain": [
              "np.float64(288.04)"
            ]
          },
          "metadata": {},
          "execution_count": 28
        }
      ]
    },
    {
      "cell_type": "markdown",
      "source": [
        "#SciPy"
      ],
      "metadata": {
        "id": "TWbhA27sZ4ke"
      }
    },
    {
      "cell_type": "code",
      "source": [
        "from scipy import stats"
      ],
      "metadata": {
        "id": "q2HRSH9SXzgd"
      },
      "execution_count": null,
      "outputs": []
    },
    {
      "cell_type": "code",
      "source": [
        "stats.mode(Age, keepdims=False)"
      ],
      "metadata": {
        "colab": {
          "base_uri": "https://localhost:8080/"
        },
        "id": "PTsEHeN3Z9YN",
        "outputId": "29965f7c-4cb0-4442-eb66-b10bc040e36e"
      },
      "execution_count": null,
      "outputs": [
        {
          "output_type": "execute_result",
          "data": {
            "text/plain": [
              "ModeResult(mode=np.int64(30), count=np.int64(3))"
            ]
          },
          "metadata": {},
          "execution_count": 30
        }
      ]
    },
    {
      "cell_type": "code",
      "source": [
        "Class1=[20,30,40,40,60]\n",
        "Class2=[40,60,60,60,70]\n",
        "\n",
        "classes_Age=np.array([Class1,Class2])\n",
        "print(classes_Age)"
      ],
      "metadata": {
        "colab": {
          "base_uri": "https://localhost:8080/"
        },
        "id": "_Dcgl81TaNEF",
        "outputId": "35225276-560c-45b6-e4d2-a1c7ab3bf6b1"
      },
      "execution_count": null,
      "outputs": [
        {
          "output_type": "stream",
          "name": "stdout",
          "text": [
            "[[20 30 40 40 60]\n",
            " [40 60 60 60 70]]\n"
          ]
        }
      ]
    },
    {
      "cell_type": "code",
      "source": [
        "stats.mode(classes_Age, keepdims=True,axis=1)"
      ],
      "metadata": {
        "colab": {
          "base_uri": "https://localhost:8080/"
        },
        "id": "Arr8L-0Maspl",
        "outputId": "3ef1da0d-4232-4223-8151-2c418a8d467c"
      },
      "execution_count": null,
      "outputs": [
        {
          "output_type": "execute_result",
          "data": {
            "text/plain": [
              "ModeResult(mode=array([[40],\n",
              "       [60]]), count=array([[2],\n",
              "       [3]]))"
            ]
          },
          "metadata": {},
          "execution_count": 37
        }
      ]
    },
    {
      "cell_type": "code",
      "source": [
        "Salary=[20000,30000,4000,20000,15000,30000,25000,80000,22000]\n",
        "\n",
        "# 5 Number summary\n",
        "\n",
        "print('Min :',np.min(Salary))\n",
        "print('Q1 :',np.percentile(Salary,25))\n",
        "print('Q2 :',np.percentile(Salary,50))\n",
        "print('Q3 :',np.percentile(Salary,75))\n",
        "print('Max :',np.max(Salary))\n",
        "print('IQR :',np.percentile(Salary,75)-np.percentile(Salary,25))"
      ],
      "metadata": {
        "colab": {
          "base_uri": "https://localhost:8080/"
        },
        "id": "yHs4K8YRa0hE",
        "outputId": "657b1d06-d0c5-425b-f063-7a9f1b41d245"
      },
      "execution_count": null,
      "outputs": [
        {
          "output_type": "stream",
          "name": "stdout",
          "text": [
            "Min : 4000\n",
            "Q1 : 20000.0\n",
            "Q2 : 22000.0\n",
            "Q3 : 30000.0\n",
            "Max : 80000\n",
            "IQR : 10000.0\n"
          ]
        }
      ]
    },
    {
      "cell_type": "code",
      "source": [
        "# Filter outlier\n",
        "\n",
        "Q1=np.percentile(Salary,25)\n",
        "Q3=np.percentile(Salary,75)\n",
        "\n",
        "IQR=Q3-Q1\n",
        "\n",
        "print(Q1)\n",
        "print(Q3)\n",
        "print(IQR)"
      ],
      "metadata": {
        "colab": {
          "base_uri": "https://localhost:8080/"
        },
        "id": "S5xUymyFcjkd",
        "outputId": "967e0397-ab82-42ec-8407-2faf16cf1e21"
      },
      "execution_count": null,
      "outputs": [
        {
          "output_type": "stream",
          "name": "stdout",
          "text": [
            "20000.0\n",
            "30000.0\n",
            "10000.0\n"
          ]
        }
      ]
    },
    {
      "cell_type": "code",
      "source": [
        "upper_bound=Q3+(1.5*IQR)\n",
        "lower_bound=Q1-(1.5*IQR)\n",
        "\n",
        "print(upper_bound)\n",
        "print(lower_bound)"
      ],
      "metadata": {
        "colab": {
          "base_uri": "https://localhost:8080/"
        },
        "id": "ZvwAElBMc0B0",
        "outputId": "2922ebd4-ed0a-48b1-9fc0-5bf2e54bc678"
      },
      "execution_count": null,
      "outputs": [
        {
          "output_type": "stream",
          "name": "stdout",
          "text": [
            "45000.0\n",
            "5000.0\n"
          ]
        }
      ]
    },
    {
      "cell_type": "code",
      "source": [
        "# Filter the Outlier\n",
        "\n",
        "New_Data=[]\n",
        "\n",
        "for i in Salary:\n",
        "  if i>=lower_bound and i<=upper_bound:\n",
        "    New_Data.append(i)\n",
        "\n",
        "print(New_Data)"
      ],
      "metadata": {
        "colab": {
          "base_uri": "https://localhost:8080/"
        },
        "id": "RVo6hmsRc3JE",
        "outputId": "2b68b963-3393-4272-e727-bef19d135247"
      },
      "execution_count": null,
      "outputs": [
        {
          "output_type": "stream",
          "name": "stdout",
          "text": [
            "[20000, 30000, 20000, 15000, 30000, 25000, 22000]\n"
          ]
        }
      ]
    },
    {
      "cell_type": "code",
      "source": [
        "import pandas as pd\n",
        "SaL_Detail={'Name':['A','B','C','D','E','F','G','H','I'],'Salary':[20000,30000,4000,20000,15000,30000,25000,80000,22000]}\n",
        "\n",
        "df=pd.DataFrame(SaL_Detail)\n",
        "df"
      ],
      "metadata": {
        "colab": {
          "base_uri": "https://localhost:8080/",
          "height": 331
        },
        "id": "vMn_9_lZc8_d",
        "outputId": "da20ec69-a76e-4bdd-d48e-0ccae322b9d3"
      },
      "execution_count": null,
      "outputs": [
        {
          "output_type": "execute_result",
          "data": {
            "text/plain": [
              "  Name  Salary\n",
              "0    A   20000\n",
              "1    B   30000\n",
              "2    C    4000\n",
              "3    D   20000\n",
              "4    E   15000\n",
              "5    F   30000\n",
              "6    G   25000\n",
              "7    H   80000\n",
              "8    I   22000"
            ],
            "text/html": [
              "\n",
              "  <div id=\"df-9e9b8183-4985-4a45-8a90-7179cfb6fb84\" class=\"colab-df-container\">\n",
              "    <div>\n",
              "<style scoped>\n",
              "    .dataframe tbody tr th:only-of-type {\n",
              "        vertical-align: middle;\n",
              "    }\n",
              "\n",
              "    .dataframe tbody tr th {\n",
              "        vertical-align: top;\n",
              "    }\n",
              "\n",
              "    .dataframe thead th {\n",
              "        text-align: right;\n",
              "    }\n",
              "</style>\n",
              "<table border=\"1\" class=\"dataframe\">\n",
              "  <thead>\n",
              "    <tr style=\"text-align: right;\">\n",
              "      <th></th>\n",
              "      <th>Name</th>\n",
              "      <th>Salary</th>\n",
              "    </tr>\n",
              "  </thead>\n",
              "  <tbody>\n",
              "    <tr>\n",
              "      <th>0</th>\n",
              "      <td>A</td>\n",
              "      <td>20000</td>\n",
              "    </tr>\n",
              "    <tr>\n",
              "      <th>1</th>\n",
              "      <td>B</td>\n",
              "      <td>30000</td>\n",
              "    </tr>\n",
              "    <tr>\n",
              "      <th>2</th>\n",
              "      <td>C</td>\n",
              "      <td>4000</td>\n",
              "    </tr>\n",
              "    <tr>\n",
              "      <th>3</th>\n",
              "      <td>D</td>\n",
              "      <td>20000</td>\n",
              "    </tr>\n",
              "    <tr>\n",
              "      <th>4</th>\n",
              "      <td>E</td>\n",
              "      <td>15000</td>\n",
              "    </tr>\n",
              "    <tr>\n",
              "      <th>5</th>\n",
              "      <td>F</td>\n",
              "      <td>30000</td>\n",
              "    </tr>\n",
              "    <tr>\n",
              "      <th>6</th>\n",
              "      <td>G</td>\n",
              "      <td>25000</td>\n",
              "    </tr>\n",
              "    <tr>\n",
              "      <th>7</th>\n",
              "      <td>H</td>\n",
              "      <td>80000</td>\n",
              "    </tr>\n",
              "    <tr>\n",
              "      <th>8</th>\n",
              "      <td>I</td>\n",
              "      <td>22000</td>\n",
              "    </tr>\n",
              "  </tbody>\n",
              "</table>\n",
              "</div>\n",
              "    <div class=\"colab-df-buttons\">\n",
              "\n",
              "  <div class=\"colab-df-container\">\n",
              "    <button class=\"colab-df-convert\" onclick=\"convertToInteractive('df-9e9b8183-4985-4a45-8a90-7179cfb6fb84')\"\n",
              "            title=\"Convert this dataframe to an interactive table.\"\n",
              "            style=\"display:none;\">\n",
              "\n",
              "  <svg xmlns=\"http://www.w3.org/2000/svg\" height=\"24px\" viewBox=\"0 -960 960 960\">\n",
              "    <path d=\"M120-120v-720h720v720H120Zm60-500h600v-160H180v160Zm220 220h160v-160H400v160Zm0 220h160v-160H400v160ZM180-400h160v-160H180v160Zm440 0h160v-160H620v160ZM180-180h160v-160H180v160Zm440 0h160v-160H620v160Z\"/>\n",
              "  </svg>\n",
              "    </button>\n",
              "\n",
              "  <style>\n",
              "    .colab-df-container {\n",
              "      display:flex;\n",
              "      gap: 12px;\n",
              "    }\n",
              "\n",
              "    .colab-df-convert {\n",
              "      background-color: #E8F0FE;\n",
              "      border: none;\n",
              "      border-radius: 50%;\n",
              "      cursor: pointer;\n",
              "      display: none;\n",
              "      fill: #1967D2;\n",
              "      height: 32px;\n",
              "      padding: 0 0 0 0;\n",
              "      width: 32px;\n",
              "    }\n",
              "\n",
              "    .colab-df-convert:hover {\n",
              "      background-color: #E2EBFA;\n",
              "      box-shadow: 0px 1px 2px rgba(60, 64, 67, 0.3), 0px 1px 3px 1px rgba(60, 64, 67, 0.15);\n",
              "      fill: #174EA6;\n",
              "    }\n",
              "\n",
              "    .colab-df-buttons div {\n",
              "      margin-bottom: 4px;\n",
              "    }\n",
              "\n",
              "    [theme=dark] .colab-df-convert {\n",
              "      background-color: #3B4455;\n",
              "      fill: #D2E3FC;\n",
              "    }\n",
              "\n",
              "    [theme=dark] .colab-df-convert:hover {\n",
              "      background-color: #434B5C;\n",
              "      box-shadow: 0px 1px 3px 1px rgba(0, 0, 0, 0.15);\n",
              "      filter: drop-shadow(0px 1px 2px rgba(0, 0, 0, 0.3));\n",
              "      fill: #FFFFFF;\n",
              "    }\n",
              "  </style>\n",
              "\n",
              "    <script>\n",
              "      const buttonEl =\n",
              "        document.querySelector('#df-9e9b8183-4985-4a45-8a90-7179cfb6fb84 button.colab-df-convert');\n",
              "      buttonEl.style.display =\n",
              "        google.colab.kernel.accessAllowed ? 'block' : 'none';\n",
              "\n",
              "      async function convertToInteractive(key) {\n",
              "        const element = document.querySelector('#df-9e9b8183-4985-4a45-8a90-7179cfb6fb84');\n",
              "        const dataTable =\n",
              "          await google.colab.kernel.invokeFunction('convertToInteractive',\n",
              "                                                    [key], {});\n",
              "        if (!dataTable) return;\n",
              "\n",
              "        const docLinkHtml = 'Like what you see? Visit the ' +\n",
              "          '<a target=\"_blank\" href=https://colab.research.google.com/notebooks/data_table.ipynb>data table notebook</a>'\n",
              "          + ' to learn more about interactive tables.';\n",
              "        element.innerHTML = '';\n",
              "        dataTable['output_type'] = 'display_data';\n",
              "        await google.colab.output.renderOutput(dataTable, element);\n",
              "        const docLink = document.createElement('div');\n",
              "        docLink.innerHTML = docLinkHtml;\n",
              "        element.appendChild(docLink);\n",
              "      }\n",
              "    </script>\n",
              "  </div>\n",
              "\n",
              "\n",
              "    <div id=\"df-29fa794d-6a06-47c4-8cb7-dd7abd809582\">\n",
              "      <button class=\"colab-df-quickchart\" onclick=\"quickchart('df-29fa794d-6a06-47c4-8cb7-dd7abd809582')\"\n",
              "                title=\"Suggest charts\"\n",
              "                style=\"display:none;\">\n",
              "\n",
              "<svg xmlns=\"http://www.w3.org/2000/svg\" height=\"24px\"viewBox=\"0 0 24 24\"\n",
              "     width=\"24px\">\n",
              "    <g>\n",
              "        <path d=\"M19 3H5c-1.1 0-2 .9-2 2v14c0 1.1.9 2 2 2h14c1.1 0 2-.9 2-2V5c0-1.1-.9-2-2-2zM9 17H7v-7h2v7zm4 0h-2V7h2v10zm4 0h-2v-4h2v4z\"/>\n",
              "    </g>\n",
              "</svg>\n",
              "      </button>\n",
              "\n",
              "<style>\n",
              "  .colab-df-quickchart {\n",
              "      --bg-color: #E8F0FE;\n",
              "      --fill-color: #1967D2;\n",
              "      --hover-bg-color: #E2EBFA;\n",
              "      --hover-fill-color: #174EA6;\n",
              "      --disabled-fill-color: #AAA;\n",
              "      --disabled-bg-color: #DDD;\n",
              "  }\n",
              "\n",
              "  [theme=dark] .colab-df-quickchart {\n",
              "      --bg-color: #3B4455;\n",
              "      --fill-color: #D2E3FC;\n",
              "      --hover-bg-color: #434B5C;\n",
              "      --hover-fill-color: #FFFFFF;\n",
              "      --disabled-bg-color: #3B4455;\n",
              "      --disabled-fill-color: #666;\n",
              "  }\n",
              "\n",
              "  .colab-df-quickchart {\n",
              "    background-color: var(--bg-color);\n",
              "    border: none;\n",
              "    border-radius: 50%;\n",
              "    cursor: pointer;\n",
              "    display: none;\n",
              "    fill: var(--fill-color);\n",
              "    height: 32px;\n",
              "    padding: 0;\n",
              "    width: 32px;\n",
              "  }\n",
              "\n",
              "  .colab-df-quickchart:hover {\n",
              "    background-color: var(--hover-bg-color);\n",
              "    box-shadow: 0 1px 2px rgba(60, 64, 67, 0.3), 0 1px 3px 1px rgba(60, 64, 67, 0.15);\n",
              "    fill: var(--button-hover-fill-color);\n",
              "  }\n",
              "\n",
              "  .colab-df-quickchart-complete:disabled,\n",
              "  .colab-df-quickchart-complete:disabled:hover {\n",
              "    background-color: var(--disabled-bg-color);\n",
              "    fill: var(--disabled-fill-color);\n",
              "    box-shadow: none;\n",
              "  }\n",
              "\n",
              "  .colab-df-spinner {\n",
              "    border: 2px solid var(--fill-color);\n",
              "    border-color: transparent;\n",
              "    border-bottom-color: var(--fill-color);\n",
              "    animation:\n",
              "      spin 1s steps(1) infinite;\n",
              "  }\n",
              "\n",
              "  @keyframes spin {\n",
              "    0% {\n",
              "      border-color: transparent;\n",
              "      border-bottom-color: var(--fill-color);\n",
              "      border-left-color: var(--fill-color);\n",
              "    }\n",
              "    20% {\n",
              "      border-color: transparent;\n",
              "      border-left-color: var(--fill-color);\n",
              "      border-top-color: var(--fill-color);\n",
              "    }\n",
              "    30% {\n",
              "      border-color: transparent;\n",
              "      border-left-color: var(--fill-color);\n",
              "      border-top-color: var(--fill-color);\n",
              "      border-right-color: var(--fill-color);\n",
              "    }\n",
              "    40% {\n",
              "      border-color: transparent;\n",
              "      border-right-color: var(--fill-color);\n",
              "      border-top-color: var(--fill-color);\n",
              "    }\n",
              "    60% {\n",
              "      border-color: transparent;\n",
              "      border-right-color: var(--fill-color);\n",
              "    }\n",
              "    80% {\n",
              "      border-color: transparent;\n",
              "      border-right-color: var(--fill-color);\n",
              "      border-bottom-color: var(--fill-color);\n",
              "    }\n",
              "    90% {\n",
              "      border-color: transparent;\n",
              "      border-bottom-color: var(--fill-color);\n",
              "    }\n",
              "  }\n",
              "</style>\n",
              "\n",
              "      <script>\n",
              "        async function quickchart(key) {\n",
              "          const quickchartButtonEl =\n",
              "            document.querySelector('#' + key + ' button');\n",
              "          quickchartButtonEl.disabled = true;  // To prevent multiple clicks.\n",
              "          quickchartButtonEl.classList.add('colab-df-spinner');\n",
              "          try {\n",
              "            const charts = await google.colab.kernel.invokeFunction(\n",
              "                'suggestCharts', [key], {});\n",
              "          } catch (error) {\n",
              "            console.error('Error during call to suggestCharts:', error);\n",
              "          }\n",
              "          quickchartButtonEl.classList.remove('colab-df-spinner');\n",
              "          quickchartButtonEl.classList.add('colab-df-quickchart-complete');\n",
              "        }\n",
              "        (() => {\n",
              "          let quickchartButtonEl =\n",
              "            document.querySelector('#df-29fa794d-6a06-47c4-8cb7-dd7abd809582 button');\n",
              "          quickchartButtonEl.style.display =\n",
              "            google.colab.kernel.accessAllowed ? 'block' : 'none';\n",
              "        })();\n",
              "      </script>\n",
              "    </div>\n",
              "\n",
              "  <div id=\"id_76bf896e-4c3a-4d37-ad7f-1798a2292f36\">\n",
              "    <style>\n",
              "      .colab-df-generate {\n",
              "        background-color: #E8F0FE;\n",
              "        border: none;\n",
              "        border-radius: 50%;\n",
              "        cursor: pointer;\n",
              "        display: none;\n",
              "        fill: #1967D2;\n",
              "        height: 32px;\n",
              "        padding: 0 0 0 0;\n",
              "        width: 32px;\n",
              "      }\n",
              "\n",
              "      .colab-df-generate:hover {\n",
              "        background-color: #E2EBFA;\n",
              "        box-shadow: 0px 1px 2px rgba(60, 64, 67, 0.3), 0px 1px 3px 1px rgba(60, 64, 67, 0.15);\n",
              "        fill: #174EA6;\n",
              "      }\n",
              "\n",
              "      [theme=dark] .colab-df-generate {\n",
              "        background-color: #3B4455;\n",
              "        fill: #D2E3FC;\n",
              "      }\n",
              "\n",
              "      [theme=dark] .colab-df-generate:hover {\n",
              "        background-color: #434B5C;\n",
              "        box-shadow: 0px 1px 3px 1px rgba(0, 0, 0, 0.15);\n",
              "        filter: drop-shadow(0px 1px 2px rgba(0, 0, 0, 0.3));\n",
              "        fill: #FFFFFF;\n",
              "      }\n",
              "    </style>\n",
              "    <button class=\"colab-df-generate\" onclick=\"generateWithVariable('df')\"\n",
              "            title=\"Generate code using this dataframe.\"\n",
              "            style=\"display:none;\">\n",
              "\n",
              "  <svg xmlns=\"http://www.w3.org/2000/svg\" height=\"24px\"viewBox=\"0 0 24 24\"\n",
              "       width=\"24px\">\n",
              "    <path d=\"M7,19H8.4L18.45,9,17,7.55,7,17.6ZM5,21V16.75L18.45,3.32a2,2,0,0,1,2.83,0l1.4,1.43a1.91,1.91,0,0,1,.58,1.4,1.91,1.91,0,0,1-.58,1.4L9.25,21ZM18.45,9,17,7.55Zm-12,3A5.31,5.31,0,0,0,4.9,8.1,5.31,5.31,0,0,0,1,6.5,5.31,5.31,0,0,0,4.9,4.9,5.31,5.31,0,0,0,6.5,1,5.31,5.31,0,0,0,8.1,4.9,5.31,5.31,0,0,0,12,6.5,5.46,5.46,0,0,0,6.5,12Z\"/>\n",
              "  </svg>\n",
              "    </button>\n",
              "    <script>\n",
              "      (() => {\n",
              "      const buttonEl =\n",
              "        document.querySelector('#id_76bf896e-4c3a-4d37-ad7f-1798a2292f36 button.colab-df-generate');\n",
              "      buttonEl.style.display =\n",
              "        google.colab.kernel.accessAllowed ? 'block' : 'none';\n",
              "\n",
              "      buttonEl.onclick = () => {\n",
              "        google.colab.notebook.generateWithVariable('df');\n",
              "      }\n",
              "      })();\n",
              "    </script>\n",
              "  </div>\n",
              "\n",
              "    </div>\n",
              "  </div>\n"
            ],
            "application/vnd.google.colaboratory.intrinsic+json": {
              "type": "dataframe",
              "variable_name": "df",
              "summary": "{\n  \"name\": \"df\",\n  \"rows\": 9,\n  \"fields\": [\n    {\n      \"column\": \"Name\",\n      \"properties\": {\n        \"dtype\": \"string\",\n        \"num_unique_values\": 9,\n        \"samples\": [\n          \"H\",\n          \"B\",\n          \"F\"\n        ],\n        \"semantic_type\": \"\",\n        \"description\": \"\"\n      }\n    },\n    {\n      \"column\": \"Salary\",\n      \"properties\": {\n        \"dtype\": \"number\",\n        \"std\": 21289,\n        \"min\": 4000,\n        \"max\": 80000,\n        \"num_unique_values\": 7,\n        \"samples\": [\n          20000,\n          30000,\n          80000\n        ],\n        \"semantic_type\": \"\",\n        \"description\": \"\"\n      }\n    }\n  ]\n}"
            }
          },
          "metadata": {},
          "execution_count": 45
        }
      ]
    },
    {
      "cell_type": "code",
      "source": [
        "df[(df['Salary']<upper_bound)&(df['Salary']>lower_bound)]"
      ],
      "metadata": {
        "colab": {
          "base_uri": "https://localhost:8080/",
          "height": 269
        },
        "id": "ofy0MVdCd6fk",
        "outputId": "7a77a1f7-3d7c-4fe2-ed83-1f2b1c984023"
      },
      "execution_count": null,
      "outputs": [
        {
          "output_type": "execute_result",
          "data": {
            "text/plain": [
              "  Name  Salary\n",
              "0    A   20000\n",
              "1    B   30000\n",
              "3    D   20000\n",
              "4    E   15000\n",
              "5    F   30000\n",
              "6    G   25000\n",
              "8    I   22000"
            ],
            "text/html": [
              "\n",
              "  <div id=\"df-636290cd-4409-4c05-940f-7de9c1b67c34\" class=\"colab-df-container\">\n",
              "    <div>\n",
              "<style scoped>\n",
              "    .dataframe tbody tr th:only-of-type {\n",
              "        vertical-align: middle;\n",
              "    }\n",
              "\n",
              "    .dataframe tbody tr th {\n",
              "        vertical-align: top;\n",
              "    }\n",
              "\n",
              "    .dataframe thead th {\n",
              "        text-align: right;\n",
              "    }\n",
              "</style>\n",
              "<table border=\"1\" class=\"dataframe\">\n",
              "  <thead>\n",
              "    <tr style=\"text-align: right;\">\n",
              "      <th></th>\n",
              "      <th>Name</th>\n",
              "      <th>Salary</th>\n",
              "    </tr>\n",
              "  </thead>\n",
              "  <tbody>\n",
              "    <tr>\n",
              "      <th>0</th>\n",
              "      <td>A</td>\n",
              "      <td>20000</td>\n",
              "    </tr>\n",
              "    <tr>\n",
              "      <th>1</th>\n",
              "      <td>B</td>\n",
              "      <td>30000</td>\n",
              "    </tr>\n",
              "    <tr>\n",
              "      <th>3</th>\n",
              "      <td>D</td>\n",
              "      <td>20000</td>\n",
              "    </tr>\n",
              "    <tr>\n",
              "      <th>4</th>\n",
              "      <td>E</td>\n",
              "      <td>15000</td>\n",
              "    </tr>\n",
              "    <tr>\n",
              "      <th>5</th>\n",
              "      <td>F</td>\n",
              "      <td>30000</td>\n",
              "    </tr>\n",
              "    <tr>\n",
              "      <th>6</th>\n",
              "      <td>G</td>\n",
              "      <td>25000</td>\n",
              "    </tr>\n",
              "    <tr>\n",
              "      <th>8</th>\n",
              "      <td>I</td>\n",
              "      <td>22000</td>\n",
              "    </tr>\n",
              "  </tbody>\n",
              "</table>\n",
              "</div>\n",
              "    <div class=\"colab-df-buttons\">\n",
              "\n",
              "  <div class=\"colab-df-container\">\n",
              "    <button class=\"colab-df-convert\" onclick=\"convertToInteractive('df-636290cd-4409-4c05-940f-7de9c1b67c34')\"\n",
              "            title=\"Convert this dataframe to an interactive table.\"\n",
              "            style=\"display:none;\">\n",
              "\n",
              "  <svg xmlns=\"http://www.w3.org/2000/svg\" height=\"24px\" viewBox=\"0 -960 960 960\">\n",
              "    <path d=\"M120-120v-720h720v720H120Zm60-500h600v-160H180v160Zm220 220h160v-160H400v160Zm0 220h160v-160H400v160ZM180-400h160v-160H180v160Zm440 0h160v-160H620v160ZM180-180h160v-160H180v160Zm440 0h160v-160H620v160Z\"/>\n",
              "  </svg>\n",
              "    </button>\n",
              "\n",
              "  <style>\n",
              "    .colab-df-container {\n",
              "      display:flex;\n",
              "      gap: 12px;\n",
              "    }\n",
              "\n",
              "    .colab-df-convert {\n",
              "      background-color: #E8F0FE;\n",
              "      border: none;\n",
              "      border-radius: 50%;\n",
              "      cursor: pointer;\n",
              "      display: none;\n",
              "      fill: #1967D2;\n",
              "      height: 32px;\n",
              "      padding: 0 0 0 0;\n",
              "      width: 32px;\n",
              "    }\n",
              "\n",
              "    .colab-df-convert:hover {\n",
              "      background-color: #E2EBFA;\n",
              "      box-shadow: 0px 1px 2px rgba(60, 64, 67, 0.3), 0px 1px 3px 1px rgba(60, 64, 67, 0.15);\n",
              "      fill: #174EA6;\n",
              "    }\n",
              "\n",
              "    .colab-df-buttons div {\n",
              "      margin-bottom: 4px;\n",
              "    }\n",
              "\n",
              "    [theme=dark] .colab-df-convert {\n",
              "      background-color: #3B4455;\n",
              "      fill: #D2E3FC;\n",
              "    }\n",
              "\n",
              "    [theme=dark] .colab-df-convert:hover {\n",
              "      background-color: #434B5C;\n",
              "      box-shadow: 0px 1px 3px 1px rgba(0, 0, 0, 0.15);\n",
              "      filter: drop-shadow(0px 1px 2px rgba(0, 0, 0, 0.3));\n",
              "      fill: #FFFFFF;\n",
              "    }\n",
              "  </style>\n",
              "\n",
              "    <script>\n",
              "      const buttonEl =\n",
              "        document.querySelector('#df-636290cd-4409-4c05-940f-7de9c1b67c34 button.colab-df-convert');\n",
              "      buttonEl.style.display =\n",
              "        google.colab.kernel.accessAllowed ? 'block' : 'none';\n",
              "\n",
              "      async function convertToInteractive(key) {\n",
              "        const element = document.querySelector('#df-636290cd-4409-4c05-940f-7de9c1b67c34');\n",
              "        const dataTable =\n",
              "          await google.colab.kernel.invokeFunction('convertToInteractive',\n",
              "                                                    [key], {});\n",
              "        if (!dataTable) return;\n",
              "\n",
              "        const docLinkHtml = 'Like what you see? Visit the ' +\n",
              "          '<a target=\"_blank\" href=https://colab.research.google.com/notebooks/data_table.ipynb>data table notebook</a>'\n",
              "          + ' to learn more about interactive tables.';\n",
              "        element.innerHTML = '';\n",
              "        dataTable['output_type'] = 'display_data';\n",
              "        await google.colab.output.renderOutput(dataTable, element);\n",
              "        const docLink = document.createElement('div');\n",
              "        docLink.innerHTML = docLinkHtml;\n",
              "        element.appendChild(docLink);\n",
              "      }\n",
              "    </script>\n",
              "  </div>\n",
              "\n",
              "\n",
              "    <div id=\"df-1b614f08-4045-418c-b7cc-e201badd445b\">\n",
              "      <button class=\"colab-df-quickchart\" onclick=\"quickchart('df-1b614f08-4045-418c-b7cc-e201badd445b')\"\n",
              "                title=\"Suggest charts\"\n",
              "                style=\"display:none;\">\n",
              "\n",
              "<svg xmlns=\"http://www.w3.org/2000/svg\" height=\"24px\"viewBox=\"0 0 24 24\"\n",
              "     width=\"24px\">\n",
              "    <g>\n",
              "        <path d=\"M19 3H5c-1.1 0-2 .9-2 2v14c0 1.1.9 2 2 2h14c1.1 0 2-.9 2-2V5c0-1.1-.9-2-2-2zM9 17H7v-7h2v7zm4 0h-2V7h2v10zm4 0h-2v-4h2v4z\"/>\n",
              "    </g>\n",
              "</svg>\n",
              "      </button>\n",
              "\n",
              "<style>\n",
              "  .colab-df-quickchart {\n",
              "      --bg-color: #E8F0FE;\n",
              "      --fill-color: #1967D2;\n",
              "      --hover-bg-color: #E2EBFA;\n",
              "      --hover-fill-color: #174EA6;\n",
              "      --disabled-fill-color: #AAA;\n",
              "      --disabled-bg-color: #DDD;\n",
              "  }\n",
              "\n",
              "  [theme=dark] .colab-df-quickchart {\n",
              "      --bg-color: #3B4455;\n",
              "      --fill-color: #D2E3FC;\n",
              "      --hover-bg-color: #434B5C;\n",
              "      --hover-fill-color: #FFFFFF;\n",
              "      --disabled-bg-color: #3B4455;\n",
              "      --disabled-fill-color: #666;\n",
              "  }\n",
              "\n",
              "  .colab-df-quickchart {\n",
              "    background-color: var(--bg-color);\n",
              "    border: none;\n",
              "    border-radius: 50%;\n",
              "    cursor: pointer;\n",
              "    display: none;\n",
              "    fill: var(--fill-color);\n",
              "    height: 32px;\n",
              "    padding: 0;\n",
              "    width: 32px;\n",
              "  }\n",
              "\n",
              "  .colab-df-quickchart:hover {\n",
              "    background-color: var(--hover-bg-color);\n",
              "    box-shadow: 0 1px 2px rgba(60, 64, 67, 0.3), 0 1px 3px 1px rgba(60, 64, 67, 0.15);\n",
              "    fill: var(--button-hover-fill-color);\n",
              "  }\n",
              "\n",
              "  .colab-df-quickchart-complete:disabled,\n",
              "  .colab-df-quickchart-complete:disabled:hover {\n",
              "    background-color: var(--disabled-bg-color);\n",
              "    fill: var(--disabled-fill-color);\n",
              "    box-shadow: none;\n",
              "  }\n",
              "\n",
              "  .colab-df-spinner {\n",
              "    border: 2px solid var(--fill-color);\n",
              "    border-color: transparent;\n",
              "    border-bottom-color: var(--fill-color);\n",
              "    animation:\n",
              "      spin 1s steps(1) infinite;\n",
              "  }\n",
              "\n",
              "  @keyframes spin {\n",
              "    0% {\n",
              "      border-color: transparent;\n",
              "      border-bottom-color: var(--fill-color);\n",
              "      border-left-color: var(--fill-color);\n",
              "    }\n",
              "    20% {\n",
              "      border-color: transparent;\n",
              "      border-left-color: var(--fill-color);\n",
              "      border-top-color: var(--fill-color);\n",
              "    }\n",
              "    30% {\n",
              "      border-color: transparent;\n",
              "      border-left-color: var(--fill-color);\n",
              "      border-top-color: var(--fill-color);\n",
              "      border-right-color: var(--fill-color);\n",
              "    }\n",
              "    40% {\n",
              "      border-color: transparent;\n",
              "      border-right-color: var(--fill-color);\n",
              "      border-top-color: var(--fill-color);\n",
              "    }\n",
              "    60% {\n",
              "      border-color: transparent;\n",
              "      border-right-color: var(--fill-color);\n",
              "    }\n",
              "    80% {\n",
              "      border-color: transparent;\n",
              "      border-right-color: var(--fill-color);\n",
              "      border-bottom-color: var(--fill-color);\n",
              "    }\n",
              "    90% {\n",
              "      border-color: transparent;\n",
              "      border-bottom-color: var(--fill-color);\n",
              "    }\n",
              "  }\n",
              "</style>\n",
              "\n",
              "      <script>\n",
              "        async function quickchart(key) {\n",
              "          const quickchartButtonEl =\n",
              "            document.querySelector('#' + key + ' button');\n",
              "          quickchartButtonEl.disabled = true;  // To prevent multiple clicks.\n",
              "          quickchartButtonEl.classList.add('colab-df-spinner');\n",
              "          try {\n",
              "            const charts = await google.colab.kernel.invokeFunction(\n",
              "                'suggestCharts', [key], {});\n",
              "          } catch (error) {\n",
              "            console.error('Error during call to suggestCharts:', error);\n",
              "          }\n",
              "          quickchartButtonEl.classList.remove('colab-df-spinner');\n",
              "          quickchartButtonEl.classList.add('colab-df-quickchart-complete');\n",
              "        }\n",
              "        (() => {\n",
              "          let quickchartButtonEl =\n",
              "            document.querySelector('#df-1b614f08-4045-418c-b7cc-e201badd445b button');\n",
              "          quickchartButtonEl.style.display =\n",
              "            google.colab.kernel.accessAllowed ? 'block' : 'none';\n",
              "        })();\n",
              "      </script>\n",
              "    </div>\n",
              "\n",
              "    </div>\n",
              "  </div>\n"
            ],
            "application/vnd.google.colaboratory.intrinsic+json": {
              "type": "dataframe",
              "summary": "{\n  \"name\": \"df[(df['Salary']<upper_bound)&(df['Salary']>lower_bound)]\",\n  \"rows\": 7,\n  \"fields\": [\n    {\n      \"column\": \"Name\",\n      \"properties\": {\n        \"dtype\": \"string\",\n        \"num_unique_values\": 7,\n        \"samples\": [\n          \"A\",\n          \"B\",\n          \"G\"\n        ],\n        \"semantic_type\": \"\",\n        \"description\": \"\"\n      }\n    },\n    {\n      \"column\": \"Salary\",\n      \"properties\": {\n        \"dtype\": \"number\",\n        \"std\": 5550,\n        \"min\": 15000,\n        \"max\": 30000,\n        \"num_unique_values\": 5,\n        \"samples\": [\n          30000,\n          22000,\n          15000\n        ],\n        \"semantic_type\": \"\",\n        \"description\": \"\"\n      }\n    }\n  ]\n}"
            }
          },
          "metadata": {},
          "execution_count": 46
        }
      ]
    },
    {
      "cell_type": "markdown",
      "source": [
        "####Hypothesis-> 1 Sample T-Test(Using Numpy(Manual Calc)"
      ],
      "metadata": {
        "id": "6C0mohmjgsQs"
      }
    },
    {
      "cell_type": "code",
      "source": [
        "## One sample T test\n",
        "\n",
        "# Null Hypo == There is 5 Cm Change in Height while consume complan\n",
        "\n",
        "# Alternate Hypo == There is less than 5 Cm Change in Height while consume complan\n",
        "\n",
        "\n",
        "# Significance Level == 0.1\n",
        "\n",
        "# Alpha == 0.1\n",
        "\n",
        "Height_gain=[3,4,5,5,7,3,3.6,4.8,5,6]\n",
        "\n",
        "# T- Statstics\n",
        "\n",
        "Sample_mean=np.mean(Height_gain)\n",
        "Pop_mean=5\n",
        "Sample_std=np.std(Height_gain)\n",
        "Num_Sample=len(Height_gain)\n",
        "\n",
        "print(Sample_mean)\n",
        "print(Pop_mean)\n",
        "print(Sample_std)\n",
        "print(Num_Sample)"
      ],
      "metadata": {
        "colab": {
          "base_uri": "https://localhost:8080/"
        },
        "id": "B2Pe4Y4ReWI8",
        "outputId": "035f2e48-0aed-48a6-8bc7-fe2c1d528bf4"
      },
      "execution_count": null,
      "outputs": [
        {
          "output_type": "stream",
          "name": "stdout",
          "text": [
            "4.64\n",
            "5\n",
            "1.2126005112979295\n",
            "10\n"
          ]
        }
      ]
    },
    {
      "cell_type": "code",
      "source": [
        "T=(Sample_mean-Pop_mean)/(Sample_std/np.sqrt(Num_Sample))\n",
        "T"
      ],
      "metadata": {
        "colab": {
          "base_uri": "https://localhost:8080/"
        },
        "id": "3kxKb6SZgzUU",
        "outputId": "c72ae9c1-4842-44ee-d820-03b15572c357"
      },
      "execution_count": null,
      "outputs": [
        {
          "output_type": "execute_result",
          "data": {
            "text/plain": [
              "np.float64(-0.938825233086937)"
            ]
          },
          "metadata": {},
          "execution_count": 48
        }
      ]
    },
    {
      "cell_type": "code",
      "source": [
        "T_stat=(Sample_mean-Pop_mean)/(Sample_std/np.sqrt(Num_Sample))\n",
        "T_stat"
      ],
      "metadata": {
        "colab": {
          "base_uri": "https://localhost:8080/"
        },
        "id": "0mTzdAlWg1Gk",
        "outputId": "ade8c56e-84c9-43fe-e56d-1e87aa9d22a7"
      },
      "execution_count": null,
      "outputs": [
        {
          "output_type": "execute_result",
          "data": {
            "text/plain": [
              "np.float64(-0.938825233086937)"
            ]
          },
          "metadata": {},
          "execution_count": 51
        }
      ]
    },
    {
      "cell_type": "code",
      "source": [
        "# Critical T\n",
        "\n",
        "DF=Num_Sample-1\n",
        "Alpha=0.1\n",
        "T_critc=-1.383\n",
        "\n",
        "\n",
        "if T_stat>T_critc:\n",
        "  print(' Accept Alternate Hypothesis: There is less than 5 Cm Change in Height while consume complan')\n",
        "else:\n",
        "  print(' Accept Null Hypothesis: There is 5 Cm Change in Height while consume complan')\n",
        "\n"
      ],
      "metadata": {
        "colab": {
          "base_uri": "https://localhost:8080/"
        },
        "id": "Ldweqr61iJCM",
        "outputId": "7a58f448-f0a7-4fcd-9087-6f4e6ccd30ea"
      },
      "execution_count": null,
      "outputs": [
        {
          "output_type": "stream",
          "name": "stdout",
          "text": [
            " Accept Alternate Hypothesis: There is less than 5 Cm Change in Height while consume complan\n"
          ]
        }
      ]
    },
    {
      "cell_type": "markdown",
      "source": [
        "####Hypothesis->"
      ],
      "metadata": {
        "id": "bVYxiHnMSFqk"
      }
    },
    {
      "cell_type": "markdown",
      "source": [
        "#### 1 Sample T-Test(Using Numpy & SciPy)"
      ],
      "metadata": {
        "id": "589wGxbviY69"
      }
    },
    {
      "cell_type": "code",
      "source": [
        "# Null Hypo: 100 Grm in DairyMilk Chocolate\n",
        "# Alternate Hypo: <100 Grm in DairyMilk Chocolate\n",
        "\n",
        "Dairy_Mily=np.array([98.5,101.5,102.5,100.0,99.0,99.5,97.5,98.0,101.0,100.0,95.5])\n",
        "\n",
        "Sample_mean=np.mean(Dairy_Mily)\n",
        "Pop_mean=100\n",
        "Sample_std=np.std(Dairy_Mily)\n",
        "Num_Sample=len(Dairy_Mily)\n",
        "\n",
        "print(Sample_mean)\n",
        "print(Pop_mean)\n",
        "print(Sample_std)\n",
        "print(Num_Sample)\n",
        "\n"
      ],
      "metadata": {
        "colab": {
          "base_uri": "https://localhost:8080/"
        },
        "id": "8h8av1lliR5b",
        "outputId": "854df7fc-4a60-47cb-e9c6-96c3d7097a14"
      },
      "execution_count": null,
      "outputs": [
        {
          "output_type": "stream",
          "name": "stdout",
          "text": [
            "99.36363636363636\n",
            "100\n",
            "1.8840347069147916\n",
            "11\n"
          ]
        }
      ]
    },
    {
      "cell_type": "code",
      "source": [
        "T_stats,P_value=stats.ttest_1samp(Dairy_Mily,popmean=100)\n",
        "print(T_stats)\n",
        "print(P_value)"
      ],
      "metadata": {
        "colab": {
          "base_uri": "https://localhost:8080/"
        },
        "id": "w2MPx8nklyzk",
        "outputId": "924d9cc7-e40d-423f-ac03-19af22b8c8b8"
      },
      "execution_count": null,
      "outputs": [
        {
          "output_type": "stream",
          "name": "stdout",
          "text": [
            "-1.0681111678200446\n",
            "0.31057617380056224\n"
          ]
        }
      ]
    },
    {
      "cell_type": "code",
      "source": [
        "Alpha=0.05\n",
        "\n",
        "if P_value<Alpha:\n",
        "  print('Reject Null Hypo: 100 Grm in DairyMilk Chocolate')\n",
        "else:\n",
        "  print('Accept Null Hypo: 100 Grm in DairyMilk Chocolate')\n"
      ],
      "metadata": {
        "colab": {
          "base_uri": "https://localhost:8080/"
        },
        "id": "o5kFYRi1l0eD",
        "outputId": "74f7d00c-ee99-4c04-f435-c930f423731a"
      },
      "execution_count": null,
      "outputs": [
        {
          "output_type": "stream",
          "name": "stdout",
          "text": [
            "Accept Null Hypo: 100 Grm in DairyMilk Chocolate\n"
          ]
        }
      ]
    },
    {
      "cell_type": "markdown",
      "source": [
        "#### 2 Sample Test(Using Numpy & SciPy)"
      ],
      "metadata": {
        "id": "TscdiXu7hbdL"
      }
    },
    {
      "cell_type": "markdown",
      "source": [
        "🧪 Scenario: Comparing Exam Scores Between Two Teaching Methods\n",
        "Background:\n",
        "A school wants to evaluate whether a new teaching method leads to better student performance compared to the traditional method. Two groups of students are taught the same subject over the same time period, but with different teaching styles.\n",
        "\n",
        "Group A: 30 students taught using the traditional method\n",
        "\n",
        "Group B: 30 students taught using the new method\n",
        "\n",
        "At the end of the course, both groups take the same standardized test.\n",
        "\n",
        "\n",
        "---\n",
        "\n",
        "\n",
        "🔍 Hypothesis Test: Two-Sample t-Test\n",
        "Objective:\n",
        "To determine whether the mean test scores between the two groups are significantly different.\n",
        "\n",
        "Assumptions:\n",
        "The two samples are independent.\n",
        "\n",
        "The test scores are approximately normally distributed.\n",
        "\n",
        "The variances are equal (or not—this affects which version of the test is used).\n",
        "\n",
        "\n",
        "\n",
        "---\n",
        "\n",
        "📊 Hypotheses:\n",
        "Null Hypothesis (H₀):\n",
        "There is no difference in mean scores between the two groups.\n",
        "\n",
        "\n",
        "Alternative Hypothesis (H₁):\n",
        "There is a difference in mean scores.\n",
        "\n",
        "(This is a two-tailed test. If you expect one method to be better, use a one-tailed test.)\n",
        "\n"
      ],
      "metadata": {
        "id": "KNRB_2xdjiYZ"
      }
    },
    {
      "cell_type": "markdown",
      "source": [
        "📊 Sample Dataset (Scores out of 100):\n",
        "\n",
        "\n",
        "---\n",
        "\n",
        "\n",
        "Group A (Traditional Method)\n",
        "[72, 68, 75, 70, 74, 69, 71, 67, 73, 70]\n",
        "\n",
        "\n",
        "---\n",
        "\n",
        "\n",
        "Group B (New Method)\n",
        "[78, 82, 80, 85, 79, 81, 83, 84, 80, 77]"
      ],
      "metadata": {
        "id": "Sky8cFrekUdD"
      }
    },
    {
      "cell_type": "code",
      "source": [
        "# 2 Sample T-Test\n",
        "import numpy as np\n",
        "from scipy import stats\n",
        "\n",
        "# Sample data for two groups\n",
        "group1 = np.array( [72, 68, 75, 70, 74, 69, 71, 67, 73, 70])  # Sample 1\n",
        "group2 = np.array([78, 82, 80, 85, 79, 81, 83, 84, 80, 77])  # Sample 2\n",
        "\n",
        "t_statistic, p_value = stats.ttest_ind(group1, group2, equal_var=False)\n",
        "\n",
        "print(\"T-statistic:\", t_statistic)\n",
        "print(\"P-value:\", p_value)\n",
        "\n",
        "if p_value < 0.05:\n",
        "    print(\"Reject the null hypothesis. There is a significant difference in mean scores between the two groups.\")\n",
        "else:\n",
        "    print(\"Fail to reject the null hypothesis. There is no significant difference in mean scores between the two groups.\")"
      ],
      "metadata": {
        "id": "xFvWAko4jdij",
        "outputId": "cecef897-3efe-4be5-83ff-73024c052afb",
        "colab": {
          "base_uri": "https://localhost:8080/"
        }
      },
      "execution_count": 3,
      "outputs": [
        {
          "output_type": "stream",
          "name": "stdout",
          "text": [
            "T-statistic: -8.596023825918794\n",
            "P-value: 8.678241057643692e-08\n",
            "Reject the null hypothesis. There is a significant difference in mean scores between the two groups.\n"
          ]
        }
      ]
    },
    {
      "cell_type": "markdown",
      "source": [
        "#### 3.Paired Test(Using Numpy & SciPy)"
      ],
      "metadata": {
        "id": "1TmTTmAtG-jo"
      }
    },
    {
      "cell_type": "code",
      "source": [
        "import numpy as np\n",
        "from scipy.stats import ttest_rel\n",
        "\n",
        "# Sample Data: Test scores of 8 students (Before and After training)\n",
        "before = np.array([60, 65, 70, 58, 80, 76, 72, 68])\n",
        "after  = np.array([65, 70, 75, 60, 85, 80, 74, 70])\n",
        "\n",
        "# Perform Paired T-Test\n",
        "t_stat, p_value = ttest_rel(before, after)\n",
        "\n",
        "# Print the result\n",
        "print(\"T-statistic:\", t_stat)\n",
        "print(\"P-value:\", p_value)\n",
        "\n",
        "# Decision\n",
        "if p_value < 0.05:\n",
        "    print(\"Result: Reject Null → Training had a significant effect\")\n",
        "else:\n",
        "    print(\"Result: Fail to Reject Null → No significant effect from training\")\n"
      ],
      "metadata": {
        "id": "eWoSMZidHCtH",
        "outputId": "16744b7b-c6ca-48a1-a123-597e6b478f51",
        "colab": {
          "base_uri": "https://localhost:8080/"
        }
      },
      "execution_count": 4,
      "outputs": [
        {
          "output_type": "stream",
          "name": "stdout",
          "text": [
            "T-statistic: -7.127864449672373\n",
            "P-value: 0.00018898527232857066\n",
            "Result: Reject Null → Training had a significant effect\n"
          ]
        }
      ]
    },
    {
      "cell_type": "markdown",
      "source": [
        "#### 4.Z-Test (Large Sample)"
      ],
      "metadata": {
        "id": "Wo4Lp8VoRqAq"
      }
    },
    {
      "cell_type": "code",
      "source": [
        "# Sample from a class\n",
        "sample = np.array([78, 76, 74, 79, 77, 80, 75, 73, 76, 78])\n",
        "\n",
        "# Population mean = 75\n",
        "# Use Z-test to check if sample mean ≠ 75\n",
        "\n",
        "sample_mean=np.mean(sample)\n",
        "pop_mean=75\n",
        "sample_std=np.std(sample)\n",
        "num_sample=len(sample)\n",
        "\n",
        "print(sample_mean)\n",
        "print(pop_mean)\n",
        "print(sample_std)\n",
        "print(num_sample)"
      ],
      "metadata": {
        "id": "XqXFxv7HRrS8",
        "outputId": "d0491bff-e12e-478e-982c-527112ab1d8e",
        "colab": {
          "base_uri": "https://localhost:8080/"
        }
      },
      "execution_count": 5,
      "outputs": [
        {
          "output_type": "stream",
          "name": "stdout",
          "text": [
            "76.6\n",
            "75\n",
            "2.1071307505705477\n",
            "10\n"
          ]
        }
      ]
    },
    {
      "cell_type": "code",
      "source": [
        "T_stats,P_value=stats.ttest_1samp(sample,popmean=75)\n",
        "print(T_stats)\n",
        "print(P_value)"
      ],
      "metadata": {
        "id": "BNTmYkXdUHBj",
        "outputId": "a8d1945c-33be-4060-b177-e69d1ae2da2f",
        "colab": {
          "base_uri": "https://localhost:8080/"
        }
      },
      "execution_count": 6,
      "outputs": [
        {
          "output_type": "stream",
          "name": "stdout",
          "text": [
            "2.27797918980599\n",
            "0.04872323324522449\n"
          ]
        }
      ]
    },
    {
      "cell_type": "code",
      "source": [
        "Alpha=0.05\n",
        "\n",
        "if P_value<Alpha:\n",
        "  print('Reject Null Hypo: Sample mean ≠ 75')\n",
        "else:\n",
        "  print('Accept Null Hypo: Sample mean = 75')"
      ],
      "metadata": {
        "id": "N-RE0FZ0UPgC",
        "outputId": "c923fdc6-66cb-4571-f655-09c31b9cea7f",
        "colab": {
          "base_uri": "https://localhost:8080/"
        }
      },
      "execution_count": 7,
      "outputs": [
        {
          "output_type": "stream",
          "name": "stdout",
          "text": [
            "Reject Null Hypo: Sample mean ≠ 75\n"
          ]
        }
      ]
    },
    {
      "cell_type": "markdown",
      "source": [
        "#### 5.Chi-Square Test"
      ],
      "metadata": {
        "id": "UvmIZnmBW0sH"
      }
    },
    {
      "cell_type": "markdown",
      "source": [
        "|        | Coffee | Tea |\n",
        "| ------ | ------ | --- |\n",
        "| Male   | 10     | 5   |\n",
        "| Female | 4      | 11  |\n"
      ],
      "metadata": {
        "id": "wB_4Dq_vW9s4"
      }
    },
    {
      "cell_type": "code",
      "source": [
        "import numpy as np\n",
        "from scipy.stats import chi2_contingency\n",
        "\n",
        "# Create contingency table as NumPy array\n",
        "data = np.array([[10, 5],\n",
        "                 [4, 11]])\n",
        "\n",
        "# Perform test\n",
        "chi2, p, dof, expected = chi2_contingency(data)\n",
        "\n",
        "\n",
        "# Print results\n",
        "print(\"Chi-Square Statistic:\", chi2)\n",
        "print(\"P-value:\", p)\n",
        "print(\"Degrees of Freedom:\", dof)\n",
        "print(\"Expected Frequencies:\\n\", expected)\n",
        "\n",
        "if p < 0.05:\n",
        "    print(\"Reject the null hypothesis. There is a significant association between gender and preference.\")\n",
        "else:\n",
        "    print(\"Fail to reject the null hypothesis. There is no significant association between gender and preference.\")"
      ],
      "metadata": {
        "id": "_tgwLO5oW-No",
        "outputId": "307ac573-b0d4-4d62-89fe-e3dda0b93e1c",
        "colab": {
          "base_uri": "https://localhost:8080/"
        }
      },
      "execution_count": 10,
      "outputs": [
        {
          "output_type": "stream",
          "name": "stdout",
          "text": [
            "Chi-Square Statistic: 3.3482142857142856\n",
            "P-value: 0.06727796053834906\n",
            "Degrees of Freedom: 1\n",
            "Expected Frequencies:\n",
            " [[7. 8.]\n",
            " [7. 8.]]\n",
            "Fail to reject the null hypothesis. There is no significant association between gender and preference.\n"
          ]
        }
      ]
    },
    {
      "cell_type": "markdown",
      "source": [
        "🧮 What Does ANOVA Do?\n",
        "It compares:\n",
        "\n",
        "Variation between groups (Are group means far apart?)\n",
        "Variation within groups (How spread out scores are inside each group)\n",
        "If between-group variation is large compared to within-group variation, then we conclude that at least one group is different."
      ],
      "metadata": {
        "id": "IzCU33cHYZK7"
      }
    },
    {
      "cell_type": "code",
      "source": [
        "from scipy.stats import f_oneway\n",
        "\n",
        "# Test scores from 3 different classes\n",
        "class_a = [85, 90, 88, 75, 95]\n",
        "class_b = [70, 65, 60, 72, 68]\n",
        "class_c = [80, 78, 82, 85, 88]\n",
        "\n",
        "# Perform one-way ANOVA\n",
        "f_stat, p_val = f_oneway(class_a, class_b, class_c)\n",
        "\n",
        "print(f\"F-statistic: {f_stat:.4f}\")\n",
        "print(f\"p-value: {p_val:.4f}\")\n",
        "\n",
        "# Interpret result\n",
        "alpha = 0.05\n",
        "if p_val < alpha:\n",
        "    print(\"Reject the null hypothesis: At least one group is significantly different.\")\n",
        "else:\n",
        "    print(\"Fail to reject the null hypothesis: No significant difference.\")"
      ],
      "metadata": {
        "id": "96tG3bmoXWVY",
        "outputId": "f8dc55da-84ce-4053-e8c0-808a21502e88",
        "colab": {
          "base_uri": "https://localhost:8080/"
        }
      },
      "execution_count": 13,
      "outputs": [
        {
          "output_type": "stream",
          "name": "stdout",
          "text": [
            "F-statistic: 17.2803\n",
            "p-value: 0.0003\n",
            "Reject the null hypothesis: At least one group is significantly different.\n"
          ]
        }
      ]
    },
    {
      "cell_type": "code",
      "source": [],
      "metadata": {
        "id": "7P0ZDQBbYvo7"
      },
      "execution_count": null,
      "outputs": []
    }
  ]
}